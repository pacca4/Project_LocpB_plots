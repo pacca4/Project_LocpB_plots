{
 "cells": [
  {
   "cell_type": "markdown",
   "metadata": {},
   "source": [
    "<hr style=\"border-top-width:4px; border-top-color: #2188bf;\">\n",
    "<img align=\"right\" src=\"images/Logo_Università_Padova.png\" alt=\"Drawing\" style=\"width: 300px\"/>\n",
    "<img align=\"right\" src=\"images/Logo_Physics_of_Data.jpg\" alt=\"Drawing\" style=\"width: 135px\"/>\n",
    "\n",
    "# LoCP (mod.B) Final Project\n",
    "# Study of an upper bound of $\\mathcal{B}(h \\longrightarrow J/\\psi \\gamma)$ in $pp$ collisions at $\\sqrt{s} = 13 \\ \\text{TeV}$\n",
    "\n",
    "### Authors\n",
    "* [**Ardino Rocco**](https://github.com/RoccoA97) (University of Padua)\n",
    "* [**Paccagnella Andrea**](https://github.com/pacca4) (University of Padua)\n",
    "* [**Valente Alessandro**](https://github.com/mastrovalentz) (University of Padua)\n",
    "\n",
    "### Supervisors\n",
    "* Prof. [**Marco Zanetti**](https://github.com/mzanetti79) (University of Padova, CERN)\n",
    "* Dr. [**Alberto Zucchetta**](https://github.com/zucchett) (University of Padova, CERN)\n",
    "\n",
    "### Index <a class=\"anchor\" id=\"LOCP_B_FP.i\"></a>\n",
    "\n",
    "* 1. [**Introduction**](#LOCP_B_FP.1.)\n",
    "    * 1.1. [**Project context and goals**](#LOCP_B_FP.1.1.)\n",
    "    * 1.2. [**Software and needed packages**](#LOCP_B_FP.1.2.)\n",
    "* 2. [**The datasets**](#LOCP_B_FP.2.)\n",
    "    * 2.1. [**Background dataset**](#LOCP_B_FP.2.1.)\n",
    "    * 2.2. [**Signal dataset**](#LOCP_B_FP.2.2.)\n",
    "* 3. [**Slim, Skim, Cut and Selection operations for background reduction**](#LOCP_B_FP.3.)\n",
    "    * 3.1. [**Slimming and Skimming through postprocessor**](#LOCP_B_FP.3.1.)\n",
    "    * 3.2. [**Trigger selection**](#LOCP_B_FP.3.2.)\n",
    "    * 3.3. [**Precision cuts**](#LOCP_B_FP.3.3.)\n",
    "* 4. [**Fit of background and signal distributions**](#LOCP_B_FP.4.)\n",
    "    * 4.1. [**Fit of background distributions**](#LOCP_B_FP.4.1.)\n",
    "    * 4.2. [**Fit of signal distributions**](#LOCP_B_FP.4.2.)\n",
    "* 5. [**Toy Monte Carlo analysis**](#LOCP_B_FP.5.)\n",
    "    * 5.1. [**Definition of the test statistic**](#LOCP_B_FP.5.1.)\n",
    "    * 5.2. [**Definition of the algorithm**](#LOCP_B_FP.5.2.)\n",
    "    * 5.3. [**Validation of the test algorithm for $\\mu=0$**](#LOCP_B_FP.5.3.)\n",
    "    * 5.4. [**Results as a function of $\\mu$**](#LOCP_B_FP.5.4.)\n",
    "* 6. [**Conclusions**](#LOCP_B_FP.6.)\n",
    "\n",
    "<hr style=\"border-top-width:4px; border-top-color: #2188bf;\">"
   ]
  },
  {
   "cell_type": "markdown",
   "metadata": {},
   "source": [
    "<br>\n",
    "<br>\n",
    "<br>\n",
    "<br>\n",
    "<br>"
   ]
  },
  {
   "cell_type": "markdown",
   "metadata": {},
   "source": [
    "<hr style=\"border-top-width:4px; border-top-color: #2188bf;\">\n",
    "\n",
    "## 1. - Introduction <a class=\"anchor\" id=\"LOCP_B_FP.1.\"></a>\n",
    "* [Index](#LOCP_B_FP.i)"
   ]
  },
  {
   "cell_type": "markdown",
   "metadata": {},
   "source": [
    "<br>"
   ]
  },
  {
   "cell_type": "markdown",
   "metadata": {},
   "source": [
    "### 1.1. - Project context and goals <a class=\"anchor\" id=\"LOCP_B_FP.1.1.\"></a>\n",
    "* [Index](#LOCP_B_FP.i)"
   ]
  },
  {
   "cell_type": "markdown",
   "metadata": {},
   "source": [
    "#### **Physics context**\n",
    "\n",
    "In 2012, a new boson with a mass of $125 \\ \\text{GeV}$ was observed in data from the ATLAS and CMS experiments at the CERN LHC. All measurements of the properties of this boson are consistent with those of the Higgs boson ($H$) of the standard model (SM). However, the Yukawa couplings of the Higgs boson to the first- and second-generation quarks are currently only weakly constrained. Rare exclusive decays of the Higgs boson to mesons in association with a photon can be used to explore such couplings. For example, the decay:\n",
    "\n",
    "$$\n",
    "H \\longrightarrow J/\\psi \\gamma\n",
    "$$\n",
    "\n",
    "can probe the Higgs boson coupling to the charm quark. Through CMS detector, a study can be done by considering the subsequent decay of the $J/\\psi$ to $\\mu^+\\mu^-$, which has a SM predicted branching ratio of:\n",
    "\n",
    "$$\n",
    "\\mathcal{B}(H \\rightarrow J/\\psi\\gamma \\rightarrow \\mu^+\\mu^-\\gamma)\n",
    "=\n",
    "\\mathcal{B}(H \\rightarrow J/\\psi\\gamma) \\cdot \\mathcal{B}(J/\\psi \\rightarrow \\mu^+\\mu^-)\n",
    "=\n",
    "3.0 \\cdot 10^{-6} \\cdot 5.9 \\cdot 10^{-2}\n",
    "\\approx\n",
    "1.8 \\cdot 10^{-7}\n",
    "$$\n",
    "\n",
    "This information, combined with the Higgs cross section $\\sigma_H$ and with the total integrated luminosity $\\mathcal{L}$ of LCH, gives an expected number of events of about $1.22$ over 3 years of runs. So, this is quite difficult to observe, but an exclusion upper limit for the branching ratio can be studied through filtering and Monte Carlo techniques."
   ]
  },
  {
   "cell_type": "markdown",
   "metadata": {},
   "source": [
    "#### **Goals**\n",
    "\n",
    "In this project, we consider the **NanoAOD Charmonium** datasets of CMS from 2016, 2017 and 2018 runs (for the background) and a Monte Carlo simulated dataset of $H \\rightarrow J/\\psi \\rightarrow \\mu^+\\mu^-\\gamma$ (for the signal). Our aims are:\n",
    "* **finding an optimal cut** applied to both the datasets in order to filter the background data but at the same time keeping a good fraction of signal events;\n",
    "* **modeling** the filtered background and signal distributions;\n",
    "* **applying a Monte Carlo statistical analysis** to the background plus signal distribution amplified by a factor $\\mu$, namely the signal strength parameter;\n",
    "* **finding a significance** of signal detection depending on $\\mu$, from which we extract the upper limit on the branching ratio."
   ]
  },
  {
   "cell_type": "markdown",
   "metadata": {},
   "source": [
    "<br>"
   ]
  },
  {
   "cell_type": "markdown",
   "metadata": {},
   "source": [
    "### 1.2. - Software and needed packages <a class=\"anchor\" id=\"LOCP_B_FP.1.2.\"></a>\n",
    "* [Index](#LOCP_B_FP.i)"
   ]
  },
  {
   "cell_type": "markdown",
   "metadata": {},
   "source": [
    "The whole analysis has been performed on the **ROOT** analysis framework, implementing several macros in **c++ language** and some **bash scripts** to automate the workflow. The source code can be found [**here**](https://github.com/pacca4/Project_LocpB_plots). For this report, the **pyROOT** extension is exploited."
   ]
  },
  {
   "cell_type": "markdown",
   "metadata": {},
   "source": [
    "Here, we import all the needed python and ROOT packages for the report."
   ]
  },
  {
   "cell_type": "markdown",
   "metadata": {},
   "source": [
    "#### **pyROOT packages**"
   ]
  },
  {
   "cell_type": "code",
   "execution_count": 1,
   "metadata": {},
   "outputs": [
    {
     "name": "stdout",
     "output_type": "stream",
     "text": [
      "Welcome to JupyROOT 6.18/04\n"
     ]
    }
   ],
   "source": [
    "import ROOT\n",
    "\n",
    "from ROOT import TCanvas\n",
    "from ROOT import TH1F"
   ]
  },
  {
   "cell_type": "markdown",
   "metadata": {},
   "source": [
    "#### **Python packages**"
   ]
  },
  {
   "cell_type": "code",
   "execution_count": 2,
   "metadata": {},
   "outputs": [],
   "source": [
    "import numpy as np\n",
    "import matplotlib.pyplot as plt\n",
    "import matplotlib.image as mpimg\n",
    "import scipy as sp"
   ]
  },
  {
   "cell_type": "markdown",
   "metadata": {},
   "source": [
    "<hr style=\"border-top-width:4px; border-top-color: #2188bf;\">"
   ]
  },
  {
   "cell_type": "markdown",
   "metadata": {},
   "source": [
    "<br>\n",
    "<br>\n",
    "<br>"
   ]
  },
  {
   "cell_type": "markdown",
   "metadata": {},
   "source": [
    "<hr style=\"border-top-width:4px; border-top-color: #2188bf;\">\n",
    "\n",
    "## 2. - The datasets <a class=\"anchor\" id=\"LOCP_B_FP.2.\"></a>\n",
    "* [Index](#LOCP_B_FP.i)"
   ]
  },
  {
   "cell_type": "markdown",
   "metadata": {},
   "source": [
    "For our analysis, we employ two datasets, one for background data and one for signal. The latter is simulated through Monte Carlo generation software like MadGraph5, taking into account the hadronization and the detector response through other sotwares like Pythia and Delphi."
   ]
  },
  {
   "cell_type": "markdown",
   "metadata": {},
   "source": [
    "<br>"
   ]
  },
  {
   "cell_type": "markdown",
   "metadata": {},
   "source": [
    "### 2.1. - Background dataset <a class=\"anchor\" id=\"LOCP_B_FP.2.1.\"></a>\n",
    "* [Index](#LOCP_B_FP.i)"
   ]
  },
  {
   "cell_type": "markdown",
   "metadata": {},
   "source": [
    "The background dataset is the collection of the **NanoAOD** files belonging to the **Charmonium list**. It contains the filtered data from CMS experiment collected from the runs from 2016 to 2018. Note that the NanoAOD format comes from the last part of pre-selection events and its weigth is of the order of **~1 kB/event**. This is very small compared to the weigth of about ~1 MB/event of raw data coming from the trigger."
   ]
  },
  {
   "cell_type": "markdown",
   "metadata": {},
   "source": [
    "<br>"
   ]
  },
  {
   "cell_type": "markdown",
   "metadata": {},
   "source": [
    "### 2.2. - Signal dataset <a class=\"anchor\" id=\"LOCP_B_FP.2.2.\"></a>\n",
    "* [Index](#LOCP_B_FP.i)"
   ]
  },
  {
   "cell_type": "markdown",
   "metadata": {},
   "source": [
    "The signal dataset is a Monte Carlo simulation of the decay $H \\longrightarrow J/\\psi \\gamma$, coming as well as the background files in the NanoAOD format."
   ]
  },
  {
   "cell_type": "markdown",
   "metadata": {},
   "source": [
    "<hr style=\"border-top-width:4px; border-top-color: #2188bf;\">"
   ]
  },
  {
   "cell_type": "markdown",
   "metadata": {},
   "source": [
    "<br>\n",
    "<br>\n",
    "<br>"
   ]
  },
  {
   "cell_type": "markdown",
   "metadata": {},
   "source": [
    "<hr style=\"border-top-width:4px; border-top-color: #2188bf;\">\n",
    "\n",
    "## 3. - Slim, Skim, Cut and Selection operations for background reduction <a class=\"anchor\" id=\"LOCP_B_FP.3.\"></a>\n",
    "* [Index](#LOCP_B_FP.i)"
   ]
  },
  {
   "cell_type": "markdown",
   "metadata": {},
   "source": [
    "Since the number of background events is too huge for our purpuse, the first part of our work is reducing this dataset through several operations done in order:\n",
    "* **Slimming**: we are interested only in certain physical features and triggers inside the background files, so we keep only the branches useful for the following analysis and for reconstructing some other interesting features. All the rest is not kept.\n",
    "* **Skimming**: not all the events are interesting for our analysis, in particular the ones which do not satisfy a certain condition on the luminosity during their collection. In the new slimmed and skimmed files, these events will not be present.\n",
    "* **Cutting**: a candidate signal is characterized by certain kinematic conditions. Therefore, some upper and/or lower bounds on some kinematic features have to be set. The events which do not meet these conditions will not be considered.\n",
    "* **Selection**: as before, there are some conditions that signal events should meet. Some of them are condensed inside the High Level Triggers (HLTs), which are substantially a bool that is `true` if a characteristic condition is met, otherwise it flags `false`.\n",
    "\n",
    "In the following subsections, we explain in a deeper way this procedure and we present its results."
   ]
  },
  {
   "cell_type": "markdown",
   "metadata": {},
   "source": [
    "<br>"
   ]
  },
  {
   "cell_type": "markdown",
   "metadata": {},
   "source": [
    "### 3.1. - Slimming and Skimming through postprocessor  <a class=\"anchor\" id=\"LOCP_B_FP.3.1.\"></a>\n",
    "* [Index](#LOCP_B_FP.i)\n",
    "\n"
   ]
  },
  {
   "cell_type": "markdown",
   "metadata": {},
   "source": [
    "In the first part of background data reduction, we perform the following operation:\n",
    "* event selection based on actual luminosity during the acquisition;\n",
    "* event selection based on the presence of at least 2 muons and a photon;\n",
    "* invariant mass computation of the dimuon and the dimuon plus a photon;\n",
    "* event selection based on raw cuts on kinematic variables.\n",
    "\n",
    "Therefore, the first thing the events must satisfy is to belong to one of the optimal luminosity blocks. This information is stored in several JSON formatted text files. Then, the remaining events are required to satisfy the following properties:\n",
    "- $\\color{green}{m_{\\mu\\mu\\gamma}\\in[70, 150] \\ \\text{GeV}/c^2}$, where $m_{\\mu\\mu\\gamma}$ is the $\\mu\\mu\\gamma$ invariant mass;\n",
    "- $\\color{green}{m_{\\mu\\mu}\\in [2.8, 3.3] \\ \\text{GeV}/c^2}$, where $m_{\\mu\\mu}$ is the $\\mu\\mu$ invariant mass;\n",
    "- $\\color{green}{p_{T,\\mu_1}>10 \\ \\text{GeV}/c}$, where $p_{T,\\mu_1}$ is the leading muon transverse momementum;\n",
    "- $\\color{green}{p_{T\\gamma}>20 \\ \\text{GeV}/c}$, where $p_{T,\\gamma}$ is the photon transverse momementum.\n",
    "\n",
    "By this way, we obtain a smaller dataset, deleting lots of events which do not belong to our case study.\n",
    "\n",
    "\n"
   ]
  },
  {
   "cell_type": "markdown",
   "metadata": {},
   "source": [
    "Although in the slimming operation we remove several branches from root files, it is convenient for the following analysis to add new branches to store useful observables for signal over background discrimination when we monitorate the difference from Monte Carlo simulated dataset.\n",
    "\n",
    "The new main physical observables computed are:\n",
    "* **`JPsi_mass`**: the reconstructed mass of the candidate $J/\\psi$. \n",
    "<!-- It is computed through: $$\\sqrt{2P_{T1}P_{T2}(cosh(\\eta_1-\\eta_2)-cos(\\phi_1-\\phi_2))}$$ where $\\eta$ is a  pseudo-rapidity; -->\n",
    "* **`JPsi_pt`**: the transverse momentum $p_T$ of the candidate $J/\\psi$;\n",
    "* **`JPsi_eta`**: the pseudorapidity $\\eta$ of the candidate $J/\\psi$;\n",
    "* **`JPsi_phi`**: the azimuthal angle $\\phi$ of the candidate $J/\\psi$;\n",
    "\n",
    "* **`Reco_mass`**: the reconstructed mass of the candidate $h$;\n",
    "* **`Reco_pt`**: the transverse momentum $p_T$ of the candidate $h$;\n",
    "* **`Reco_eta`**: the pseudorapidity $\\eta$ of the candidate $h$;\n",
    "* **`Reco_phi`**: the azimuthal angle $\\phi$ of the candidate $h$.\n",
    "\n",
    "Some other classes of features are added for further analysis, where we perform precision cuts:\n",
    "* **`DeltaR`**: the $\\Delta R$ between two particles, defined as:\n",
    "\n",
    "    $$\n",
    "    \\Delta R = \\sqrt{(\\Delta\\phi)^2+(\\Delta\\eta)^2}\n",
    "    $$\n",
    "\n",
    "* **`AngleCM`**: the cosine angle between two particles in the center of mass frame, computed as:\n",
    "\n",
    "    $$\n",
    "    \\cos\\theta = \\frac{\\vec{v_1}^*\\cdot\\vec{v_2^*}} {|\\vec{v_1^*}|\\cdot|\\vec{v_2^*}|}\n",
    "    $$\n",
    "\n",
    "* **`DeltaPhiCM`**: the $\\phi$ angle between two particles in the center of mass frame;\n",
    "\n",
    "* **`DeltaRCM`**: the $\\Delta R$ between two particles in the center of mass frame.\n",
    "<!-- $\\triangle R = \\sqrt{(\\triangle\\phi^*)^2+(\\triangle\\eta^*)^2}$ -->\n",
    "\n",
    "The angular variables are computed by boosting the particles momenta to the center of mass frame of the reconstructed particles. In the reference frame the $\\Delta R$, $\\Delta \\phi$ and $\\Delta \\eta$ are computed alongside with the angle between the tracks.\n",
    "\n",
    "All these operations are performed by implementing a python class called **postprocessor**, where all the manipulations on the root files are inserted. In particular, this class is instantiated inside a python CMS script, which takes also the JSON files for the optimal luminosity blocks.\n",
    "\n",
    "The results for some of the most meaningful observables are reported below.\n",
    "<table>\n",
    "    <tr>\n",
    "        <td valign=\"top\"><img src=\"images/Photon_etaSkimmed.png\"></td>\n",
    "        <td valign=\"top\"><img src=\"images/Photon_pt[0]Skimmed.png\"></td> \n",
    "    </tr>\n",
    "    <td valign=\"top\"><img src=\"images/Muon_pt[0]Skimmed.png\"></td>\n",
    "    <td valign=\"top\"><img src=\"images/Muon_pt[1]Skimmed.png\"></td>       \n",
    "</table>"
   ]
  },
  {
   "cell_type": "markdown",
   "metadata": {},
   "source": [
    "From this plots, we are able to decide which can be reasonable further cuts to apply. These are:\n",
    "* $\\color{green}{q_{\\mu_1} \\neq q_{\\mu_2}}$ (leading and subleading muons poss diffrent electric charges);\n",
    "* $\\color{green}{p_{T,\\mu_1}>15 \\ \\text{GeV}/c}$;\n",
    "* $\\color{green}{p_{T,\\mu_2}>2 \\ \\text{GeV}/c}$;\n",
    "* $\\color{green}{p_{T,\\gamma}>25 \\ \\text{GeV}/c}$;\n",
    "* $\\color{green}{\\eta_{\\gamma}<2.9}$.\n"
   ]
  },
  {
   "cell_type": "markdown",
   "metadata": {},
   "source": [
    "<br>"
   ]
  },
  {
   "cell_type": "markdown",
   "metadata": {},
   "source": [
    "### 3.2. - Trigger selection  <a class=\"anchor\" id=\"LOCP_B_FP.3.2.\"></a>\n",
    "* [Index](#LOCP_B_FP.i)"
   ]
  },
  {
   "cell_type": "markdown",
   "metadata": {},
   "source": [
    "The next step in background reduction is a finer selection through some selected trigger conditions.\n",
    "\n",
    "The choice of a particular trigger has to be discussed since a trigger can be present only in a limited portion of the ROOT files analyzed. After checking which are the valid triggers present in every file, an optimal choice should rely on the efficiency of the trigger for signal events selection and on thr physical problem we are studying. This means that a good trigger condition for our study is one that cuts a sufficiently large portion of background events but a little portion of signal events. Hence, we define the efficiency of a trigger as the signal events kept in percentage after its application.\n",
    "\n",
    "We check the efficiency for every valid trigger in the following cell."
   ]
  },
  {
   "cell_type": "code",
   "execution_count": 5,
   "metadata": {},
   "outputs": [
    {
     "name": "stdout",
     "output_type": "stream",
     "text": [
      "HLT_L1SingleMuOpen acc % 99.7098\n",
      "HLT_Mu8 acc % 96.8805\n",
      "HLT_L1SingleMu18 acc % 92.8989\n",
      "HLT_Mu3_PFJet40 acc % 92.6365\n",
      "HLT_TkMu17 acc % 92.6293\n",
      "HLT_Mu17 acc % 91.8064\n",
      "HLT_TkMu20 acc % 90.5703\n",
      "HLT_L2Mu10 acc % 89.5062\n",
      "HLT_Mu12_Photon25_CaloIdL_L1OR acc % 88.9799\n",
      "HLT_Mu12_Photon25_CaloIdL acc % 88.9799\n",
      "HLT_Mu7p5_Track2_Jpsi acc % 88.8761\n",
      "HLT_Mu7p5_Track3p5_Jpsi acc % 88.0069\n",
      "HLT_Mu20 acc % 86.0105\n",
      "HLT_Mu12_Photon25_CaloIdL_L1ISO acc % 85.7331\n",
      "HLT_Mu17_Photon22_CaloIdL_L1ISO acc % 83.9251\n",
      "HLT_Mu17_Photon30_CaloIdL_L1ISO acc % 83.7352\n",
      "HLT_Mu8_TrkIsoVVL acc % 81.4521\n",
      "HLT_TkMu24_eta2p1 acc % 81.3461\n",
      "HLT_Mu17_Photon35_CaloIdL_L1ISO acc % 81.0097\n",
      "HLT_Mu16_TkMu0_dEta18_Onia acc % 80.0708\n",
      "HLT_Mu17_TrkIsoVVL acc % 79.7814\n",
      "HLT_TkMu27 acc % 79.7451\n",
      "HLT_Mu23NoFiltersNoVtx_Photon23_CaloIdL acc % 78.4904\n",
      "HLT_Mu7p5_Track7_Jpsi acc % 76.5587\n",
      "HLT_Mu24_eta2p1 acc % 76.2735\n",
      "HLT_IsoTkMu18 acc % 73.9363\n",
      "HLT_Mu27 acc % 73.7301\n",
      "HLT_IsoTkMu20 acc % 73.2813\n",
      "HLT_IsoTkMu22 acc % 71.3573\n",
      "HLT_Mu16_eta2p1_MET30 acc % 71.3339\n",
      "HLT_Mu25_TkMu0_dEta18_Onia acc % 71.1539\n",
      "HLT_IsoTkMu24 acc % 69.0458\n",
      "HLT_Mu7p5_L2Mu2_Jpsi acc % 69.0365\n",
      "HLT_IsoTkMu22_eta2p1 acc % 68.1482\n",
      "HLT_IsoMu18 acc % 67.4554\n",
      "HLT_IsoMu20 acc % 66.8267\n",
      "HLT_L1SingleMuOpen_DT acc % 66.5927\n",
      "HLT_Dimuon6_Jpsi_NoVertexing acc % 66.0315\n",
      "HLT_IsoTkMu27 acc % 65.54\n",
      "HLT_TkMu17_TrkIsoVVL_TkMu8_TrkIsoVVL acc % 65.1588\n",
      "HLT_IsoMu17_eta2p1 acc % 64.9241\n",
      "HLT_IsoMu22 acc % 64.8238\n",
      "HLT_TkMu17_TrkIsoVVL_TkMu8_TrkIsoVVL_DZ acc % 64.2961\n",
      "HLT_IsoMu24 acc % 62.486\n",
      "HLT_IsoMu22_eta2p1 acc % 62.2961\n",
      "HLT_Dimuon16_Jpsi acc % 60.9774\n",
      "HLT_Dimuon20_Jpsi acc % 60.9753\n",
      "HLT_DoubleMu0 acc % 59.3401\n",
      "HLT_IsoMu27 acc % 58.8188\n",
      "HLT_Mu17_Mu8 acc % 56.7739\n",
      "HLT_Dimuon0er16_Jpsi_NoOS_NoVertexing acc % 55.2469\n",
      "HLT_Mu17_Mu8_DZ acc % 55.2163\n",
      "HLT_IsoMu16_eta2p1_MET30 acc % 55.1395\n",
      "HLT_Mu27_TkMu8 acc % 54.5228\n",
      "HLT_Mu17_TrkIsoVVL_Mu8_TrkIsoVVL acc % 54.0029\n",
      "HLT_Dimuon0er16_Jpsi_NoVertexing acc % 53.936\n",
      "HLT_Mu17_TrkIsoVVL_Mu8_TrkIsoVVL_DZ acc % 51.9744\n",
      "HLT_Mu20_Mu10 acc % 50.1479\n",
      "HLT_Mu20_Mu10_DZ acc % 48.719\n",
      "HLT_Mu38NoFiltersNoVtx_Photon38_CaloIdL acc % 44.8171\n"
     ]
    }
   ],
   "source": [
    "! head -n 60 ../Triggers/TrigAcce.txt"
   ]
  },
  {
   "cell_type": "markdown",
   "metadata": {},
   "source": [
    "From this analysis we choose the follwing triggers:\n",
    "- **`HLT_IsoMu27`** : it requires an isolate muon with transverse momentum greater than $27 \\ \\text{GeV}/c$;\n",
    "- **`HLT_Mu17_TrkIsoVVL_Mu8_TrkIsoVVL_DZ`** : it requires two isolate muons with transverse momenta greater that $17$ and $8 \\ \\text{GeV}/c$  respectively.\n",
    "\n",
    "Both signal and background datasets are then filtered using those triggers separately. So, we compare the distributions for few relevant features for the following operations, for the choice of both the triggers. In particular, we put in comparison:\n",
    "* **`JPsi_mass`**;\n",
    "* **`Photon_pt[0]`**;\n",
    "* **`Photon_pt[0]`**/**`Reco_mass`**.\n",
    "\n",
    "In the left we can see the plot coming from **`HLT_IsoMu27`** trigger and in the right the plot coming from **`HLT_Mu17_TrkIsoVVL_Mu8_TrkIsoVVL_DZ`**\n",
    "\n",
    "<table>\n",
    "    <tr>\n",
    "        <td valign=\"top\"><img src=\"images/JPsi_massIsomu.png\"></td>\n",
    "        <td valign=\"top\"><img src=\"images/JPsi_massIsotrk.png\"></td> \n",
    "    </tr>\n",
    "        <td valign=\"top\"><img src=\"images/Photon_pt[0]Isomu.png\"></td>\n",
    "        <td valign=\"top\"><img src=\"images/Photon_pt[0]Isotrk.png\"></td>\n",
    "    <tr>\n",
    "        <td valign=\"top\"><img src=\"images/ratio_isomu.png\"></td>\n",
    "        <td valign=\"top\"><img src=\"images/ratio_isotrk.png\"></td>\n",
    "</table>"
   ]
  },
  {
   "cell_type": "markdown",
   "metadata": {},
   "source": [
    "<br>"
   ]
  },
  {
   "cell_type": "markdown",
   "metadata": {},
   "source": [
    "### 3.3. - Precision cuts  <a class=\"anchor\" id=\"LOCP_B_FP.3.3.\"></a>\n",
    "* [Index](#LOCP_B_FP.i)\n",
    "\n",
    "From this plot we apply this cat:\n",
    "- $p_{T\\gamma}/m_{J/\\psi}>0.38$\n",
    "- $M_{\\mu\\mu}\\in [3, 3.2]$\n",
    "\n",
    "We don't apply  others cat at transverse momentum of Photon. "
   ]
  },
  {
   "cell_type": "markdown",
   "metadata": {},
   "source": [
    "<hr style=\"border-top-width:4px; border-top-color: #2188bf;\">"
   ]
  },
  {
   "cell_type": "markdown",
   "metadata": {},
   "source": [
    "<br>\n",
    "<br>\n",
    "<br>"
   ]
  },
  {
   "cell_type": "markdown",
   "metadata": {},
   "source": [
    "<hr style=\"border-top-width:4px; border-top-color: #2188bf;\">\n",
    "\n",
    "## 4. - Fit of background and signal distributions <a class=\"anchor\" id=\"LOCP_B_FP.4.\"></a>\n",
    "* [Index](#LOCP_B_FP.i)"
   ]
  },
  {
   "cell_type": "markdown",
   "metadata": {},
   "source": [
    "Once the quality cuts and the trigger selection have been applied, we get four different datasets: the signal and background ones for the two selected triggers. In order to perform a statistical analysis, it is fundamental to model the invariant mass spectrum distribution for all the datasets. In this section, we try to accomplish this task by employing ROOfit, but at the same time we try to avoid too complex models since they would require a higher computational effort for the final Monte Carlo analysis."
   ]
  },
  {
   "cell_type": "markdown",
   "metadata": {},
   "source": [
    "<br>"
   ]
  },
  {
   "cell_type": "markdown",
   "metadata": {},
   "source": [
    "### 4.1. - Background distributions <a class=\"anchor\" id=\"LOCP_B_FP.4.1.\"></a>\n",
    "* [Index](#FP.i)"
   ]
  },
  {
   "cell_type": "markdown",
   "metadata": {},
   "source": [
    "The distribution of the reconstructed mass obtained from the above described selections are shown in the following\n",
    "\n",
    "<table>\n",
    "    <tr>\n",
    "        <td valign=\"top\"><img src=\"images/BkgMassIsoMu.png\"></td>\n",
    "        <td valign=\"top\"><img src=\"images/BkgMassIsoTrk.png\"></td>\n",
    "    </tr>\n",
    "</table>\n",
    "\n",
    "Given the trend of invariant mass in these plots, we decide to fit the distributions using either an exponential PDF or polynomial function. For `IsoMu` trigger the best results have been obtained using a $2^{\\text{nd}}$ degree polynomial, while for `IsoTrk` trigger the best results where given by an exponential PDF. The fit was performed using the Maximum Likelihood Estimation method over the binned dataset. Moreover, it is important to notice that in order to avoid bias for future predictions the fit was performed while being \"blind\" in the signal region.\n",
    "\n",
    "The results of this procedure are showed in the following plots.\n",
    "\n",
    "<table>\n",
    "    <tr>\n",
    "        <td valign=\"top\"><img src=\"images/BkgFitEvents_IsoMu.png\"></td>\n",
    "        <td valign=\"top\"><img src=\"images/BkgFitEvents_IsoTrk.png\"></td>\n",
    "    </tr>\n",
    "</table>"
   ]
  },
  {
   "cell_type": "markdown",
   "metadata": {},
   "source": [
    "<br>"
   ]
  },
  {
   "cell_type": "markdown",
   "metadata": {},
   "source": [
    "## 4.2. - Signal distributions <a class=\"anchor\" id=\"LOCP_B_FP.4.2.\"></a>\n",
    "* [Index](#FP.i)"
   ]
  },
  {
   "cell_type": "markdown",
   "metadata": {},
   "source": [
    "As we did for the background we can also show the distribution of the simulated Signal events after the selections, since the trigger acceptance is similar and the other selection are equal for the datasets we expected these distribution to be very similar:\n",
    "\n",
    "<table>\n",
    "    <tr>\n",
    "        <td valign=\"top\"><img src=\"images/SigMassIsoMu.png\"></td>\n",
    "        <td valign=\"top\"><img src=\"images/SigMassIsoTrk.png\"></td>\n",
    "    </tr>\n",
    "</table>\n",
    "\n",
    "\n",
    "As expected the distributions are very similar so we also expect being able to fit them with the same distribution. Differently from the background distribution it is not possible to perform a fit of these distributions using a simple PDF, mainly due to the tails which are asymmetric.\n",
    "\n",
    "The model used for the fit was then defined by summing many PDFs but applying some constrains, in order to take care of the tail asymmetry we used a Cristall Ball function:\n",
    "\n",
    "$$f(x ; \\alpha, n, \\bar{x}, \\sigma)=N \\cdot\\left\\{\\begin{array}{ll}\n",
    "\\exp \\left(-\\frac{(x-\\bar{x})^{2}}{2 \\sigma^{2}}\\right), & \\text { for } \\frac{x-\\bar{x}}{\\sigma}>-\\alpha \\\\\n",
    "A \\cdot\\left(B-\\frac{x-\\bar{x}}{\\sigma}\\right)^{-n}, & \\text { for } \\frac{x-\\bar{x}}{\\sigma} \\leqslant-\\alpha\n",
    "\\end{array}\\right.$$\n",
    "\n",
    "To this PDF where then added three other gaussian distributions which allowed us to reproduce fairly well the form of the distribution. Since we expect the mass resonance to have a precise value we then imposed the center of the gaussians to be at the same position of the cristall ball function peak.\n",
    "\n",
    "The final PDF is then \n",
    "\n",
    "$$\\mathcal{S}(m) = f_c \\mathcal{CB}(m) + (1-f_c)\\mathcal{G_S} $$\n",
    "\n",
    "where $f_c$ is the fraction between the Cristall ball and the sum of the three gaussians $\\mathcal{G_3}$ which has the following form:\n",
    "\n",
    "$$\\mathcal{G_S}(m)= f_1\\mathcal{G_1}(m)+(1-f_1)\\left[ f_2\\mathcal{G_2}(m) + (1-f_2)\\mathcal{G_3}(m)\\right] $$\n",
    "\n",
    "where $f_{1,2}$ are the fraction between the PDFs and $\\mathcal{G_i}$ are gaussian distributions.\n",
    "\n",
    "The results are then:\n",
    "\n",
    "<table>\n",
    "    <tr>\n",
    "        <td valign=\"top\"><img src=\"images/SigFitEvents_IsoMu.png\"></td>\n",
    "        <td valign=\"top\"><img src=\"images/SigFitEvents_IsoTrk.png\"></td>\n",
    "    </tr>\n",
    "</table>"
   ]
  },
  {
   "cell_type": "markdown",
   "metadata": {},
   "source": [
    "<br>\n",
    "<br>\n",
    "<br>"
   ]
  },
  {
   "cell_type": "markdown",
   "metadata": {},
   "source": [
    "<hr style=\"border-top-width:4px; border-top-color: #2188bf;\">\n",
    "\n",
    "## 5. - Toy Monte Carlo analysis <a class=\"anchor\" id=\"LOCP_B_FP.5.\"></a>\n",
    "* [Index](#LOCP_B_FP.i)"
   ]
  },
  {
   "cell_type": "markdown",
   "metadata": {},
   "source": [
    "Now that we have cutted a large portion of background events and we have modeled the background and the signal distributions, we move to the last part of our analysis. We perform a toy Monte Carlo statistical analysis using as statistical test a log likelihood ratio, as it is done for the standard analysis at LHC, but with some differences."
   ]
  },
  {
   "cell_type": "markdown",
   "metadata": {},
   "source": [
    "<br>"
   ]
  },
  {
   "cell_type": "markdown",
   "metadata": {},
   "source": [
    "### 5.1. - Definition of the test statistic <a class=\"anchor\" id=\"LOCP_B_FP.5.1.\"></a>\n",
    "* [Index](#LOCP_B_FP.i)"
   ]
  },
  {
   "cell_type": "markdown",
   "metadata": {},
   "source": [
    "The first step is to define a statistical variable, whose distribution will be sampled for several $\\mu$ values, each distribution defining a certain hypotesis $H_{\\mu}$. This is the negative loglikelihood ratio, which reads:\n",
    "\n",
    "$$\n",
    "\\begin{equation}\n",
    "    t(\\mu)\n",
    "    =\n",
    "    - 2 \\log \\frac{\\mathcal{L}(\\mu;\\hat{\\sigma}(\\mu))}{\\mathcal{L}(\\hat{\\mu};\\hat{\\hat{\\sigma}}(\\mu))}\n",
    "\\end{equation}\n",
    "$$\n",
    "\n",
    "The quantity on the numerator is the likelihood computed on the data with the best-fit parameters $\\hat{\\sigma}$ infered at fixed $\\mu$. The quantity on the denominator is maximum possible likelihood computed on the data. This is our starting point for the statistical analysis.\n",
    "\n",
    "For our analysis, we will focus on the invariant mass spectrum of the candidate $h$, so we will speak about data, we will imply these are the measurements of $m_{\\mu\\mu\\gamma}$. Another fact to take into account is that we have binned data. Therefore, the number of counts $n_i$ in the $i^{\\text{th}}$ bin follows a Poisson distribution, whose characteristic parameter will be denoted with $\\sigma_i$. The former reads:\n",
    "\n",
    "$$\n",
    "\\begin{equation}\n",
    "    \\sigma_i = B_i + \\mu S_i\n",
    "\\end{equation}\n",
    "$$\n",
    "\n",
    "where $B_i$ and $S_i$ are respectively the number of background and signal events in the $i^{\\text{th}}$ bin."
   ]
  },
  {
   "cell_type": "markdown",
   "metadata": {},
   "source": [
    "<br>"
   ]
  },
  {
   "cell_type": "markdown",
   "metadata": {},
   "source": [
    "### 5.2. - Definition of the algorithm <a class=\"anchor\" id=\"LOCP_B_FP.5.2.\"></a>\n",
    "* [Index](#LOCP_B_FP.i)"
   ]
  },
  {
   "cell_type": "markdown",
   "metadata": {},
   "source": [
    "Taking into account what previously defined, we can express in a more clear way the test statistic expression for our toy Monte Carlo sampler algorithm:\n",
    "\n",
    "$$\n",
    "\\begin{equation}\n",
    "    t(\\mu)\n",
    "    =\n",
    "    - 2 \\log \\frac{\\mathcal{L}(\\mu;\\hat{\\sigma}(\\mu))}{\\mathcal{L}(\\hat{\\mu};\\hat{\\hat{\\sigma}}(\\mu))}\n",
    "    =\n",
    "    - 2 \\log \\frac{\\displaystyle \\prod_{n_i \\in \\text{bin}_i} \\frac{{\\hat{\\sigma}_i}^{n_i}}{n_i!} e^{-\\hat{\\sigma}_i}}{\\displaystyle \\prod_{n_i \\in \\text{bin}_i} \\frac{{n_i}^{n_i}}{n_i!} e^{-n_i}}\n",
    "    =\n",
    "    - 2 \\log \\prod_{n_i \\in \\text{bin}_i} \\left( \\frac{\\hat{\\sigma}_i}{n_i} \\right)^{n_i} e^{-\\hat{\\sigma}_i + n_i}\n",
    "    =\n",
    "    - 2 \\sum_{n_i \\in \\text{bin}_i} \\left[ n_i \\log\\left( \\frac{\\hat{\\sigma}_i}{n_i} \\right) -\\hat{\\sigma}_i + n_i \\right]\n",
    "\\end{equation}\n",
    "$$\n",
    "\n",
    "In order to sample $t(\\mu)$ for a certain value of $\\mu$, we apply a toy Monte Carlo study. A single toy produces a single value of $t(\\mu)$ with the following steps:\n",
    "* the signal distribution is added to the background distribution after a proper rescaling based on the luminosity, the cross section and the number of signal events in the MC simulated signal;\n",
    "* the rescaled signal distribution summed to the background distribution is amplified by a factor $\\mu$;\n",
    "* a number of events compatible with the residual background and the expected signal events is generated through Monte Carlo simulation;\n",
    "* the generated toy dataset is put into a histogram with a fixed number of bins $n^{\\text{ToyMC}}_{\\text{bins}}$;\n",
    "* this simulated and binned spectrum is fitted again, but only with the background distribution (here comes the difference with the standard LHC procedure);\n",
    "* the background fit is employed to compute the $t(\\mu)$ defined before, with the $\\hat{\\sigma}_i$ for every bin calculated through the fit.\n",
    "\n",
    "This algorithm is repeated for a large number of times to have a smooth sampled distribution for $H_{\\mu}$."
   ]
  },
  {
   "cell_type": "markdown",
   "metadata": {},
   "source": [
    "<br>"
   ]
  },
  {
   "cell_type": "markdown",
   "metadata": {},
   "source": [
    "### 5.3. - Validation of the algorithm for $\\mu=0$ <a class=\"anchor\" id=\"LOCP_B_FP.5.3.\"></a>\n",
    "* [Index](#LOCP_B_FP.i)"
   ]
  },
  {
   "cell_type": "markdown",
   "metadata": {},
   "source": [
    "**TODO**"
   ]
  },
  {
   "cell_type": "markdown",
   "metadata": {},
   "source": [
    "<br>\n",
    "<br>\n",
    "<br>"
   ]
  },
  {
   "cell_type": "markdown",
   "metadata": {},
   "source": [
    "<hr style=\"border-top-width:4px; border-top-color: #2188bf;\">\n",
    "\n",
    "## 6. - Conclusions <a class=\"anchor\" id=\"LOCP_B_FP.6.\"></a>\n",
    "* [Index](#LOCP_B_FP.i)"
   ]
  },
  {
   "cell_type": "markdown",
   "metadata": {},
   "source": [
    "**TODO**"
   ]
  },
  {
   "cell_type": "markdown",
   "metadata": {},
   "source": [
    "### Non interactive (standard) cell"
   ]
  },
  {
   "cell_type": "code",
   "execution_count": 19,
   "metadata": {},
   "outputs": [
    {
     "name": "stderr",
     "output_type": "stream",
     "text": [
      "Warning in <TCanvas::Constructor>: Deleting canvas with same name: c1\n",
      "Warning in <TROOT::Append>: Replacing existing TH1: h1 (Potential memory leak).\n"
     ]
    },
    {
     "data": {
      "text/html": [
       "\n",
       "<div id=\"root_plot_7\"\n",
       "     style=\"width: 696px; height: 472px\">\n",
       "</div>\n",
       "\n",
       "<script>\n",
       " requirejs.config({\n",
       "     paths: {\n",
       "       'JSRootCore' : 'https://root.cern.ch/js/notebook//scripts/JSRootCore',\n",
       "     }\n",
       "   });\n",
       " require(['JSRootCore'],\n",
       "     function(Core) {\n",
       "       var obj = Core.JSONR_unref({\"_typename\":\"TCanvas\",\"fUniqueID\":0,\"fBits\":53673992,\"fLineColor\":1,\"fLineStyle\":1,\"fLineWidth\":1,\"fFillColor\":0,\"fFillStyle\":1001,\"fLeftMargin\":0.1,\"fRightMargin\":0.1,\"fBottomMargin\":0.1,\"fTopMargin\":0.1,\"fXfile\":2,\"fYfile\":2,\"fAfile\":1,\"fXstat\":0.99,\"fYstat\":0.99,\"fAstat\":2,\"fFrameFillColor\":0,\"fFrameLineColor\":1,\"fFrameFillStyle\":1001,\"fFrameLineStyle\":1,\"fFrameLineWidth\":1,\"fFrameBorderSize\":1,\"fFrameBorderMode\":0,\"fX1\":-3.75000005587936,\"fY1\":-3143.04398417502,\"fX2\":3.75000005587936,\"fY2\":28287.393984175,\"fXtoAbsPixelk\":348.00005,\"fXtoPixelk\":348.00005,\"fXtoPixel\":92.7999986171722,\"fYtoAbsPixelk\":424.800047186661,\"fYtoPixelk\":424.800047186661,\"fYtoPixel\":-0.0150172899428031,\"fUtoAbsPixelk\":5e-5,\"fUtoPixelk\":5e-5,\"fUtoPixel\":696,\"fVtoAbsPixelk\":472.00005,\"fVtoPixelk\":472,\"fVtoPixel\":-472,\"fAbsPixeltoXk\":-3.75000005587936,\"fPixeltoXk\":-3.75000005587936,\"fPixeltoX\":0.0107758622295384,\"fAbsPixeltoYk\":28287.393984175,\"fPixeltoYk\":-3143.04398417502,\"fPixeltoY\":-66.5899109498942,\"fXlowNDC\":0,\"fYlowNDC\":0,\"fXUpNDC\":0,\"fYUpNDC\":0,\"fWNDC\":1,\"fHNDC\":1,\"fAbsXlowNDC\":0,\"fAbsYlowNDC\":0,\"fAbsWNDC\":1,\"fAbsHNDC\":1,\"fUxmin\":-3,\"fUymin\":0,\"fUxmax\":3,\"fUymax\":25144.35,\"fTheta\":30,\"fPhi\":30,\"fAspectRatio\":0,\"fNumber\":0,\"fTickx\":0,\"fTicky\":0,\"fLogx\":0,\"fLogy\":0,\"fLogz\":0,\"fPadPaint\":0,\"fCrosshair\":0,\"fCrosshairPos\":0,\"fBorderSize\":2,\"fBorderMode\":0,\"fModified\":false,\"fGridx\":false,\"fGridy\":false,\"fAbsCoord\":false,\"fEditable\":true,\"fFixedAspectRatio\":false,\"fPrimitives\":{\"_typename\":\"TList\",\"name\":\"TList\",\"arr\":[{\"_typename\":\"TFrame\",\"fUniqueID\":0,\"fBits\":50331656,\"fLineColor\":1,\"fLineStyle\":1,\"fLineWidth\":1,\"fFillColor\":0,\"fFillStyle\":1001,\"fX1\":-3,\"fY1\":0,\"fX2\":3,\"fY2\":25144.35,\"fBorderSize\":1,\"fBorderMode\":0},{\"_typename\":\"TH1F\",\"fUniqueID\":0,\"fBits\":50331656,\"fName\":\"h1\",\"fTitle\":\"Histo from a Gaussian\",\"fLineColor\":602,\"fLineStyle\":1,\"fLineWidth\":1,\"fFillColor\":0,\"fFillStyle\":1001,\"fMarkerColor\":1,\"fMarkerStyle\":1,\"fMarkerSize\":1,\"fNcells\":102,\"fXaxis\":{\"_typename\":\"TAxis\",\"fUniqueID\":0,\"fBits\":50331648,\"fName\":\"xaxis\",\"fTitle\":\"\",\"fNdivisions\":510,\"fAxisColor\":1,\"fLabelColor\":1,\"fLabelFont\":42,\"fLabelOffset\":0.005,\"fLabelSize\":0.035,\"fTickLength\":0.03,\"fTitleOffset\":1,\"fTitleSize\":0.035,\"fTitleColor\":1,\"fTitleFont\":42,\"fNbins\":100,\"fXmin\":-3,\"fXmax\":3,\"fXbins\":[],\"fFirst\":0,\"fLast\":0,\"fBits2\":0,\"fTimeDisplay\":false,\"fTimeFormat\":\"\",\"fLabels\":null,\"fModLabs\":null},\"fYaxis\":{\"_typename\":\"TAxis\",\"fUniqueID\":0,\"fBits\":50331648,\"fName\":\"yaxis\",\"fTitle\":\"\",\"fNdivisions\":510,\"fAxisColor\":1,\"fLabelColor\":1,\"fLabelFont\":42,\"fLabelOffset\":0.005,\"fLabelSize\":0.035,\"fTickLength\":0.03,\"fTitleOffset\":0,\"fTitleSize\":0.035,\"fTitleColor\":1,\"fTitleFont\":42,\"fNbins\":1,\"fXmin\":0,\"fXmax\":1,\"fXbins\":[],\"fFirst\":0,\"fLast\":0,\"fBits2\":0,\"fTimeDisplay\":false,\"fTimeFormat\":\"\",\"fLabels\":null,\"fModLabs\":null},\"fZaxis\":{\"_typename\":\"TAxis\",\"fUniqueID\":0,\"fBits\":50331648,\"fName\":\"zaxis\",\"fTitle\":\"\",\"fNdivisions\":510,\"fAxisColor\":1,\"fLabelColor\":1,\"fLabelFont\":42,\"fLabelOffset\":0.005,\"fLabelSize\":0.035,\"fTickLength\":0.03,\"fTitleOffset\":1,\"fTitleSize\":0.035,\"fTitleColor\":1,\"fTitleFont\":42,\"fNbins\":1,\"fXmin\":0,\"fXmax\":1,\"fXbins\":[],\"fFirst\":0,\"fLast\":0,\"fBits2\":0,\"fTimeDisplay\":false,\"fTimeFormat\":\"\",\"fLabels\":null,\"fModLabs\":null},\"fBarOffset\":0,\"fBarWidth\":1000,\"fEntries\":1000000,\"fTsumw\":1000000,\"fTsumw2\":1000000,\"fTsumwx\":-988.689327853145,\"fTsumwx2\":972688.33197621,\"fMaximum\":-1111,\"fMinimum\":-1111,\"fNormFactor\":0,\"fContour\":[],\"fSumw2\":[],\"fOption\":\"\",\"fFunctions\":{\"_typename\":\"TList\",\"name\":\"TList\",\"arr\":[{\"_typename\":\"TPaveStats\",\"fUniqueID\":0,\"fBits\":50331657,\"fLineColor\":1,\"fLineStyle\":1,\"fLineWidth\":1,\"fFillColor\":0,\"fFillStyle\":1001,\"fX1\":2.10000015199185,\"fY1\":21215.5456286363,\"fX2\":3.60000019669533,\"fY2\":26244.4155911683,\"fX1NDC\":0.780000016093254,\"fY1NDC\":0.775000005960464,\"fX2NDC\":0.980000019073486,\"fY2NDC\":0.935000002384186,\"fBorderSize\":1,\"fInit\":1,\"fShadowColor\":1,\"fCornerRadius\":0,\"fOption\":\"brNDC\",\"fName\":\"stats\",\"fTextAngle\":0,\"fTextSize\":0,\"fTextAlign\":12,\"fTextColor\":1,\"fTextFont\":42,\"fLabel\":\"\",\"fLongest\":18,\"fMargin\":0.05,\"fLines\":{\"_typename\":\"TList\",\"name\":\"TList\",\"arr\":[{\"_typename\":\"TLatex\",\"fUniqueID\":0,\"fBits\":50331648,\"fName\":\"\",\"fTitle\":\"h1\",\"fTextAngle\":0,\"fTextSize\":0.0368,\"fTextAlign\":0,\"fTextColor\":0,\"fTextFont\":0,\"fX\":0,\"fY\":0,\"fLineColor\":1,\"fLineStyle\":1,\"fLineWidth\":2,\"fLimitFactorSize\":3,\"fOriginSize\":0.0368000008165836},{\"_typename\":\"TLatex\",\"fUniqueID\":0,\"fBits\":50331648,\"fName\":\"\",\"fTitle\":\"Entries = 1000000\",\"fTextAngle\":0,\"fTextSize\":0,\"fTextAlign\":0,\"fTextColor\":0,\"fTextFont\":0,\"fX\":0,\"fY\":0,\"fLineColor\":1,\"fLineStyle\":1,\"fLineWidth\":2,\"fLimitFactorSize\":3,\"fOriginSize\":0.04},{\"_typename\":\"TLatex\",\"fUniqueID\":0,\"fBits\":50331648,\"fName\":\"\",\"fTitle\":\"Mean  = -0.0009887\",\"fTextAngle\":0,\"fTextSize\":0,\"fTextAlign\":0,\"fTextColor\":0,\"fTextFont\":0,\"fX\":0,\"fY\":0,\"fLineColor\":1,\"fLineStyle\":1,\"fLineWidth\":2,\"fLimitFactorSize\":3,\"fOriginSize\":0.04},{\"_typename\":\"TLatex\",\"fUniqueID\":0,\"fBits\":50331648,\"fName\":\"\",\"fTitle\":\"Std Dev   = 0.9862\",\"fTextAngle\":0,\"fTextSize\":0,\"fTextAlign\":0,\"fTextColor\":0,\"fTextFont\":0,\"fX\":0,\"fY\":0,\"fLineColor\":1,\"fLineStyle\":1,\"fLineWidth\":2,\"fLimitFactorSize\":3,\"fOriginSize\":0.04}],\"opt\":[\"\",\"\",\"\",\"\"]},\"fOptFit\":0,\"fOptStat\":1111,\"fFitFormat\":\"5.4g\",\"fStatFormat\":\"6.4g\",\"fParent\":{\"$ref\":3}}],\"opt\":[\"brNDC\"]},\"fBufferSize\":0,\"fBuffer\":[],\"fBinStatErrOpt\":0,\"fStatOverflows\":2,\"fArray\":[0,293,333,422,470,579,653,768,896,1089,1235,1470,1604,1941,2138,2540,2881,3218,3583,3977,4562,5054,5494,6104,6847,7408,8174,8790,9629,10546,11390,12153,12914,13870,14667,15791,16556,17157,18246,19254,19445,20620,21160,21748,22224,22682,23355,23352,23479,23947,23876,23862,23735,23706,23294,22938,22812,22240,21761,21160,20672,19447,18945,18215,17209,16364,15691,14858,13829,12824,12145,11217,10536,9656,8723,8159,7410,6657,6107,5549,4972,4561,4108,3640,3236,2925,2502,2129,1862,1665,1346,1253,1053,897,807,636,593,478,404,351,277,0]},{\"_typename\":\"TPaveText\",\"fUniqueID\":0,\"fBits\":50331657,\"fLineColor\":1,\"fLineStyle\":1,\"fLineWidth\":1,\"fFillColor\":0,\"fFillStyle\":0,\"fX1\":-1.44353450426896,\"fY1\":26401.5678301868,\"fX2\":1.44353450426896,\"fY2\":28130.2419442053,\"fX1NDC\":0.307528735632184,\"fY1NDC\":0.940000003948808,\"fX2NDC\":0.692471264367816,\"fY2NDC\":0.995000004768372,\"fBorderSize\":0,\"fInit\":1,\"fShadowColor\":1,\"fCornerRadius\":0,\"fOption\":\"blNDC\",\"fName\":\"title\",\"fTextAngle\":0,\"fTextSize\":0,\"fTextAlign\":22,\"fTextColor\":1,\"fTextFont\":42,\"fLabel\":\"\",\"fLongest\":21,\"fMargin\":0.05,\"fLines\":{\"_typename\":\"TList\",\"name\":\"TList\",\"arr\":[{\"_typename\":\"TLatex\",\"fUniqueID\":0,\"fBits\":50331648,\"fName\":\"\",\"fTitle\":\"Histo from a Gaussian\",\"fTextAngle\":0,\"fTextSize\":0,\"fTextAlign\":0,\"fTextColor\":0,\"fTextFont\":0,\"fX\":0,\"fY\":0,\"fLineColor\":1,\"fLineStyle\":1,\"fLineWidth\":2,\"fLimitFactorSize\":3,\"fOriginSize\":0.0467500016093254}],\"opt\":[\"\"]}}],\"opt\":[\"\",\"\",\"blNDC\"]},\"fExecs\":null,\"fName\":\"c1\",\"fTitle\":\"\",\"fNumPaletteColor\":0,\"fNextPaletteColor\":0,\"fDISPLAY\":\"$DISPLAY\",\"fDoubleBuffer\":0,\"fRetained\":true,\"fXsizeUser\":0,\"fYsizeUser\":0,\"fXsizeReal\":20,\"fYsizeReal\":14.28571,\"fWindowTopX\":0,\"fWindowTopY\":0,\"fWindowWidth\":0,\"fWindowHeight\":0,\"fCw\":696,\"fCh\":472,\"fCatt\":{\"_typename\":\"TAttCanvas\",\"fXBetween\":2,\"fYBetween\":2,\"fTitleFromTop\":1.2,\"fXdate\":0.2,\"fYdate\":0.3,\"fAdate\":1},\"kMoveOpaque\":true,\"kResizeOpaque\":true,\"fHighLightColor\":2,\"fBatch\":true,\"kShowEventStatus\":false,\"kAutoExec\":true,\"kMenuBar\":true});\n",
       "       Core.draw(\"root_plot_7\", obj, \"\");\n",
       "     }\n",
       " );\n",
       "</script>\n"
      ],
      "text/plain": [
       "<IPython.core.display.HTML object>"
      ]
     },
     "metadata": {},
     "output_type": "display_data"
    }
   ],
   "source": [
    "c1 = TCanvas(\"c1\")\n",
    "h1 = TH1F(\"h1\",\"Histo from a Gaussian\",100,-3,3);\n",
    "h1.FillRandom(\"gaus\",1000000);\n",
    "h1.Draw()\n",
    "c1.Draw()"
   ]
  },
  {
   "cell_type": "markdown",
   "metadata": {},
   "source": [
    "### Interactive cell\n",
    "Just add ```%jsroot on```"
   ]
  },
  {
   "cell_type": "markdown",
   "metadata": {},
   "source": [
    "**Make JSROOT work**"
   ]
  },
  {
   "cell_type": "code",
   "execution_count": 7,
   "metadata": {},
   "outputs": [
    {
     "data": {
      "application/javascript": [
       "if (!0) {\n",
       "    var s = document.createElement('script');\n",
       "    s.src='https://cdnjs.cloudflare.com/ajax/libs/require.js/2.3.6/require.min.js';\n",
       "    document.body.appendChild(s);\n",
       "}\n"
      ],
      "text/plain": [
       "<IPython.core.display.Javascript object>"
      ]
     },
     "metadata": {},
     "output_type": "display_data"
    }
   ],
   "source": [
    "%%javascript\n",
    "if (!0) {\n",
    "    var s = document.createElement('script');\n",
    "    s.src='https://cdnjs.cloudflare.com/ajax/libs/require.js/2.3.6/require.min.js';\n",
    "    document.body.appendChild(s);\n",
    "}"
   ]
  },
  {
   "cell_type": "code",
   "execution_count": 8,
   "metadata": {},
   "outputs": [],
   "source": [
    "JSROOT = True"
   ]
  },
  {
   "cell_type": "code",
   "execution_count": 20,
   "metadata": {},
   "outputs": [
    {
     "name": "stderr",
     "output_type": "stream",
     "text": [
      "Warning in <TCanvas::Constructor>: Deleting canvas with same name: c1\n",
      "Warning in <TROOT::Append>: Replacing existing TH1: h1 (Potential memory leak).\n"
     ]
    },
    {
     "data": {
      "text/html": [
       "\n",
       "<div id=\"root_plot_8\"\n",
       "     style=\"width: 696px; height: 472px\">\n",
       "</div>\n",
       "\n",
       "<script>\n",
       " requirejs.config({\n",
       "     paths: {\n",
       "       'JSRootCore' : 'https://root.cern.ch/js/notebook//scripts/JSRootCore',\n",
       "     }\n",
       "   });\n",
       " require(['JSRootCore'],\n",
       "     function(Core) {\n",
       "       var obj = Core.JSONR_unref({\"_typename\":\"TCanvas\",\"fUniqueID\":0,\"fBits\":53673992,\"fLineColor\":1,\"fLineStyle\":1,\"fLineWidth\":1,\"fFillColor\":0,\"fFillStyle\":1001,\"fLeftMargin\":0.1,\"fRightMargin\":0.1,\"fBottomMargin\":0.1,\"fTopMargin\":0.1,\"fXfile\":2,\"fYfile\":2,\"fAfile\":1,\"fXstat\":0.99,\"fYstat\":0.99,\"fAstat\":2,\"fFrameFillColor\":0,\"fFrameLineColor\":1,\"fFrameFillStyle\":1001,\"fFrameLineStyle\":1,\"fFrameLineWidth\":1,\"fFrameBorderSize\":1,\"fFrameBorderMode\":0,\"fX1\":-6.25000009313226,\"fY1\":-5275.98789309172,\"fX2\":6.25000009313226,\"fY2\":47483.8878930917,\"fXtoAbsPixelk\":348.00005,\"fXtoPixelk\":348.00005,\"fXtoPixel\":55.6799991703033,\"fYtoAbsPixelk\":424.800047186661,\"fYtoPixelk\":424.800047186661,\"fYtoPixel\":-0.00894619240410732,\"fUtoAbsPixelk\":5e-5,\"fUtoPixelk\":5e-5,\"fUtoPixel\":696,\"fVtoAbsPixelk\":472.00005,\"fVtoPixelk\":472,\"fVtoPixel\":-472,\"fAbsPixeltoXk\":-6.25000009313226,\"fPixeltoXk\":-6.25000009313226,\"fPixeltoX\":0.017959770382564,\"fAbsPixeltoYk\":47483.8878930917,\"fPixeltoYk\":-5275.98789309172,\"fPixeltoY\":-111.779397852084,\"fXlowNDC\":0,\"fYlowNDC\":0,\"fXUpNDC\":0,\"fYUpNDC\":0,\"fWNDC\":1,\"fHNDC\":1,\"fAbsXlowNDC\":0,\"fAbsYlowNDC\":0,\"fAbsWNDC\":1,\"fAbsHNDC\":1,\"fUxmin\":-5,\"fUymin\":0,\"fUxmax\":5,\"fUymax\":42207.9,\"fTheta\":30,\"fPhi\":30,\"fAspectRatio\":0,\"fNumber\":0,\"fTickx\":0,\"fTicky\":0,\"fLogx\":0,\"fLogy\":0,\"fLogz\":0,\"fPadPaint\":0,\"fCrosshair\":0,\"fCrosshairPos\":0,\"fBorderSize\":2,\"fBorderMode\":0,\"fModified\":false,\"fGridx\":false,\"fGridy\":false,\"fAbsCoord\":false,\"fEditable\":true,\"fFixedAspectRatio\":false,\"fPrimitives\":{\"_typename\":\"TList\",\"name\":\"TList\",\"arr\":[{\"_typename\":\"TFrame\",\"fUniqueID\":0,\"fBits\":50331656,\"fLineColor\":1,\"fLineStyle\":1,\"fLineWidth\":1,\"fFillColor\":0,\"fFillStyle\":1001,\"fX1\":-5,\"fY1\":0,\"fX2\":5,\"fY2\":42207.9,\"fBorderSize\":1,\"fBorderMode\":0},{\"_typename\":\"TH1F\",\"fUniqueID\":0,\"fBits\":50331656,\"fName\":\"h1\",\"fTitle\":\"Histo from a Gaussian\",\"fLineColor\":602,\"fLineStyle\":1,\"fLineWidth\":1,\"fFillColor\":0,\"fFillStyle\":1001,\"fMarkerColor\":1,\"fMarkerStyle\":1,\"fMarkerSize\":1,\"fNcells\":102,\"fXaxis\":{\"_typename\":\"TAxis\",\"fUniqueID\":0,\"fBits\":50331648,\"fName\":\"xaxis\",\"fTitle\":\"\",\"fNdivisions\":510,\"fAxisColor\":1,\"fLabelColor\":1,\"fLabelFont\":42,\"fLabelOffset\":0.005,\"fLabelSize\":0.035,\"fTickLength\":0.03,\"fTitleOffset\":1,\"fTitleSize\":0.035,\"fTitleColor\":1,\"fTitleFont\":42,\"fNbins\":100,\"fXmin\":-5,\"fXmax\":5,\"fXbins\":[],\"fFirst\":0,\"fLast\":0,\"fBits2\":0,\"fTimeDisplay\":false,\"fTimeFormat\":\"\",\"fLabels\":null,\"fModLabs\":null},\"fYaxis\":{\"_typename\":\"TAxis\",\"fUniqueID\":0,\"fBits\":50331648,\"fName\":\"yaxis\",\"fTitle\":\"\",\"fNdivisions\":510,\"fAxisColor\":1,\"fLabelColor\":1,\"fLabelFont\":42,\"fLabelOffset\":0.005,\"fLabelSize\":0.035,\"fTickLength\":0.03,\"fTitleOffset\":0,\"fTitleSize\":0.035,\"fTitleColor\":1,\"fTitleFont\":42,\"fNbins\":1,\"fXmin\":0,\"fXmax\":1,\"fXbins\":[],\"fFirst\":0,\"fLast\":0,\"fBits2\":0,\"fTimeDisplay\":false,\"fTimeFormat\":\"\",\"fLabels\":null,\"fModLabs\":null},\"fZaxis\":{\"_typename\":\"TAxis\",\"fUniqueID\":0,\"fBits\":50331648,\"fName\":\"zaxis\",\"fTitle\":\"\",\"fNdivisions\":510,\"fAxisColor\":1,\"fLabelColor\":1,\"fLabelFont\":42,\"fLabelOffset\":0.005,\"fLabelSize\":0.035,\"fTickLength\":0.03,\"fTitleOffset\":1,\"fTitleSize\":0.035,\"fTitleColor\":1,\"fTitleFont\":42,\"fNbins\":1,\"fXmin\":0,\"fXmax\":1,\"fXbins\":[],\"fFirst\":0,\"fLast\":0,\"fBits2\":0,\"fTimeDisplay\":false,\"fTimeFormat\":\"\",\"fLabels\":null,\"fModLabs\":null},\"fBarOffset\":0,\"fBarWidth\":1000,\"fEntries\":1000000,\"fTsumw\":1000000,\"fTsumw2\":1000000,\"fTsumwx\":-59.9305575506322,\"fTsumwx2\":1003476.41979921,\"fMaximum\":-1111,\"fMinimum\":-1111,\"fNormFactor\":0,\"fContour\":[],\"fSumw2\":[],\"fOption\":\"\",\"fFunctions\":{\"_typename\":\"TList\",\"name\":\"TList\",\"arr\":[{\"_typename\":\"TPaveStats\",\"fUniqueID\":0,\"fBits\":50331657,\"fLineColor\":1,\"fLineStyle\":1,\"fLineWidth\":1,\"fFillColor\":0,\"fFillStyle\":1001,\"fX1\":3.50000025331975,\"fY1\":35612.9161556738,\"fX2\":6.00000032782556,\"fY2\":44054.4960927791,\"fX1NDC\":0.780000016093254,\"fY1NDC\":0.775000005960464,\"fX2NDC\":0.980000019073486,\"fY2NDC\":0.935000002384186,\"fBorderSize\":1,\"fInit\":1,\"fShadowColor\":1,\"fCornerRadius\":0,\"fOption\":\"brNDC\",\"fName\":\"stats\",\"fTextAngle\":0,\"fTextSize\":0,\"fTextAlign\":12,\"fTextColor\":1,\"fTextFont\":42,\"fLabel\":\"\",\"fLongest\":18,\"fMargin\":0.05,\"fLines\":{\"_typename\":\"TList\",\"name\":\"TList\",\"arr\":[{\"_typename\":\"TLatex\",\"fUniqueID\":0,\"fBits\":50331648,\"fName\":\"\",\"fTitle\":\"h1\",\"fTextAngle\":0,\"fTextSize\":0.0368,\"fTextAlign\":0,\"fTextColor\":0,\"fTextFont\":0,\"fX\":0,\"fY\":0,\"fLineColor\":1,\"fLineStyle\":1,\"fLineWidth\":2,\"fLimitFactorSize\":3,\"fOriginSize\":0.0368000008165836},{\"_typename\":\"TLatex\",\"fUniqueID\":0,\"fBits\":50331648,\"fName\":\"\",\"fTitle\":\"Entries = 1000000\",\"fTextAngle\":0,\"fTextSize\":0,\"fTextAlign\":0,\"fTextColor\":0,\"fTextFont\":0,\"fX\":0,\"fY\":0,\"fLineColor\":1,\"fLineStyle\":1,\"fLineWidth\":2,\"fLimitFactorSize\":3,\"fOriginSize\":0.04},{\"_typename\":\"TLatex\",\"fUniqueID\":0,\"fBits\":50331648,\"fName\":\"\",\"fTitle\":\"Mean  = -5.993e-05\",\"fTextAngle\":0,\"fTextSize\":0,\"fTextAlign\":0,\"fTextColor\":0,\"fTextFont\":0,\"fX\":0,\"fY\":0,\"fLineColor\":1,\"fLineStyle\":1,\"fLineWidth\":2,\"fLimitFactorSize\":3,\"fOriginSize\":0.04},{\"_typename\":\"TLatex\",\"fUniqueID\":0,\"fBits\":50331648,\"fName\":\"\",\"fTitle\":\"Std Dev   =  1.002\",\"fTextAngle\":0,\"fTextSize\":0,\"fTextAlign\":0,\"fTextColor\":0,\"fTextFont\":0,\"fX\":0,\"fY\":0,\"fLineColor\":1,\"fLineStyle\":1,\"fLineWidth\":2,\"fLimitFactorSize\":3,\"fOriginSize\":0.04}],\"opt\":[\"\",\"\",\"\",\"\"]},\"fOptFit\":0,\"fOptStat\":1111,\"fFitFormat\":\"5.4g\",\"fStatFormat\":\"6.4g\",\"fParent\":{\"$ref\":3}}],\"opt\":[\"brNDC\"]},\"fBufferSize\":0,\"fBuffer\":[],\"fBinStatErrOpt\":0,\"fStatOverflows\":2,\"fArray\":[0,1,0,2,0,1,4,2,2,10,11,11,16,35,58,75,112,141,184,297,378,514,678,869,1198,1583,2014,2513,3248,4029,4978,6049,7192,8676,10192,11985,13895,16118,18440,20729,22862,25491,27434,30084,32197,34160,35995,37729,38180,39221,40198,39750,39964,38427,37652,36011,34176,32264,30239,27690,25403,22799,20248,18135,16297,14259,12095,10288,8432,7332,6043,4840,3881,3094,2520,2043,1595,1211,963,751,496,356,263,203,151,107,63,65,34,25,15,10,1,7,2,2,5,2,0,0,0,0]},{\"_typename\":\"TPaveText\",\"fUniqueID\":0,\"fBits\":50331657,\"fLineColor\":1,\"fLineStyle\":1,\"fLineWidth\":1,\"fFillColor\":0,\"fFillStyle\":0,\"fX1\":-2.40589084044827,\"fY1\":44318.2955542593,\"fX2\":2.40589084044827,\"fY2\":47220.0887657395,\"fX1NDC\":0.307528735632184,\"fY1NDC\":0.940000003948808,\"fX2NDC\":0.692471264367816,\"fY2NDC\":0.995000004768372,\"fBorderSize\":0,\"fInit\":1,\"fShadowColor\":1,\"fCornerRadius\":0,\"fOption\":\"blNDC\",\"fName\":\"title\",\"fTextAngle\":0,\"fTextSize\":0,\"fTextAlign\":22,\"fTextColor\":1,\"fTextFont\":42,\"fLabel\":\"\",\"fLongest\":21,\"fMargin\":0.05,\"fLines\":{\"_typename\":\"TList\",\"name\":\"TList\",\"arr\":[{\"_typename\":\"TLatex\",\"fUniqueID\":0,\"fBits\":50331648,\"fName\":\"\",\"fTitle\":\"Histo from a Gaussian\",\"fTextAngle\":0,\"fTextSize\":0,\"fTextAlign\":0,\"fTextColor\":0,\"fTextFont\":0,\"fX\":0,\"fY\":0,\"fLineColor\":1,\"fLineStyle\":1,\"fLineWidth\":2,\"fLimitFactorSize\":3,\"fOriginSize\":0.0467500016093254}],\"opt\":[\"\"]}}],\"opt\":[\"\",\"\",\"blNDC\"]},\"fExecs\":null,\"fName\":\"c1\",\"fTitle\":\"\",\"fNumPaletteColor\":0,\"fNextPaletteColor\":0,\"fDISPLAY\":\"$DISPLAY\",\"fDoubleBuffer\":0,\"fRetained\":true,\"fXsizeUser\":0,\"fYsizeUser\":0,\"fXsizeReal\":20,\"fYsizeReal\":14.28571,\"fWindowTopX\":0,\"fWindowTopY\":0,\"fWindowWidth\":0,\"fWindowHeight\":0,\"fCw\":696,\"fCh\":472,\"fCatt\":{\"_typename\":\"TAttCanvas\",\"fXBetween\":2,\"fYBetween\":2,\"fTitleFromTop\":1.2,\"fXdate\":0.2,\"fYdate\":0.3,\"fAdate\":1},\"kMoveOpaque\":true,\"kResizeOpaque\":true,\"fHighLightColor\":2,\"fBatch\":true,\"kShowEventStatus\":false,\"kAutoExec\":true,\"kMenuBar\":true});\n",
       "       Core.draw(\"root_plot_8\", obj, \"\");\n",
       "     }\n",
       " );\n",
       "</script>\n"
      ],
      "text/plain": [
       "<IPython.core.display.HTML object>"
      ]
     },
     "metadata": {},
     "output_type": "display_data"
    }
   ],
   "source": [
    "if JSROOT:\n",
    "    %jsroot on\n",
    "c1 = ROOT.TCanvas(\"c1\")\n",
    "h1 = ROOT.TH1F(\"h1\",\"Histo from a Gaussian\",100,-5,5);\n",
    "h1.FillRandom(\"gaus\",1000000);\n",
    "h1.Draw()\n",
    "c1.Draw()"
   ]
  },
  {
   "cell_type": "code",
   "execution_count": 14,
   "metadata": {},
   "outputs": [
    {
     "name": "stderr",
     "output_type": "stream",
     "text": [
      "Warning in <TCanvas::Constructor>: Deleting canvas with same name: c1\n",
      "Warning in <TROOT::Append>: Replacing existing TH1: h1 (Potential memory leak).\n"
     ]
    },
    {
     "data": {
      "text/html": [
       "\n",
       "<div id=\"root_plot_5\"\n",
       "     style=\"width: 696px; height: 472px\">\n",
       "</div>\n",
       "\n",
       "<script>\n",
       " requirejs.config({\n",
       "     paths: {\n",
       "       'JSRootCore' : 'https://root.cern.ch/js/notebook//scripts/JSRootCore',\n",
       "     }\n",
       "   });\n",
       " require(['JSRootCore'],\n",
       "     function(Core) {\n",
       "       var obj = Core.JSONR_unref({\"_typename\":\"TCanvas\",\"fUniqueID\":0,\"fBits\":53673992,\"fLineColor\":1,\"fLineStyle\":1,\"fLineWidth\":1,\"fFillColor\":0,\"fFillStyle\":1001,\"fLeftMargin\":0.1,\"fRightMargin\":0.1,\"fBottomMargin\":0.1,\"fTopMargin\":0.1,\"fXfile\":2,\"fYfile\":2,\"fAfile\":1,\"fXstat\":0.99,\"fYstat\":0.99,\"fAstat\":2,\"fFrameFillColor\":0,\"fFrameLineColor\":1,\"fFrameFillStyle\":1001,\"fFrameLineStyle\":1,\"fFrameLineWidth\":1,\"fFrameBorderSize\":1,\"fFrameBorderMode\":0,\"fX1\":-6.25000009313226,\"fY1\":-52371.6414019913,\"fX2\":6.25000009313226,\"fY2\":471344.741401991,\"fXtoAbsPixelk\":348.00005,\"fXtoPixelk\":348.00005,\"fXtoPixel\":55.6799991703033,\"fYtoAbsPixelk\":424.800047186661,\"fYtoPixelk\":424.800047186661,\"fYtoPixel\":-9.01251164748575e-4,\"fUtoAbsPixelk\":5e-5,\"fUtoPixelk\":5e-5,\"fUtoPixel\":696,\"fVtoAbsPixelk\":472.00005,\"fVtoPixelk\":472,\"fVtoPixel\":-472,\"fAbsPixeltoXk\":-6.25000009313226,\"fPixeltoXk\":-6.25000009313226,\"fPixeltoX\":0.017959770382564,\"fAbsPixeltoYk\":471344.741401991,\"fPixeltoYk\":-52371.6414019913,\"fPixeltoY\":-1109.56860763556,\"fXlowNDC\":0,\"fYlowNDC\":0,\"fXUpNDC\":0,\"fYUpNDC\":0,\"fWNDC\":1,\"fHNDC\":1,\"fAbsXlowNDC\":0,\"fAbsYlowNDC\":0,\"fAbsWNDC\":1,\"fAbsHNDC\":1,\"fUxmin\":-5,\"fUymin\":0,\"fUxmax\":5,\"fUymax\":418973.1,\"fTheta\":30,\"fPhi\":30,\"fAspectRatio\":0,\"fNumber\":0,\"fTickx\":0,\"fTicky\":0,\"fLogx\":0,\"fLogy\":0,\"fLogz\":0,\"fPadPaint\":0,\"fCrosshair\":0,\"fCrosshairPos\":0,\"fBorderSize\":2,\"fBorderMode\":0,\"fModified\":false,\"fGridx\":false,\"fGridy\":false,\"fAbsCoord\":false,\"fEditable\":true,\"fFixedAspectRatio\":false,\"fPrimitives\":{\"_typename\":\"TList\",\"name\":\"TList\",\"arr\":[{\"_typename\":\"TFrame\",\"fUniqueID\":0,\"fBits\":50331656,\"fLineColor\":1,\"fLineStyle\":1,\"fLineWidth\":1,\"fFillColor\":0,\"fFillStyle\":1001,\"fX1\":-5,\"fY1\":0,\"fX2\":5,\"fY2\":418973.1,\"fBorderSize\":1,\"fBorderMode\":0},{\"_typename\":\"TH1F\",\"fUniqueID\":0,\"fBits\":50331656,\"fName\":\"h1\",\"fTitle\":\"Histo from a Gaussian\",\"fLineColor\":602,\"fLineStyle\":1,\"fLineWidth\":1,\"fFillColor\":0,\"fFillStyle\":1001,\"fMarkerColor\":1,\"fMarkerStyle\":1,\"fMarkerSize\":1,\"fNcells\":102,\"fXaxis\":{\"_typename\":\"TAxis\",\"fUniqueID\":0,\"fBits\":50331648,\"fName\":\"xaxis\",\"fTitle\":\"\",\"fNdivisions\":510,\"fAxisColor\":1,\"fLabelColor\":1,\"fLabelFont\":42,\"fLabelOffset\":0.005,\"fLabelSize\":0.035,\"fTickLength\":0.03,\"fTitleOffset\":1,\"fTitleSize\":0.035,\"fTitleColor\":1,\"fTitleFont\":42,\"fNbins\":100,\"fXmin\":-5,\"fXmax\":5,\"fXbins\":[],\"fFirst\":0,\"fLast\":0,\"fBits2\":0,\"fTimeDisplay\":false,\"fTimeFormat\":\"\",\"fLabels\":null,\"fModLabs\":null},\"fYaxis\":{\"_typename\":\"TAxis\",\"fUniqueID\":0,\"fBits\":50331648,\"fName\":\"yaxis\",\"fTitle\":\"\",\"fNdivisions\":510,\"fAxisColor\":1,\"fLabelColor\":1,\"fLabelFont\":42,\"fLabelOffset\":0.005,\"fLabelSize\":0.035,\"fTickLength\":0.03,\"fTitleOffset\":0,\"fTitleSize\":0.035,\"fTitleColor\":1,\"fTitleFont\":42,\"fNbins\":1,\"fXmin\":0,\"fXmax\":1,\"fXbins\":[],\"fFirst\":0,\"fLast\":0,\"fBits2\":0,\"fTimeDisplay\":false,\"fTimeFormat\":\"\",\"fLabels\":null,\"fModLabs\":null},\"fZaxis\":{\"_typename\":\"TAxis\",\"fUniqueID\":0,\"fBits\":50331648,\"fName\":\"zaxis\",\"fTitle\":\"\",\"fNdivisions\":510,\"fAxisColor\":1,\"fLabelColor\":1,\"fLabelFont\":42,\"fLabelOffset\":0.005,\"fLabelSize\":0.035,\"fTickLength\":0.03,\"fTitleOffset\":1,\"fTitleSize\":0.035,\"fTitleColor\":1,\"fTitleFont\":42,\"fNbins\":1,\"fXmin\":0,\"fXmax\":1,\"fXbins\":[],\"fFirst\":0,\"fLast\":0,\"fBits2\":0,\"fTimeDisplay\":false,\"fTimeFormat\":\"\",\"fLabels\":null,\"fModLabs\":null},\"fBarOffset\":0,\"fBarWidth\":1000,\"fEntries\":10000000,\"fTsumw\":10000000,\"fTsumw2\":10000000,\"fTsumwx\":1537.26641025076,\"fTsumwx2\":10020110.2436415,\"fMaximum\":-1111,\"fMinimum\":-1111,\"fNormFactor\":0,\"fContour\":[],\"fSumw2\":[],\"fOption\":\"\",\"fFunctions\":{\"_typename\":\"TList\",\"name\":\"TList\",\"arr\":[{\"_typename\":\"TPaveStats\",\"fUniqueID\":0,\"fBits\":50331657,\"fLineColor\":1,\"fLineStyle\":1,\"fLineWidth\":1,\"fFillColor\":0,\"fFillStyle\":1001,\"fX1\":3.50000025331975,\"fY1\":353508.558392688,\"fX2\":6.00000032782556,\"fY2\":437303.17776837,\"fX1NDC\":0.780000016093254,\"fY1NDC\":0.775000005960464,\"fX2NDC\":0.980000019073486,\"fY2NDC\":0.935000002384186,\"fBorderSize\":1,\"fInit\":1,\"fShadowColor\":1,\"fCornerRadius\":0,\"fOption\":\"brNDC\",\"fName\":\"stats\",\"fTextAngle\":0,\"fTextSize\":0,\"fTextAlign\":12,\"fTextColor\":1,\"fTextFont\":42,\"fLabel\":\"\",\"fLongest\":24,\"fMargin\":0.05,\"fLines\":{\"_typename\":\"TList\",\"name\":\"TList\",\"arr\":[{\"_typename\":\"TLatex\",\"fUniqueID\":0,\"fBits\":50331648,\"fName\":\"\",\"fTitle\":\"h1\",\"fTextAngle\":0,\"fTextSize\":0.0368,\"fTextAlign\":0,\"fTextColor\":0,\"fTextFont\":0,\"fX\":0,\"fY\":0,\"fLineColor\":1,\"fLineStyle\":1,\"fLineWidth\":2,\"fLimitFactorSize\":3,\"fOriginSize\":0.0368000008165836},{\"_typename\":\"TLatex\",\"fUniqueID\":0,\"fBits\":50331648,\"fName\":\"\",\"fTitle\":\"Entries =          1e+07\",\"fTextAngle\":0,\"fTextSize\":0,\"fTextAlign\":0,\"fTextColor\":0,\"fTextFont\":0,\"fX\":0,\"fY\":0,\"fLineColor\":1,\"fLineStyle\":1,\"fLineWidth\":2,\"fLimitFactorSize\":3,\"fOriginSize\":0.04},{\"_typename\":\"TLatex\",\"fUniqueID\":0,\"fBits\":50331648,\"fName\":\"\",\"fTitle\":\"Mean  = 0.0001537\",\"fTextAngle\":0,\"fTextSize\":0,\"fTextAlign\":0,\"fTextColor\":0,\"fTextFont\":0,\"fX\":0,\"fY\":0,\"fLineColor\":1,\"fLineStyle\":1,\"fLineWidth\":2,\"fLimitFactorSize\":3,\"fOriginSize\":0.04},{\"_typename\":\"TLatex\",\"fUniqueID\":0,\"fBits\":50331648,\"fName\":\"\",\"fTitle\":\"Std Dev   =  1.001\",\"fTextAngle\":0,\"fTextSize\":0,\"fTextAlign\":0,\"fTextColor\":0,\"fTextFont\":0,\"fX\":0,\"fY\":0,\"fLineColor\":1,\"fLineStyle\":1,\"fLineWidth\":2,\"fLimitFactorSize\":3,\"fOriginSize\":0.04}],\"opt\":[\"\",\"\",\"\",\"\"]},\"fOptFit\":0,\"fOptStat\":1111,\"fFitFormat\":\"5.4g\",\"fStatFormat\":\"6.4g\",\"fParent\":{\"$ref\":3}}],\"opt\":[\"brNDC\"]},\"fBufferSize\":0,\"fBuffer\":[],\"fBinStatErrOpt\":0,\"fStatOverflows\":2,\"fArray\":[0,1,4,1,7,15,24,28,44,76,103,167,241,339,537,720,1072,1403,2038,2726,3872,5177,6942,9091,12084,15372,19926,25460,32008,39830,48695,59245,72136,86215,101578,119878,139007,160692,182820,206371,229869,254216,278454,301685,322693,342236,360779,375769,387225,393385,397979,399022,392884,386823,375805,361021,342006,323370,300278,277671,252878,229899,206043,182114,160065,139453,120758,102873,86906,72092,59954,48781,39487,32206,25311,19963,15480,11977,9201,6755,5131,3803,2793,2078,1556,1013,686,558,357,226,155,107,90,50,29,24,11,5,9,4,4,0]},{\"_typename\":\"TPaveText\",\"fUniqueID\":0,\"fBits\":50331657,\"fLineColor\":1,\"fLineStyle\":1,\"fLineWidth\":1,\"fFillColor\":0,\"fFillStyle\":0,\"fX1\":-2.40589084044827,\"fY1\":439921.760501808,\"fX2\":2.40589084044827,\"fY2\":468726.161985246,\"fX1NDC\":0.307528735632184,\"fY1NDC\":0.940000003948808,\"fX2NDC\":0.692471264367816,\"fY2NDC\":0.995000004768372,\"fBorderSize\":0,\"fInit\":1,\"fShadowColor\":1,\"fCornerRadius\":0,\"fOption\":\"blNDC\",\"fName\":\"title\",\"fTextAngle\":0,\"fTextSize\":0,\"fTextAlign\":22,\"fTextColor\":1,\"fTextFont\":42,\"fLabel\":\"\",\"fLongest\":21,\"fMargin\":0.05,\"fLines\":{\"_typename\":\"TList\",\"name\":\"TList\",\"arr\":[{\"_typename\":\"TLatex\",\"fUniqueID\":0,\"fBits\":50331648,\"fName\":\"\",\"fTitle\":\"Histo from a Gaussian\",\"fTextAngle\":0,\"fTextSize\":0,\"fTextAlign\":0,\"fTextColor\":0,\"fTextFont\":0,\"fX\":0,\"fY\":0,\"fLineColor\":1,\"fLineStyle\":1,\"fLineWidth\":2,\"fLimitFactorSize\":3,\"fOriginSize\":0.0467500016093254}],\"opt\":[\"\"]}}],\"opt\":[\"\",\"\",\"blNDC\"]},\"fExecs\":null,\"fName\":\"c1\",\"fTitle\":\"\",\"fNumPaletteColor\":0,\"fNextPaletteColor\":0,\"fDISPLAY\":\"$DISPLAY\",\"fDoubleBuffer\":0,\"fRetained\":true,\"fXsizeUser\":0,\"fYsizeUser\":0,\"fXsizeReal\":20,\"fYsizeReal\":14.28571,\"fWindowTopX\":0,\"fWindowTopY\":0,\"fWindowWidth\":0,\"fWindowHeight\":0,\"fCw\":696,\"fCh\":472,\"fCatt\":{\"_typename\":\"TAttCanvas\",\"fXBetween\":2,\"fYBetween\":2,\"fTitleFromTop\":1.2,\"fXdate\":0.2,\"fYdate\":0.3,\"fAdate\":1},\"kMoveOpaque\":true,\"kResizeOpaque\":true,\"fHighLightColor\":2,\"fBatch\":true,\"kShowEventStatus\":false,\"kAutoExec\":true,\"kMenuBar\":true});\n",
       "       Core.draw(\"root_plot_5\", obj, \"\");\n",
       "     }\n",
       " );\n",
       "</script>\n"
      ],
      "text/plain": [
       "<IPython.core.display.HTML object>"
      ]
     },
     "metadata": {},
     "output_type": "display_data"
    }
   ],
   "source": [
    "if JSROOT:\n",
    "    %jsroot on\n",
    "c2 = ROOT.TCanvas(\"c1\")\n",
    "h1 = ROOT.TH1F(\"h1\",\"Histo from a Gaussian\",100,-5,5);\n",
    "h1.FillRandom(\"gaus\",10000000);\n",
    "h1.Draw()\n",
    "c2.Draw()"
   ]
  }
 ],
 "metadata": {
  "kernelspec": {
   "display_name": "Python 3",
   "language": "python",
   "name": "python3"
  },
  "language_info": {
   "codemirror_mode": {
    "name": "ipython",
    "version": 3
   },
   "file_extension": ".py",
   "mimetype": "text/x-python",
   "name": "python",
   "nbconvert_exporter": "python",
   "pygments_lexer": "ipython3",
   "version": "3.7.3"
  }
 },
 "nbformat": 4,
 "nbformat_minor": 4
}
