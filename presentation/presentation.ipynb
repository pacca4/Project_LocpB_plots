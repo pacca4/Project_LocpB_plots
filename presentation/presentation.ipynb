{
 "cells": [
  {
   "cell_type": "markdown",
   "metadata": {},
   "source": [
    "# Laboratory of Computational Physics (mod.B): Final Project\n",
    "\n",
    "### Authors\n",
    "* [Ardino Rocco](https://github.com/RoccoA97) (University of Padua)\n",
    "* [Paccagnella Andrea](https://github.com/pacca4) (University of Padua)\n",
    "* [Valente Alessandro](https://github.com/mastrovalentz) (University of Padua)\n",
    "\n",
    "### Supervisors\n",
    "* Prof. [Marco Zanetti](https://github.com/mzanetti79) (University of Padova, CERN)\n",
    "* Dr. [Alberto Zucchetta](https://github.com/zucchett) (University of Padova, CERN)"
   ]
  },
  {
   "cell_type": "markdown",
   "metadata": {},
   "source": [
    "# Index <a class=\"anchor\" id=\"FP.i\"></a>\n",
    "\n",
    "* 1. [Introduction](#FP.1.)\n",
    "    * 1.1. [Project goals](#FP.1.1.)\n",
    "    * 1.2. [Software and needed packages](#FP.1.2.)\n",
    "* 2. [The dataset](#FP.2.)\n",
    "    * 2.1. [Background dataset](#FP.2.1.)\n",
    "    * 2.2. [Signal dataset](#FP.2.2.)\n",
    "* 3. [Skim and cuts operations](#FP.3.)\n",
    "* 4. [Fit of background and signal distributions](#FP.4.)\n",
    "* 5. [Statistical tests](#FP.5.)"
   ]
  },
  {
   "cell_type": "markdown",
   "metadata": {},
   "source": [
    "## 1. - Introduction <a class=\"anchor\" id=\"FP.1.\"></a>\n",
    "* [Index](#FP.i)"
   ]
  },
  {
   "cell_type": "markdown",
   "metadata": {},
   "source": [
    "### 1.1. - Project goals <a class=\"anchor\" id=\"FP.1.1.\"></a>\n",
    "* [Index](#FP.i)"
   ]
  },
  {
   "cell_type": "markdown",
   "metadata": {},
   "source": [
    "From\n",
    "https://arxiv.org/pdf/1810.10056.pdf\n",
    "\n",
    "In 2012, a new boson with a mass of $125 \\ \\text{GeV}$ was observed in data from the ATLAS and CMS experiments at the CERN LHC. All measurements of the properties of this boson are consistent with those of the Higgs boson ($H$) of the standard model (SM). However, the Yukawa couplings of the Higgs boson to the first- and second-generation quarks are currently only weakly constrained. Rare exclusive decays of the Higgs boson to mesons in association with a photon can be used to explore such couplings. For example, the decay:\n",
    "\n",
    "$$\n",
    "H \\longrightarrow J/\\psi \\gamma\n",
    "$$\n",
    "\n",
    "can probe the Higgs boson coupling to the charm quark. Through CMS detector, a study can be done by considering the subsequent decay of the $J/\\psi$ to $\\mu^+\\mu^-$, which has a SM predicted branching ratio of:\n",
    "\n",
    "$$\n",
    "\\mathcal{B}(H \\rightarrow J/\\psi\\gamma \\rightarrow \\mu^+\\mu^-\\gamma)\n",
    "=\n",
    "\\mathcal{B}(H \\rightarrow J/\\psi\\gamma) \\cdot \\mathcal{B}(J/\\psi \\rightarrow \\mu^+\\mu^-)\n",
    "=\n",
    "3 \\cdot 10^{-6} \\cdot 6 \\cdot 10^{-2}\n",
    "\\approx\n",
    "2 \\cdot 10^{-7}\n",
    "$$\n",
    "\n",
    "This information, combined with the Higgs cross section $\\sigma_H$ and with the total integrated luminosity $\\mathcal{L}$ of LCH, gives an expected number of events of about $1$ per year. So, this is quite difficult to observe, but we can study an exclusion upper limit for the branching ratio."
   ]
  },
  {
   "cell_type": "markdown",
   "metadata": {},
   "source": [
    "In this project, we consider the NanoAOD Charmonium datasets of CMS from 2016, 2017 and 2018 runs (for the background) and a Monte Carlo simulated dataset of $H \\rightarrow J/\\psi \\rightarrow \\mu^+\\mu^-\\gamma$ (for the signal). Our aims are:\n",
    "* finding an optimal cut for both dataset in order to filter the background data before adding the opportunely scaled signal events, amplified by the signal strength parameter $\\mu$;\n",
    "* apply several statistical tests to the background + $\\mu \\cdot$ signal distribution in order to find the significance of signal detection depending on the signal strength $mu$. "
   ]
  },
  {
   "cell_type": "markdown",
   "metadata": {},
   "source": [
    "### 1.2. - Software and needed packages <a class=\"anchor\" id=\"FP.1.1.\"></a>\n",
    "* [Index](#FP.i)"
   ]
  },
  {
   "cell_type": "markdown",
   "metadata": {},
   "source": [
    "The whole analysis has been performed on the ROOT analysis framework, implementing several macros in c++ language and some bash scripts to automate the workflow. The source code can be found [here](https://github.com/pacca4/Project_LocpB_plots). For this report, the pyROOT extension is exploited."
   ]
  },
  {
   "cell_type": "markdown",
   "metadata": {},
   "source": [
    "Here, we import all the needed python and ROOT packages for the report."
   ]
  },
  {
   "cell_type": "code",
   "execution_count": 1,
   "metadata": {},
   "outputs": [
    {
     "name": "stderr",
     "output_type": "stream",
     "text": [
      "TClassTable::Add:0: RuntimeWarning: class timespec already in TClassTable\n",
      "TClassTable::Add:0: RuntimeWarning: class reverse_iterator<__gnu_cxx::__normal_iterator<TString*,vector<TString> > > already in TClassTable\n",
      "TClassTable::Add:0: RuntimeWarning: class reverse_iterator<__gnu_cxx::__normal_iterator<int*,vector<int> > > already in TClassTable\n",
      "TClassTable::Add:0: RuntimeWarning: class reverse_iterator<__gnu_cxx::__normal_iterator<string*,vector<string> > > already in TClassTable\n",
      "TClassTable::Add:0: RuntimeWarning: class __gnu_cxx::__normal_iterator<char*,string> already in TClassTable\n",
      "TClassTable::Add:0: RuntimeWarning: class __gnu_cxx::__normal_iterator<const char*,string> already in TClassTable\n",
      "TClassTable::Add:0: RuntimeWarning: class __gnu_cxx::__normal_iterator<TString*,vector<TString> > already in TClassTable\n",
      "TClassTable::Add:0: RuntimeWarning: class __gnu_cxx::__normal_iterator<const TString*,vector<TString> > already in TClassTable\n",
      "TClassTable::Add:0: RuntimeWarning: class __gnu_cxx::__normal_iterator<const int*,vector<int> > already in TClassTable\n",
      "TClassTable::Add:0: RuntimeWarning: class __gnu_cxx::__normal_iterator<int*,vector<int> > already in TClassTable\n",
      "TClassTable::Add:0: RuntimeWarning: class __gnu_cxx::__normal_iterator<const string*,vector<string> > already in TClassTable\n",
      "TClassTable::Add:0: RuntimeWarning: class __gnu_cxx::__normal_iterator<string*,vector<string> > already in TClassTable\n",
      "TClassTable::Add:0: RuntimeWarning: class TVirtualIsAProxy already in TClassTable\n",
      "TClassTable::Add:0: RuntimeWarning: class TIsAProxy already in TClassTable\n",
      "TClassTable::Add:0: RuntimeWarning: class TStorage already in TClassTable\n",
      "TClassTable::Add:0: RuntimeWarning: class TObject already in TClassTable\n",
      "TClassTable::Add:0: RuntimeWarning: class TIterator already in TClassTable\n",
      "TClassTable::Add:0: RuntimeWarning: class TSubString already in TClassTable\n",
      "TClassTable::Add:0: RuntimeWarning: class TString already in TClassTable\n",
      "TClassTable::Add:0: RuntimeWarning: class TVirtualMutex already in TClassTable\n",
      "TClassTable::Add:0: RuntimeWarning: class TLockGuard already in TClassTable\n",
      "TClassTable::Add:0: RuntimeWarning: class ROOT::TVirtualRWMutex already in TClassTable\n",
      "TClassTable::Add:0: RuntimeWarning: class ROOT::TReadLockGuard already in TClassTable\n",
      "TClassTable::Add:0: RuntimeWarning: class ROOT::TWriteLockGuard already in TClassTable\n",
      "TClassTable::Add:0: RuntimeWarning: class TCollection already in TClassTable\n",
      "TClassTable::Add:0: RuntimeWarning: class TIter already in TClassTable\n",
      "TClassTable::Add:0: RuntimeWarning: class TSeqCollection already in TClassTable\n",
      "TClassTable::Add:0: RuntimeWarning: class TList already in TClassTable\n",
      "TClassTable::Add:0: RuntimeWarning: class TListIter already in TClassTable\n",
      "TClassTable::Add:0: RuntimeWarning: class SetWindowAttributes_t already in TClassTable\n",
      "TClassTable::Add:0: RuntimeWarning: class WindowAttributes_t already in TClassTable\n",
      "TClassTable::Add:0: RuntimeWarning: class Event_t already in TClassTable\n",
      "TClassTable::Add:0: RuntimeWarning: class GCValues_t already in TClassTable\n",
      "TClassTable::Add:0: RuntimeWarning: class ColorStruct_t already in TClassTable\n",
      "TClassTable::Add:0: RuntimeWarning: class PictureAttributes_t already in TClassTable\n",
      "TClassTable::Add:0: RuntimeWarning: class Segment_t already in TClassTable\n",
      "TClassTable::Add:0: RuntimeWarning: class Point_t already in TClassTable\n",
      "TClassTable::Add:0: RuntimeWarning: class Rectangle_t already in TClassTable\n",
      "TClassTable::Add:0: RuntimeWarning: class TNamed already in TClassTable\n",
      "TClassTable::Add:0: RuntimeWarning: class TDictionary already in TClassTable\n",
      "TClassTable::Add:0: RuntimeWarning: class TDataType already in TClassTable\n",
      "TClassTable::Add:0: RuntimeWarning: class TInterpreter already in TClassTable\n",
      "TClassTable::Add:0: RuntimeWarning: class TQObject already in TClassTable\n",
      "TClassTable::Add:0: RuntimeWarning: class TQObjSender already in TClassTable\n",
      "TClassTable::Add:0: RuntimeWarning: class TApplicationImp already in TClassTable\n",
      "TClassTable::Add:0: RuntimeWarning: class TApplication already in TClassTable\n",
      "TClassTable::Add:0: RuntimeWarning: class TAtt3D already in TClassTable\n",
      "TClassTable::Add:0: RuntimeWarning: class TAttAxis already in TClassTable\n",
      "TClassTable::Add:0: RuntimeWarning: class TAttBBox2D already in TClassTable\n",
      "TClassTable::Add:0: RuntimeWarning: class TAttBBox already in TClassTable\n",
      "TClassTable::Add:0: RuntimeWarning: class TAttFill already in TClassTable\n",
      "TClassTable::Add:0: RuntimeWarning: class TAttLine already in TClassTable\n",
      "TClassTable::Add:0: RuntimeWarning: class TAttMarker already in TClassTable\n",
      "TClassTable::Add:0: RuntimeWarning: class TAttPad already in TClassTable\n",
      "TClassTable::Add:0: RuntimeWarning: class TAttText already in TClassTable\n",
      "TClassTable::Add:0: RuntimeWarning: class TBase64 already in TClassTable\n",
      "TClassTable::Add:0: RuntimeWarning: class TStopwatch already in TClassTable\n",
      "TClassTable::Add:0: RuntimeWarning: class TBenchmark already in TClassTable\n",
      "TClassTable::Add:0: RuntimeWarning: class TBuffer3D already in TClassTable\n",
      "TClassTable::Add:0: RuntimeWarning: class TObjArray already in TClassTable\n",
      "TClassTable::Add:0: RuntimeWarning: class TObjArrayIter already in TClassTable\n",
      "TClassTable::Add:0: RuntimeWarning: class TClass already in TClassTable\n",
      "TClassTable::Add:0: RuntimeWarning: class TBuffer already in TClassTable\n",
      "TClassTable::Add:0: RuntimeWarning: class TArray already in TClassTable\n",
      "TClassTable::Add:0: RuntimeWarning: class TArrayI already in TClassTable\n",
      "TClassTable::Add:0: RuntimeWarning: class TColor already in TClassTable\n",
      "TClassTable::Add:0: RuntimeWarning: class TColorGradient already in TClassTable\n",
      "TClassTable::Add:0: RuntimeWarning: class TLinearGradient already in TClassTable\n",
      "TClassTable::Add:0: RuntimeWarning: class TRadialGradient already in TClassTable\n",
      "TClassTable::Add:0: RuntimeWarning: class TDatime already in TClassTable\n",
      "TClassTable::Add:0: RuntimeWarning: class TUUID already in TClassTable\n",
      "TClassTable::Add:0: RuntimeWarning: class TDirectory already in TClassTable\n",
      "TClassTable::Add:0: RuntimeWarning: class TEnvRec already in TClassTable\n",
      "TClassTable::Add:0: RuntimeWarning: class TEnv already in TClassTable\n",
      "TClassTable::Add:0: RuntimeWarning: class TExec already in TClassTable\n",
      "TClassTable::Add:0: RuntimeWarning: class TFileCollection already in TClassTable\n",
      "TClassTable::Add:0: RuntimeWarning: class THashTable already in TClassTable\n",
      "TClassTable::Add:0: RuntimeWarning: class THashTableIter already in TClassTable\n",
      "TClassTable::Add:0: RuntimeWarning: class TMap already in TClassTable\n",
      "TClassTable::Add:0: RuntimeWarning: class TPair already in TClassTable\n",
      "TClassTable::Add:0: RuntimeWarning: class TMapIter already in TClassTable\n",
      "TClassTable::Add:0: RuntimeWarning: class TUrl already in TClassTable\n",
      "TClassTable::Add:0: RuntimeWarning: class TMD5 already in TClassTable\n",
      "TClassTable::Add:0: RuntimeWarning: class TFileInfo already in TClassTable\n",
      "TClassTable::Add:0: RuntimeWarning: class TFileInfoMeta already in TClassTable\n",
      "TClassTable::Add:0: RuntimeWarning: class TFolder already in TClassTable\n",
      "TClassTable::Add:0: RuntimeWarning: class TInetAddress already in TClassTable\n",
      "TClassTable::Add:0: RuntimeWarning: class TMacro already in TClassTable\n",
      "TClassTable::Add:0: RuntimeWarning: class TMemberInspector already in TClassTable\n",
      "TClassTable::Add:0: RuntimeWarning: class TMessageHandler already in TClassTable\n",
      "TClassTable::Add:0: RuntimeWarning: class TNotifyLinkBase already in TClassTable\n",
      "TClassTable::Add:0: RuntimeWarning: class TObjString already in TClassTable\n",
      "TClassTable::Add:0: RuntimeWarning: class TROOT already in TClassTable\n",
      "TClassTable::Add:0: RuntimeWarning: class TParameter<bool> already in TClassTable\n",
      "TClassTable::Add:0: RuntimeWarning: class TParameter<Long64_t> already in TClassTable\n",
      "TClassTable::Add:0: RuntimeWarning: class TParameter<long> already in TClassTable\n",
      "TClassTable::Add:0: RuntimeWarning: class TParameter<int> already in TClassTable\n",
      "TClassTable::Add:0: RuntimeWarning: class TParameter<double> already in TClassTable\n",
      "TClassTable::Add:0: RuntimeWarning: class TParameter<float> already in TClassTable\n",
      "TClassTable::Add:0: RuntimeWarning: class TMethodCall already in TClassTable\n",
      "TClassTable::Add:0: RuntimeWarning: class TPluginHandler already in TClassTable\n",
      "TClassTable::Add:0: RuntimeWarning: class TPluginManager already in TClassTable\n",
      "TClassTable::Add:0: RuntimeWarning: class TPoint already in TClassTable\n",
      "TClassTable::Add:0: RuntimeWarning: class TPRegexp already in TClassTable\n",
      "TClassTable::Add:0: RuntimeWarning: class TPMERegexp already in TClassTable\n",
      "TClassTable::Add:0: RuntimeWarning: class TStringToken already in TClassTable\n",
      "TClassTable::Add:0: RuntimeWarning: class TProcessID already in TClassTable\n",
      "TClassTable::Add:0: RuntimeWarning: class TProcessUUID already in TClassTable\n",
      "TClassTable::Add:0: RuntimeWarning: class TQClass already in TClassTable\n",
      "TClassTable::Add:0: RuntimeWarning: class TQCommand already in TClassTable\n",
      "TClassTable::Add:0: RuntimeWarning: class TQUndoManager already in TClassTable\n",
      "TClassTable::Add:0: RuntimeWarning: class TQConnection already in TClassTable\n",
      "TClassTable::Add:0: RuntimeWarning: class TSysEvtHandler already in TClassTable\n",
      "TClassTable::Add:0: RuntimeWarning: class TFileHandler already in TClassTable\n",
      "TClassTable::Add:0: RuntimeWarning: class TSignalHandler already in TClassTable\n",
      "TClassTable::Add:0: RuntimeWarning: class TStdExceptionHandler already in TClassTable\n",
      "TClassTable::Add:0: RuntimeWarning: class TTime already in TClassTable\n",
      "TClassTable::Add:0: RuntimeWarning: class TTimer already in TClassTable\n",
      "TClassTable::Add:0: RuntimeWarning: class FileStat_t already in TClassTable\n",
      "TClassTable::Add:0: RuntimeWarning: class UserGroup_t already in TClassTable\n",
      "TClassTable::Add:0: RuntimeWarning: class SysInfo_t already in TClassTable\n",
      "TClassTable::Add:0: RuntimeWarning: class CpuInfo_t already in TClassTable\n",
      "TClassTable::Add:0: RuntimeWarning: class MemInfo_t already in TClassTable\n",
      "TClassTable::Add:0: RuntimeWarning: class ProcInfo_t already in TClassTable\n",
      "TClassTable::Add:0: RuntimeWarning: class RedirectHandle_t already in TClassTable\n",
      "TClassTable::Add:0: RuntimeWarning: class TProcessEventTimer already in TClassTable\n",
      "TClassTable::Add:0: RuntimeWarning: class TSystem already in TClassTable\n",
      "TClassTable::Add:0: RuntimeWarning: class TRedirectOutputGuard already in TClassTable\n",
      "TClassTable::Add:0: RuntimeWarning: class TRefCnt already in TClassTable\n",
      "TClassTable::Add:0: RuntimeWarning: class TRef already in TClassTable\n",
      "TClassTable::Add:0: RuntimeWarning: class TRegexp already in TClassTable\n",
      "TClassTable::Add:0: RuntimeWarning: class TRemoteObject already in TClassTable\n",
      "TClassTable::Add:0: RuntimeWarning: class TRootIOCtor already in TClassTable\n",
      "TClassTable::Add:0: RuntimeWarning: class TStringLong already in TClassTable\n",
      "TClassTable::Add:0: RuntimeWarning: class TStyle already in TClassTable\n",
      "TClassTable::Add:0: RuntimeWarning: class TSystemFile already in TClassTable\n",
      "TClassTable::Add:0: RuntimeWarning: class TSystemDirectory already in TClassTable\n",
      "TClassTable::Add:0: RuntimeWarning: class TTask already in TClassTable\n",
      "TClassTable::Add:0: RuntimeWarning: class TTimeStamp already in TClassTable\n",
      "TClassTable::Add:0: RuntimeWarning: class TUri already in TClassTable\n",
      "TClassTable::Add:0: RuntimeWarning: class TVirtualAuth already in TClassTable\n",
      "TClassTable::Add:0: RuntimeWarning: class TVirtualFFT already in TClassTable\n",
      "TClassTable::Add:0: RuntimeWarning: class TVirtualGLPainter already in TClassTable\n",
      "TClassTable::Add:0: RuntimeWarning: class TVirtualGLManip already in TClassTable\n",
      "TClassTable::Add:0: RuntimeWarning: class TGLManager already in TClassTable\n",
      "TClassTable::Add:0: RuntimeWarning: class TGLPaintDevice already in TClassTable\n",
      "TClassTable::Add:0: RuntimeWarning: class TVirtualMonitoringWriter already in TClassTable\n",
      "TClassTable::Add:0: RuntimeWarning: class TVirtualMonitoringReader already in TClassTable\n",
      "TClassTable::Add:0: RuntimeWarning: class TVirtualPadEditor already in TClassTable\n",
      "TClassTable::Add:0: RuntimeWarning: class TVirtualPad already in TClassTable\n",
      "TClassTable::Add:0: RuntimeWarning: class TVirtualPadPainter already in TClassTable\n",
      "TClassTable::Add:0: RuntimeWarning: class TVirtualPerfStats already in TClassTable\n",
      "TClassTable::Add:0: RuntimeWarning: class TVirtualPS already in TClassTable\n",
      "TClassTable::Add:0: RuntimeWarning: class TVirtualTableInterface already in TClassTable\n",
      "TClassTable::Add:0: RuntimeWarning: class TVirtualViewer3D already in TClassTable\n",
      "TClassTable::Add:0: RuntimeWarning: class TVirtualX already in TClassTable\n",
      "TClassTable::Add:0: RuntimeWarning: class TArrayC already in TClassTable\n",
      "TClassTable::Add:0: RuntimeWarning: class TArrayD already in TClassTable\n",
      "TClassTable::Add:0: RuntimeWarning: class TArrayF already in TClassTable\n",
      "TClassTable::Add:0: RuntimeWarning: class TArrayL64 already in TClassTable\n",
      "TClassTable::Add:0: RuntimeWarning: class TArrayL already in TClassTable\n",
      "TClassTable::Add:0: RuntimeWarning: class TArrayS already in TClassTable\n",
      "TClassTable::Add:0: RuntimeWarning: class TBits already in TClassTable\n",
      "TClassTable::Add:0: RuntimeWarning: class TBits::TReference already in TClassTable\n",
      "TClassTable::Add:0: RuntimeWarning: class TBtree already in TClassTable\n",
      "TClassTable::Add:0: RuntimeWarning: class TBtreeIter already in TClassTable\n",
      "TClassTable::Add:0: RuntimeWarning: class TClassTable already in TClassTable\n",
      "TClassTable::Add:0: RuntimeWarning: class TClonesArray already in TClassTable\n",
      "TClassTable::Add:0: RuntimeWarning: class TExMap already in TClassTable\n",
      "TClassTable::Add:0: RuntimeWarning: class TExMapIter already in TClassTable\n",
      "TClassTable::Add:0: RuntimeWarning: class THashList already in TClassTable\n",
      "TClassTable::Add:0: RuntimeWarning: class TObjectTable already in TClassTable\n",
      "TClassTable::Add:0: RuntimeWarning: class TOrdCollection already in TClassTable\n",
      "TClassTable::Add:0: RuntimeWarning: class TOrdCollectionIter already in TClassTable\n",
      "TClassTable::Add:0: RuntimeWarning: class TRefArray already in TClassTable\n",
      "TClassTable::Add:0: RuntimeWarning: class TRefArrayIter already in TClassTable\n",
      "TClassTable::Add:0: RuntimeWarning: class TRefTable already in TClassTable\n",
      "TClassTable::Add:0: RuntimeWarning: class TSortedList already in TClassTable\n",
      "TClassTable::Add:0: RuntimeWarning: class TClassRef already in TClassTable\n",
      "TClassTable::Add:0: RuntimeWarning: class TVirtualCollectionProxy already in TClassTable\n",
      "TClassTable::Add:0: RuntimeWarning: class TUnixSystem already in TClassTable\n",
      "TClassTable::Add:0: RuntimeWarning: class TBrowserImp already in TClassTable\n",
      "TClassTable::Add:0: RuntimeWarning: class TBrowser already in TClassTable\n",
      "TClassTable::Add:0: RuntimeWarning: class TCanvasImp already in TClassTable\n",
      "TClassTable::Add:0: RuntimeWarning: class TClassMenuItem already in TClassTable\n",
      "TClassTable::Add:0: RuntimeWarning: class TContextMenuImp already in TClassTable\n",
      "TClassTable::Add:0: RuntimeWarning: class TContextMenu already in TClassTable\n",
      "TClassTable::Add:0: RuntimeWarning: class TControlBarImp already in TClassTable\n",
      "TClassTable::Add:0: RuntimeWarning: class TGuiFactory already in TClassTable\n",
      "TClassTable::Add:0: RuntimeWarning: class TInspectorImp already in TClassTable\n",
      "TClassTable::Add:0: RuntimeWarning: class TObjectSpy already in TClassTable\n",
      "TClassTable::Add:0: RuntimeWarning: class TObjectRefSpy already in TClassTable\n",
      "TClassTable::Add:0: RuntimeWarning: class TFunction already in TClassTable\n",
      "TClassTable::Add:0: RuntimeWarning: class TMethod already in TClassTable\n",
      "TClassTable::Add:0: RuntimeWarning: class TToggle already in TClassTable\n",
      "TClassTable::Add:0: RuntimeWarning: class TToggleGroup already in TClassTable\n",
      "TClassTable::Add:0: RuntimeWarning: class TBaseClass already in TClassTable\n",
      "TClassTable::Add:0: RuntimeWarning: class TClassGenerator already in TClassTable\n",
      "TClassTable::Add:0: RuntimeWarning: class TClassStreamer already in TClassTable\n",
      "TClassTable::Add:0: RuntimeWarning: class TDataMember already in TClassTable\n",
      "TClassTable::Add:0: RuntimeWarning: class TOptionListItem already in TClassTable\n",
      "TClassTable::Add:0: RuntimeWarning: class TDictAttributeMap already in TClassTable\n",
      "TClassTable::Add:0: RuntimeWarning: class TGlobal already in TClassTable\n",
      "TClassTable::Add:0: RuntimeWarning: class TEnum already in TClassTable\n",
      "TClassTable::Add:0: RuntimeWarning: class TEnumConstant already in TClassTable\n",
      "TClassTable::Add:0: RuntimeWarning: class TFileMergeInfo already in TClassTable\n",
      "TClassTable::Add:0: RuntimeWarning: class TFunctionTemplate already in TClassTable\n",
      "TClassTable::Add:0: RuntimeWarning: class TListOfDataMembers already in TClassTable\n",
      "TClassTable::Add:0: RuntimeWarning: class TListOfEnums already in TClassTable\n",
      "TClassTable::Add:0: RuntimeWarning: class TListOfEnumsWithLock already in TClassTable\n",
      "TClassTable::Add:0: RuntimeWarning: class TListOfEnumsWithLockIter already in TClassTable\n",
      "TClassTable::Add:0: RuntimeWarning: class TListOfFunctions already in TClassTable\n",
      "TClassTable::Add:0: RuntimeWarning: class TListOfFunctionsIter already in TClassTable\n",
      "TClassTable::Add:0: RuntimeWarning: class TListOfFunctionTemplates already in TClassTable\n",
      "TClassTable::Add:0: RuntimeWarning: class TMemberStreamer already in TClassTable\n",
      "TClassTable::Add:0: RuntimeWarning: class TMethodArg already in TClassTable\n",
      "TClassTable::Add:0: RuntimeWarning: class TProtoClass already in TClassTable\n",
      "TClassTable::Add:0: RuntimeWarning: class TProtoClass::TProtoRealData already in TClassTable\n",
      "TClassTable::Add:0: RuntimeWarning: class TRealData already in TClassTable\n",
      "TClassTable::Add:0: RuntimeWarning: class ROOT::TSchemaRule already in TClassTable\n",
      "TClassTable::Add:0: RuntimeWarning: class ROOT::TSchemaRule::TSources already in TClassTable\n",
      "TClassTable::Add:0: RuntimeWarning: class ROOT::Detail::TSchemaRuleSet already in TClassTable\n",
      "TClassTable::Add:0: RuntimeWarning: class ROOT::Detail::TStatusBitsChecker already in TClassTable\n",
      "TClassTable::Add:0: RuntimeWarning: class TStreamerElement already in TClassTable\n",
      "TClassTable::Add:0: RuntimeWarning: class TStreamerBase already in TClassTable\n",
      "TClassTable::Add:0: RuntimeWarning: class TStreamerBasicPointer already in TClassTable\n",
      "TClassTable::Add:0: RuntimeWarning: class TStreamerLoop already in TClassTable\n",
      "TClassTable::Add:0: RuntimeWarning: class TStreamerBasicType already in TClassTable\n",
      "TClassTable::Add:0: RuntimeWarning: class TStreamerObject already in TClassTable\n",
      "TClassTable::Add:0: RuntimeWarning: class TStreamerObjectAny already in TClassTable\n",
      "TClassTable::Add:0: RuntimeWarning: class TStreamerObjectPointer already in TClassTable\n",
      "TClassTable::Add:0: RuntimeWarning: class TStreamerObjectAnyPointer already in TClassTable\n",
      "TClassTable::Add:0: RuntimeWarning: class TStreamerString already in TClassTable\n",
      "TClassTable::Add:0: RuntimeWarning: class TStreamerSTL already in TClassTable\n",
      "TClassTable::Add:0: RuntimeWarning: class TStreamerSTLstring already in TClassTable\n",
      "TClassTable::Add:0: RuntimeWarning: class TStreamerArtificial already in TClassTable\n",
      "TClassTable::Add:0: RuntimeWarning: class TVirtualStreamerInfo already in TClassTable\n",
      "TClassTable::Add:0: RuntimeWarning: class TVirtualArray already in TClassTable\n",
      "TClassTable::Add:0: RuntimeWarning: class TVirtualObject already in TClassTable\n"
     ]
    },
    {
     "name": "stdout",
     "output_type": "stream",
     "text": [
      "Welcome to JupyROOT 6.18/04\n"
     ]
    }
   ],
   "source": [
    "import ROOT\n",
    "\n",
    "from ROOT import TCanvas\n",
    "from ROOT import TH1F"
   ]
  },
  {
   "cell_type": "markdown",
   "metadata": {},
   "source": [
    "## 2. - The dataset <a class=\"anchor\" id=\"FP.2.\"></a>\n",
    "* [Index](#FP.i)"
   ]
  },
  {
   "cell_type": "markdown",
   "metadata": {},
   "source": [
    "### 2.1. - Background dataset <a class=\"anchor\" id=\"FP.2.1.\"></a>\n",
    "* [Index](#FP.i)"
   ]
  },
  {
   "cell_type": "markdown",
   "metadata": {},
   "source": [
    "### 2.2. - Signal dataset <a class=\"anchor\" id=\"FP.2.2.\"></a>\n",
    "* [Index](#FP.i)"
   ]
  },
  {
   "cell_type": "markdown",
   "metadata": {},
   "source": [
    "## 3. - Skim and cuts operations <a class=\"anchor\" id=\"FP.3.\"></a>\n",
    "* [Index](#FP.i)"
   ]
  },
  {
   "cell_type": "markdown",
   "metadata": {},
   "source": [
    "### 3.1. - Post Processor  <a class=\"anchor\" id=\"FP.3.1.\"></a>\n",
    "* [Index](#FP.i)"
   ]
  },
  {
   "cell_type": "markdown",
   "metadata": {},
   "source": [
    "### 3.2. - Trigger  <a class=\"anchor\" id=\"FP.3.2.\"></a>\n",
    "* [Index](#FP.i)"
   ]
  },
  {
   "cell_type": "markdown",
   "metadata": {},
   "source": [
    "### 3.3. - Cutted  <a class=\"anchor\" id=\"FP.3.3.\"></a>\n",
    "* [Index](#FP.i)"
   ]
  },
  {
   "cell_type": "markdown",
   "metadata": {},
   "source": [
    "## 4. - Fit of background and signal distributions <a class=\"anchor\" id=\"FP.4.\"></a>\n",
    "* [Index](#FP.i)"
   ]
  },
  {
   "cell_type": "markdown",
   "metadata": {},
   "source": [
    "## 5. - Statistical tests <a class=\"anchor\" id=\"FP.5.\"></a>\n",
    "* [Index](#FP.i)"
   ]
  },
  {
   "cell_type": "markdown",
   "metadata": {},
   "source": [
    "# JupyROOT test (to remove)"
   ]
  },
  {
   "cell_type": "markdown",
   "metadata": {},
   "source": [
    "### Non interactive (standard) cell"
   ]
  },
  {
   "cell_type": "code",
   "execution_count": 4,
   "metadata": {},
   "outputs": [
    {
     "name": "stderr",
     "output_type": "stream",
     "text": [
      "Warning in <TCanvas::Constructor>: Deleting canvas with same name: c1\n",
      "Warning in <TROOT::Append>: Replacing existing TH1: h1 (Potential memory leak).\n"
     ]
    },
    {
     "data": {
      "text/html": [
       "\n",
       "<div id=\"root_plot_2\"\n",
       "     style=\"width: 696px; height: 472px\">\n",
       "</div>\n",
       "\n",
       "<script>\n",
       " requirejs.config({\n",
       "     paths: {\n",
       "       'JSRootCore' : 'https://root.cern.ch/js/notebook//scripts/JSRootCore',\n",
       "     }\n",
       "   });\n",
       " require(['JSRootCore'],\n",
       "     function(Core) {\n",
       "       var obj = Core.JSONR_unref({\"_typename\":\"TCanvas\",\"fUniqueID\":0,\"fBits\":53673992,\"fLineColor\":1,\"fLineStyle\":1,\"fLineWidth\":1,\"fFillColor\":0,\"fFillStyle\":1001,\"fLeftMargin\":0.1,\"fRightMargin\":0.1,\"fBottomMargin\":0.1,\"fTopMargin\":0.1,\"fXfile\":2,\"fYfile\":2,\"fAfile\":1,\"fXstat\":0.99,\"fYstat\":0.99,\"fAstat\":2,\"fFrameFillColor\":0,\"fFrameLineColor\":1,\"fFrameFillStyle\":1001,\"fFrameLineStyle\":1,\"fFrameLineWidth\":1,\"fFrameBorderSize\":1,\"fFrameBorderMode\":0,\"fX1\":-3.75000005587936,\"fY1\":-3161.55023555385,\"fX2\":3.75000005587936,\"fY2\":28453.9502355538,\"fXtoAbsPixelk\":348.00005,\"fXtoPixelk\":348.00005,\"fXtoPixel\":92.7999986171722,\"fYtoAbsPixelk\":424.800047186661,\"fYtoPixelk\":424.800047186661,\"fYtoPixel\":-0.0149293856800193,\"fUtoAbsPixelk\":5e-5,\"fUtoPixelk\":5e-5,\"fUtoPixel\":696,\"fVtoAbsPixelk\":472.00005,\"fVtoPixelk\":472,\"fVtoPixel\":-472,\"fAbsPixeltoXk\":-3.75000005587936,\"fPixeltoXk\":-3.75000005587936,\"fPixeltoX\":0.0107758622295384,\"fAbsPixeltoYk\":28453.9502355538,\"fPixeltoYk\":-3161.55023555385,\"fPixeltoY\":-66.9819925235332,\"fXlowNDC\":0,\"fYlowNDC\":0,\"fXUpNDC\":0,\"fYUpNDC\":0,\"fWNDC\":1,\"fHNDC\":1,\"fAbsXlowNDC\":0,\"fAbsYlowNDC\":0,\"fAbsWNDC\":1,\"fAbsHNDC\":1,\"fUxmin\":-3,\"fUymin\":0,\"fUxmax\":3,\"fUymax\":25292.4,\"fTheta\":30,\"fPhi\":30,\"fAspectRatio\":0,\"fNumber\":0,\"fTickx\":0,\"fTicky\":0,\"fLogx\":0,\"fLogy\":0,\"fLogz\":0,\"fPadPaint\":0,\"fCrosshair\":0,\"fCrosshairPos\":0,\"fBorderSize\":2,\"fBorderMode\":0,\"fModified\":false,\"fGridx\":false,\"fGridy\":false,\"fAbsCoord\":false,\"fEditable\":true,\"fFixedAspectRatio\":false,\"fPrimitives\":{\"_typename\":\"TList\",\"name\":\"TList\",\"arr\":[{\"_typename\":\"TFrame\",\"fUniqueID\":0,\"fBits\":50331656,\"fLineColor\":1,\"fLineStyle\":1,\"fLineWidth\":1,\"fFillColor\":0,\"fFillStyle\":1001,\"fX1\":-3,\"fY1\":0,\"fX2\":3,\"fY2\":25292.4,\"fBorderSize\":1,\"fBorderMode\":0},{\"_typename\":\"TH1F\",\"fUniqueID\":0,\"fBits\":50331656,\"fName\":\"h1\",\"fTitle\":\"Histo from a Gaussian\",\"fLineColor\":602,\"fLineStyle\":1,\"fLineWidth\":1,\"fFillColor\":0,\"fFillStyle\":1001,\"fMarkerColor\":1,\"fMarkerStyle\":1,\"fMarkerSize\":1,\"fNcells\":102,\"fXaxis\":{\"_typename\":\"TAxis\",\"fUniqueID\":0,\"fBits\":50331648,\"fName\":\"xaxis\",\"fTitle\":\"\",\"fNdivisions\":510,\"fAxisColor\":1,\"fLabelColor\":1,\"fLabelFont\":42,\"fLabelOffset\":0.005,\"fLabelSize\":0.035,\"fTickLength\":0.03,\"fTitleOffset\":1,\"fTitleSize\":0.035,\"fTitleColor\":1,\"fTitleFont\":42,\"fNbins\":100,\"fXmin\":-3,\"fXmax\":3,\"fXbins\":[],\"fFirst\":0,\"fLast\":0,\"fBits2\":0,\"fTimeDisplay\":false,\"fTimeFormat\":\"\",\"fLabels\":null,\"fModLabs\":null},\"fYaxis\":{\"_typename\":\"TAxis\",\"fUniqueID\":0,\"fBits\":50331648,\"fName\":\"yaxis\",\"fTitle\":\"\",\"fNdivisions\":510,\"fAxisColor\":1,\"fLabelColor\":1,\"fLabelFont\":42,\"fLabelOffset\":0.005,\"fLabelSize\":0.035,\"fTickLength\":0.03,\"fTitleOffset\":0,\"fTitleSize\":0.035,\"fTitleColor\":1,\"fTitleFont\":42,\"fNbins\":1,\"fXmin\":0,\"fXmax\":1,\"fXbins\":[],\"fFirst\":0,\"fLast\":0,\"fBits2\":0,\"fTimeDisplay\":false,\"fTimeFormat\":\"\",\"fLabels\":null,\"fModLabs\":null},\"fZaxis\":{\"_typename\":\"TAxis\",\"fUniqueID\":0,\"fBits\":50331648,\"fName\":\"zaxis\",\"fTitle\":\"\",\"fNdivisions\":510,\"fAxisColor\":1,\"fLabelColor\":1,\"fLabelFont\":42,\"fLabelOffset\":0.005,\"fLabelSize\":0.035,\"fTickLength\":0.03,\"fTitleOffset\":1,\"fTitleSize\":0.035,\"fTitleColor\":1,\"fTitleFont\":42,\"fNbins\":1,\"fXmin\":0,\"fXmax\":1,\"fXbins\":[],\"fFirst\":0,\"fLast\":0,\"fBits2\":0,\"fTimeDisplay\":false,\"fTimeFormat\":\"\",\"fLabels\":null,\"fModLabs\":null},\"fBarOffset\":0,\"fBarWidth\":1000,\"fEntries\":1000000,\"fTsumw\":1000000,\"fTsumw2\":1000000,\"fTsumwx\":1504.59167586732,\"fTsumwx2\":974211.073783788,\"fMaximum\":-1111,\"fMinimum\":-1111,\"fNormFactor\":0,\"fContour\":[],\"fSumw2\":[],\"fOption\":\"\",\"fFunctions\":{\"_typename\":\"TList\",\"name\":\"TList\",\"arr\":[{\"_typename\":\"TPaveStats\",\"fUniqueID\":0,\"fBits\":50331657,\"fLineColor\":1,\"fLineStyle\":1,\"fLineWidth\":1,\"fFillColor\":0,\"fFillStyle\":1001,\"fX1\":2.10000015199185,\"fY1\":21340.4628179977,\"fX2\":3.60000019669533,\"fY2\":26398.9427803091,\"fX1NDC\":0.780000016093254,\"fY1NDC\":0.775000005960464,\"fX2NDC\":0.980000019073486,\"fY2NDC\":0.935000002384186,\"fBorderSize\":1,\"fInit\":1,\"fShadowColor\":1,\"fCornerRadius\":0,\"fOption\":\"brNDC\",\"fName\":\"stats\",\"fTextAngle\":0,\"fTextSize\":0,\"fTextAlign\":12,\"fTextColor\":1,\"fTextFont\":42,\"fLabel\":\"\",\"fLongest\":18,\"fMargin\":0.05,\"fLines\":{\"_typename\":\"TList\",\"name\":\"TList\",\"arr\":[{\"_typename\":\"TLatex\",\"fUniqueID\":0,\"fBits\":50331648,\"fName\":\"\",\"fTitle\":\"h1\",\"fTextAngle\":0,\"fTextSize\":0.0368,\"fTextAlign\":0,\"fTextColor\":0,\"fTextFont\":0,\"fX\":0,\"fY\":0,\"fLineColor\":1,\"fLineStyle\":1,\"fLineWidth\":2,\"fLimitFactorSize\":3,\"fOriginSize\":0.0368000008165836},{\"_typename\":\"TLatex\",\"fUniqueID\":0,\"fBits\":50331648,\"fName\":\"\",\"fTitle\":\"Entries = 1000000\",\"fTextAngle\":0,\"fTextSize\":0,\"fTextAlign\":0,\"fTextColor\":0,\"fTextFont\":0,\"fX\":0,\"fY\":0,\"fLineColor\":1,\"fLineStyle\":1,\"fLineWidth\":2,\"fLimitFactorSize\":3,\"fOriginSize\":0.04},{\"_typename\":\"TLatex\",\"fUniqueID\":0,\"fBits\":50331648,\"fName\":\"\",\"fTitle\":\"Mean  = 0.001505\",\"fTextAngle\":0,\"fTextSize\":0,\"fTextAlign\":0,\"fTextColor\":0,\"fTextFont\":0,\"fX\":0,\"fY\":0,\"fLineColor\":1,\"fLineStyle\":1,\"fLineWidth\":2,\"fLimitFactorSize\":3,\"fOriginSize\":0.04},{\"_typename\":\"TLatex\",\"fUniqueID\":0,\"fBits\":50331648,\"fName\":\"\",\"fTitle\":\"Std Dev   =  0.987\",\"fTextAngle\":0,\"fTextSize\":0,\"fTextAlign\":0,\"fTextColor\":0,\"fTextFont\":0,\"fX\":0,\"fY\":0,\"fLineColor\":1,\"fLineStyle\":1,\"fLineWidth\":2,\"fLimitFactorSize\":3,\"fOriginSize\":0.04}],\"opt\":[\"\",\"\",\"\",\"\"]},\"fOptFit\":0,\"fOptStat\":1111,\"fFitFormat\":\"5.4g\",\"fStatFormat\":\"6.4g\",\"fParent\":{\"$ref\":3}}],\"opt\":[\"brNDC\"]},\"fBufferSize\":0,\"fBuffer\":[],\"fBinStatErrOpt\":0,\"fStatOverflows\":2,\"fArray\":[0,280,385,370,520,555,662,804,961,1077,1254,1346,1688,1852,2159,2642,2742,3222,3688,3971,4497,5096,5714,6120,6775,7220,8171,8814,9554,10442,11185,12059,12699,13766,14558,15440,16305,17348,18330,19233,19833,20316,21053,21572,22150,22611,23159,23594,23857,23747,24088,24057,23756,23659,23563,23072,22597,22236,21932,21327,20409,19634,19010,18106,17179,16576,15585,14653,13661,12875,12078,11364,10443,9649,8968,8167,7401,6888,6258,5635,5044,4539,3991,3612,3151,2744,2473,2230,1895,1707,1425,1350,1072,993,759,716,560,499,398,358,262,0]},{\"_typename\":\"TPaveText\",\"fUniqueID\":0,\"fBits\":50331657,\"fLineColor\":1,\"fLineStyle\":1,\"fLineWidth\":1,\"fFillColor\":0,\"fFillStyle\":0,\"fX1\":-1.44353450426896,\"fY1\":26557.0203321309,\"fX2\":1.44353450426896,\"fY2\":28295.8728839528,\"fX1NDC\":0.307528735632184,\"fY1NDC\":0.940000003948808,\"fX2NDC\":0.692471264367816,\"fY2NDC\":0.995000004768372,\"fBorderSize\":0,\"fInit\":1,\"fShadowColor\":1,\"fCornerRadius\":0,\"fOption\":\"blNDC\",\"fName\":\"title\",\"fTextAngle\":0,\"fTextSize\":0,\"fTextAlign\":22,\"fTextColor\":1,\"fTextFont\":42,\"fLabel\":\"\",\"fLongest\":21,\"fMargin\":0.05,\"fLines\":{\"_typename\":\"TList\",\"name\":\"TList\",\"arr\":[{\"_typename\":\"TLatex\",\"fUniqueID\":0,\"fBits\":50331648,\"fName\":\"\",\"fTitle\":\"Histo from a Gaussian\",\"fTextAngle\":0,\"fTextSize\":0,\"fTextAlign\":0,\"fTextColor\":0,\"fTextFont\":0,\"fX\":0,\"fY\":0,\"fLineColor\":1,\"fLineStyle\":1,\"fLineWidth\":2,\"fLimitFactorSize\":3,\"fOriginSize\":0.0467500016093254}],\"opt\":[\"\"]}}],\"opt\":[\"\",\"\",\"blNDC\"]},\"fExecs\":null,\"fName\":\"c1\",\"fTitle\":\"\",\"fNumPaletteColor\":0,\"fNextPaletteColor\":0,\"fDISPLAY\":\"$DISPLAY\",\"fDoubleBuffer\":0,\"fRetained\":true,\"fXsizeUser\":0,\"fYsizeUser\":0,\"fXsizeReal\":20,\"fYsizeReal\":14.28571,\"fWindowTopX\":0,\"fWindowTopY\":0,\"fWindowWidth\":0,\"fWindowHeight\":0,\"fCw\":696,\"fCh\":472,\"fCatt\":{\"_typename\":\"TAttCanvas\",\"fXBetween\":2,\"fYBetween\":2,\"fTitleFromTop\":1.2,\"fXdate\":0.2,\"fYdate\":0.3,\"fAdate\":1},\"kMoveOpaque\":true,\"kResizeOpaque\":true,\"fHighLightColor\":2,\"fBatch\":true,\"kShowEventStatus\":false,\"kAutoExec\":true,\"kMenuBar\":true});\n",
       "       Core.draw(\"root_plot_2\", obj, \"\");\n",
       "     }\n",
       " );\n",
       "</script>\n"
      ],
      "text/plain": [
       "<IPython.core.display.HTML object>"
      ]
     },
     "metadata": {},
     "output_type": "display_data"
    }
   ],
   "source": [
    "c1 = TCanvas(\"c1\")\n",
    "h1 = TH1F(\"h1\",\"Histo from a Gaussian\",100,-3,3);\n",
    "h1.FillRandom(\"gaus\",1000000);\n",
    "h1.Draw()\n",
    "c1.Draw()"
   ]
  },
  {
   "cell_type": "markdown",
   "metadata": {},
   "source": [
    "### Interactive cell\n",
    "Just add ```%jsroot on```"
   ]
  },
  {
   "cell_type": "code",
   "execution_count": 3,
   "metadata": {},
   "outputs": [
    {
     "name": "stderr",
     "output_type": "stream",
     "text": [
      "Warning in <TCanvas::Constructor>: Deleting canvas with same name: c1\n",
      "Warning in <TROOT::Append>: Replacing existing TH1: h1 (Potential memory leak).\n"
     ]
    },
    {
     "data": {
      "text/html": [
       "\n",
       "<div id=\"root_plot_1\"\n",
       "     style=\"width: 696px; height: 472px\">\n",
       "</div>\n",
       "\n",
       "<script>\n",
       " requirejs.config({\n",
       "     paths: {\n",
       "       'JSRootCore' : 'https://root.cern.ch/js/notebook//scripts/JSRootCore',\n",
       "     }\n",
       "   });\n",
       " require(['JSRootCore'],\n",
       "     function(Core) {\n",
       "       var obj = Core.JSONR_unref({\"_typename\":\"TCanvas\",\"fUniqueID\":0,\"fBits\":53673992,\"fLineColor\":1,\"fLineStyle\":1,\"fLineWidth\":1,\"fFillColor\":0,\"fFillStyle\":1001,\"fLeftMargin\":0.1,\"fRightMargin\":0.1,\"fBottomMargin\":0.1,\"fTopMargin\":0.1,\"fXfile\":2,\"fYfile\":2,\"fAfile\":1,\"fXstat\":0.99,\"fYstat\":0.99,\"fAstat\":2,\"fFrameFillColor\":0,\"fFrameLineColor\":1,\"fFrameFillStyle\":1001,\"fFrameLineStyle\":1,\"fFrameLineWidth\":1,\"fFrameBorderSize\":1,\"fFrameBorderMode\":0,\"fX1\":-3.75000005587936,\"fY1\":-3156.69398519203,\"fX2\":3.75000005587936,\"fY2\":28410.243985192,\"fXtoAbsPixelk\":348.00005,\"fXtoPixelk\":348.00005,\"fXtoPixel\":92.7999986171722,\"fYtoAbsPixelk\":424.800047186661,\"fYtoPixelk\":424.800047186661,\"fYtoPixel\":-0.0149523530106984,\"fUtoAbsPixelk\":5e-5,\"fUtoPixelk\":5e-5,\"fUtoPixel\":696,\"fVtoAbsPixelk\":472.00005,\"fVtoPixelk\":472,\"fVtoPixel\":-472,\"fAbsPixeltoXk\":-3.75000005587936,\"fPixeltoXk\":-3.75000005587936,\"fPixeltoX\":0.0107758622295384,\"fAbsPixeltoYk\":28410.243985192,\"fPixeltoYk\":-3156.69398519203,\"fPixeltoY\":-66.8791058694577,\"fXlowNDC\":0,\"fYlowNDC\":0,\"fXUpNDC\":0,\"fYUpNDC\":0,\"fWNDC\":1,\"fHNDC\":1,\"fAbsXlowNDC\":0,\"fAbsYlowNDC\":0,\"fAbsWNDC\":1,\"fAbsHNDC\":1,\"fUxmin\":-3,\"fUymin\":0,\"fUxmax\":3,\"fUymax\":25253.55,\"fTheta\":30,\"fPhi\":30,\"fAspectRatio\":0,\"fNumber\":0,\"fTickx\":0,\"fTicky\":0,\"fLogx\":0,\"fLogy\":0,\"fLogz\":0,\"fPadPaint\":0,\"fCrosshair\":0,\"fCrosshairPos\":0,\"fBorderSize\":2,\"fBorderMode\":0,\"fModified\":false,\"fGridx\":false,\"fGridy\":false,\"fAbsCoord\":false,\"fEditable\":true,\"fFixedAspectRatio\":false,\"fPrimitives\":{\"_typename\":\"TList\",\"name\":\"TList\",\"arr\":[{\"_typename\":\"TFrame\",\"fUniqueID\":0,\"fBits\":50331656,\"fLineColor\":1,\"fLineStyle\":1,\"fLineWidth\":1,\"fFillColor\":0,\"fFillStyle\":1001,\"fX1\":-3,\"fY1\":0,\"fX2\":3,\"fY2\":25253.55,\"fBorderSize\":1,\"fBorderMode\":0},{\"_typename\":\"TH1F\",\"fUniqueID\":0,\"fBits\":50331656,\"fName\":\"h1\",\"fTitle\":\"Histo from a Gaussian\",\"fLineColor\":602,\"fLineStyle\":1,\"fLineWidth\":1,\"fFillColor\":0,\"fFillStyle\":1001,\"fMarkerColor\":1,\"fMarkerStyle\":1,\"fMarkerSize\":1,\"fNcells\":102,\"fXaxis\":{\"_typename\":\"TAxis\",\"fUniqueID\":0,\"fBits\":50331648,\"fName\":\"xaxis\",\"fTitle\":\"\",\"fNdivisions\":510,\"fAxisColor\":1,\"fLabelColor\":1,\"fLabelFont\":42,\"fLabelOffset\":0.005,\"fLabelSize\":0.035,\"fTickLength\":0.03,\"fTitleOffset\":1,\"fTitleSize\":0.035,\"fTitleColor\":1,\"fTitleFont\":42,\"fNbins\":100,\"fXmin\":-3,\"fXmax\":3,\"fXbins\":[],\"fFirst\":0,\"fLast\":0,\"fBits2\":0,\"fTimeDisplay\":false,\"fTimeFormat\":\"\",\"fLabels\":null,\"fModLabs\":null},\"fYaxis\":{\"_typename\":\"TAxis\",\"fUniqueID\":0,\"fBits\":50331648,\"fName\":\"yaxis\",\"fTitle\":\"\",\"fNdivisions\":510,\"fAxisColor\":1,\"fLabelColor\":1,\"fLabelFont\":42,\"fLabelOffset\":0.005,\"fLabelSize\":0.035,\"fTickLength\":0.03,\"fTitleOffset\":0,\"fTitleSize\":0.035,\"fTitleColor\":1,\"fTitleFont\":42,\"fNbins\":1,\"fXmin\":0,\"fXmax\":1,\"fXbins\":[],\"fFirst\":0,\"fLast\":0,\"fBits2\":0,\"fTimeDisplay\":false,\"fTimeFormat\":\"\",\"fLabels\":null,\"fModLabs\":null},\"fZaxis\":{\"_typename\":\"TAxis\",\"fUniqueID\":0,\"fBits\":50331648,\"fName\":\"zaxis\",\"fTitle\":\"\",\"fNdivisions\":510,\"fAxisColor\":1,\"fLabelColor\":1,\"fLabelFont\":42,\"fLabelOffset\":0.005,\"fLabelSize\":0.035,\"fTickLength\":0.03,\"fTitleOffset\":1,\"fTitleSize\":0.035,\"fTitleColor\":1,\"fTitleFont\":42,\"fNbins\":1,\"fXmin\":0,\"fXmax\":1,\"fXbins\":[],\"fFirst\":0,\"fLast\":0,\"fBits2\":0,\"fTimeDisplay\":false,\"fTimeFormat\":\"\",\"fLabels\":null,\"fModLabs\":null},\"fBarOffset\":0,\"fBarWidth\":1000,\"fEntries\":1000000,\"fTsumw\":1000000,\"fTsumw2\":1000000,\"fTsumwx\":689.634783147804,\"fTsumwx2\":973452.561551711,\"fMaximum\":-1111,\"fMinimum\":-1111,\"fNormFactor\":0,\"fContour\":[],\"fSumw2\":[],\"fOption\":\"\",\"fFunctions\":{\"_typename\":\"TList\",\"name\":\"TList\",\"arr\":[{\"_typename\":\"TPaveStats\",\"fUniqueID\":0,\"fBits\":50331657,\"fLineColor\":1,\"fLineStyle\":1,\"fLineWidth\":1,\"fFillColor\":0,\"fFillStyle\":1001,\"fX1\":2.10000015199185,\"fY1\":21307.6831300092,\"fX2\":3.60000019669533,\"fY2\":26358.3930923785,\"fX1NDC\":0.780000016093254,\"fY1NDC\":0.775000005960464,\"fX2NDC\":0.980000019073486,\"fY2NDC\":0.935000002384186,\"fBorderSize\":1,\"fInit\":1,\"fShadowColor\":1,\"fCornerRadius\":0,\"fOption\":\"brNDC\",\"fName\":\"stats\",\"fTextAngle\":0,\"fTextSize\":0,\"fTextAlign\":12,\"fTextColor\":1,\"fTextFont\":42,\"fLabel\":\"\",\"fLongest\":18,\"fMargin\":0.05,\"fLines\":{\"_typename\":\"TList\",\"name\":\"TList\",\"arr\":[{\"_typename\":\"TLatex\",\"fUniqueID\":0,\"fBits\":50331648,\"fName\":\"\",\"fTitle\":\"h1\",\"fTextAngle\":0,\"fTextSize\":0.0368,\"fTextAlign\":0,\"fTextColor\":0,\"fTextFont\":0,\"fX\":0,\"fY\":0,\"fLineColor\":1,\"fLineStyle\":1,\"fLineWidth\":2,\"fLimitFactorSize\":3,\"fOriginSize\":0.0368000008165836},{\"_typename\":\"TLatex\",\"fUniqueID\":0,\"fBits\":50331648,\"fName\":\"\",\"fTitle\":\"Entries = 1000000\",\"fTextAngle\":0,\"fTextSize\":0,\"fTextAlign\":0,\"fTextColor\":0,\"fTextFont\":0,\"fX\":0,\"fY\":0,\"fLineColor\":1,\"fLineStyle\":1,\"fLineWidth\":2,\"fLimitFactorSize\":3,\"fOriginSize\":0.04},{\"_typename\":\"TLatex\",\"fUniqueID\":0,\"fBits\":50331648,\"fName\":\"\",\"fTitle\":\"Mean  = 0.0006896\",\"fTextAngle\":0,\"fTextSize\":0,\"fTextAlign\":0,\"fTextColor\":0,\"fTextFont\":0,\"fX\":0,\"fY\":0,\"fLineColor\":1,\"fLineStyle\":1,\"fLineWidth\":2,\"fLimitFactorSize\":3,\"fOriginSize\":0.04},{\"_typename\":\"TLatex\",\"fUniqueID\":0,\"fBits\":50331648,\"fName\":\"\",\"fTitle\":\"Std Dev   = 0.9866\",\"fTextAngle\":0,\"fTextSize\":0,\"fTextAlign\":0,\"fTextColor\":0,\"fTextFont\":0,\"fX\":0,\"fY\":0,\"fLineColor\":1,\"fLineStyle\":1,\"fLineWidth\":2,\"fLimitFactorSize\":3,\"fOriginSize\":0.04}],\"opt\":[\"\",\"\",\"\",\"\"]},\"fOptFit\":0,\"fOptStat\":1111,\"fFitFormat\":\"5.4g\",\"fStatFormat\":\"6.4g\",\"fParent\":{\"$ref\":3}}],\"opt\":[\"brNDC\"]},\"fBufferSize\":0,\"fBuffer\":[],\"fBinStatErrOpt\":0,\"fStatOverflows\":2,\"fArray\":[0,300,364,420,480,551,697,776,922,1118,1186,1418,1651,1914,2204,2449,2832,3165,3522,4054,4423,5024,5523,6293,6930,7437,8123,8905,9733,10249,11271,12126,12845,13813,14700,15372,16511,17073,18191,18973,19593,20658,21156,21735,22336,22513,23258,23512,23836,23881,23881,23919,24051,23665,23632,22981,22559,22093,21772,21148,20503,19513,18900,17981,17335,16435,15508,14752,13881,13100,12133,11272,10447,9566,8936,8123,7577,6831,6128,5671,5128,4559,3970,3557,3136,2809,2519,2224,1909,1654,1424,1308,1064,929,776,666,568,493,381,329,288,0]},{\"_typename\":\"TPaveText\",\"fUniqueID\":0,\"fBits\":50331657,\"fLineColor\":1,\"fLineStyle\":1,\"fLineWidth\":1,\"fFillColor\":0,\"fFillStyle\":0,\"fX1\":-1.44353450426896,\"fY1\":26516.2278316207,\"fX2\":1.44353450426896,\"fY2\":28252.409445863,\"fX1NDC\":0.307528735632184,\"fY1NDC\":0.940000003948808,\"fX2NDC\":0.692471264367816,\"fY2NDC\":0.995000004768372,\"fBorderSize\":0,\"fInit\":1,\"fShadowColor\":1,\"fCornerRadius\":0,\"fOption\":\"blNDC\",\"fName\":\"title\",\"fTextAngle\":0,\"fTextSize\":0,\"fTextAlign\":22,\"fTextColor\":1,\"fTextFont\":42,\"fLabel\":\"\",\"fLongest\":21,\"fMargin\":0.05,\"fLines\":{\"_typename\":\"TList\",\"name\":\"TList\",\"arr\":[{\"_typename\":\"TLatex\",\"fUniqueID\":0,\"fBits\":50331648,\"fName\":\"\",\"fTitle\":\"Histo from a Gaussian\",\"fTextAngle\":0,\"fTextSize\":0,\"fTextAlign\":0,\"fTextColor\":0,\"fTextFont\":0,\"fX\":0,\"fY\":0,\"fLineColor\":1,\"fLineStyle\":1,\"fLineWidth\":2,\"fLimitFactorSize\":3,\"fOriginSize\":0.0467500016093254}],\"opt\":[\"\"]}}],\"opt\":[\"\",\"\",\"blNDC\"]},\"fExecs\":null,\"fName\":\"c1\",\"fTitle\":\"\",\"fNumPaletteColor\":0,\"fNextPaletteColor\":0,\"fDISPLAY\":\"$DISPLAY\",\"fDoubleBuffer\":0,\"fRetained\":true,\"fXsizeUser\":0,\"fYsizeUser\":0,\"fXsizeReal\":20,\"fYsizeReal\":14.28571,\"fWindowTopX\":0,\"fWindowTopY\":0,\"fWindowWidth\":0,\"fWindowHeight\":0,\"fCw\":696,\"fCh\":472,\"fCatt\":{\"_typename\":\"TAttCanvas\",\"fXBetween\":2,\"fYBetween\":2,\"fTitleFromTop\":1.2,\"fXdate\":0.2,\"fYdate\":0.3,\"fAdate\":1},\"kMoveOpaque\":true,\"kResizeOpaque\":true,\"fHighLightColor\":2,\"fBatch\":true,\"kShowEventStatus\":false,\"kAutoExec\":true,\"kMenuBar\":true});\n",
       "       Core.draw(\"root_plot_1\", obj, \"\");\n",
       "     }\n",
       " );\n",
       "</script>\n"
      ],
      "text/plain": [
       "<IPython.core.display.HTML object>"
      ]
     },
     "metadata": {},
     "output_type": "display_data"
    }
   ],
   "source": [
    "%jsroot on\n",
    "c1 = ROOT.TCanvas(\"c1\")\n",
    "h1 = ROOT.TH1F(\"h1\",\"Histo from a Gaussian\",100,-3,3);\n",
    "h1.FillRandom(\"gaus\",1000000);\n",
    "h1.Draw()\n",
    "c1.Draw()"
   ]
  }
 ],
 "metadata": {
  "kernelspec": {
   "display_name": "Python 3",
   "language": "python",
   "name": "python3"
  },
  "language_info": {
   "codemirror_mode": {
    "name": "ipython",
    "version": 3
   },
   "file_extension": ".py",
   "mimetype": "text/x-python",
   "name": "python",
   "nbconvert_exporter": "python",
   "pygments_lexer": "ipython3",
   "version": "3.8.3"
  }
 },
 "nbformat": 4,
 "nbformat_minor": 4
}
