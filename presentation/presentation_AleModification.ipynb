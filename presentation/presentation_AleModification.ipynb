{
 "cells": [
  {
   "cell_type": "markdown",
   "metadata": {},
   "source": [
    "# Laboratory of Computational Physics (mod.B): Final Project\n",
    "\n",
    "### Authors\n",
    "* [Ardino Rocco](https://github.com/RoccoA97) (University of Padua)\n",
    "* [Paccagnella Andrea](https://github.com/pacca4) (University of Padua)\n",
    "* [Valente Alessandro](https://github.com/mastrovalentz) (University of Padua)\n",
    "\n",
    "### Supervisors\n",
    "* Prof. [Marco Zanetti](https://github.com/mzanetti79) (University of Padova, CERN)\n",
    "* Dr. [Alberto Zucchetta](https://github.com/zucchett) (University of Padova, CERN)"
   ]
  },
  {
   "cell_type": "markdown",
   "metadata": {},
   "source": [
    "# Index <a class=\"anchor\" id=\"FP.i\"></a>\n",
    "\n",
    "* 1. [Introduction](#FP.1.)\n",
    "    * 1.1. [Project goals](#FP.1.1.)\n",
    "    * 1.2. [Software and needed packages](#FP.1.2.)\n",
    "* 2. [The dataset](#FP.2.)\n",
    "    * 2.1. [Background dataset](#FP.2.1.)\n",
    "    * 2.2. [Signal dataset](#FP.2.2.)\n",
    "* 3. [Skim and cuts operations](#FP.3.)\n",
    "* 4. [Fit of background and signal distributions](#FP.4.)\n",
    "* 5. [Statistical tests](#FP.5.)"
   ]
  },
  {
   "cell_type": "markdown",
   "metadata": {},
   "source": [
    "## 1. - Introduction <a class=\"anchor\" id=\"FP.1.\"></a>\n",
    "* [Index](#FP.i)"
   ]
  },
  {
   "cell_type": "markdown",
   "metadata": {},
   "source": [
    "### 1.1. - Project goals <a class=\"anchor\" id=\"FP.1.1.\"></a>\n",
    "* [Index](#FP.i)"
   ]
  },
  {
   "cell_type": "markdown",
   "metadata": {},
   "source": [
    "From\n",
    "https://arxiv.org/pdf/1810.10056.pdf\n",
    "\n",
    "In 2012, a new boson with a mass of $125 \\ \\text{GeV}$ was observed in data from the ATLAS and CMS experiments at the CERN LHC. All measurements of the properties of this boson are consistent with those of the Higgs boson ($H$) of the standard model (SM). However, the Yukawa couplings of the Higgs boson to the first- and second-generation quarks are currently only weakly constrained. Rare exclusive decays of the Higgs boson to mesons in association with a photon can be used to explore such couplings. For example, the decay:\n",
    "\n",
    "$$\n",
    "H \\longrightarrow J/\\psi \\gamma\n",
    "$$\n",
    "\n",
    "can probe the Higgs boson coupling to the charm quark. Through CMS detector, a study can be done by considering the subsequent decay of the $J/\\psi$ to $\\mu^+\\mu^-$, which has a SM predicted branching ratio of:\n",
    "\n",
    "$$\n",
    "\\mathcal{B}(H \\rightarrow J/\\psi\\gamma \\rightarrow \\mu^+\\mu^-\\gamma)\n",
    "=\n",
    "\\mathcal{B}(H \\rightarrow J/\\psi\\gamma) \\cdot \\mathcal{B}(J/\\psi \\rightarrow \\mu^+\\mu^-)\n",
    "=\n",
    "3 \\cdot 10^{-6} \\cdot 6 \\cdot 10^{-2}\n",
    "\\approx\n",
    "2 \\cdot 10^{-7}\n",
    "$$\n",
    "\n",
    "This information, combined with the Higgs cross section $\\sigma_H$ and with the total integrated luminosity $\\mathcal{L}$ of LCH, gives an expected number of events of about $1$ per year. So, this is quite difficult to observe, but we can study an exclusion upper limit for the branching ratio."
   ]
  },
  {
   "cell_type": "markdown",
   "metadata": {},
   "source": [
    "In this project, we consider the NanoAOD Charmonium datasets of CMS from 2016, 2017 and 2018 runs (for the background) and a Monte Carlo simulated dataset of $H \\rightarrow J/\\psi \\rightarrow \\mu^+\\mu^-\\gamma$ (for the signal). Our aims are:\n",
    "* finding an optimal cut for both dataset in order to filter the background data before adding the opportunely scaled signal events, amplified by the signal strength parameter $\\mu$;\n",
    "* apply several statistical tests to the background + $\\mu \\cdot$ signal distribution in order to find the significance of signal detection depending on the signal strength $mu$. "
   ]
  },
  {
   "cell_type": "markdown",
   "metadata": {},
   "source": [
    "### 1.2. - Software and needed packages <a class=\"anchor\" id=\"FP.1.1.\"></a>\n",
    "* [Index](#FP.i)"
   ]
  },
  {
   "cell_type": "markdown",
   "metadata": {},
   "source": [
    "The whole analysis has been performed on the ROOT analysis framework, implementing several macros in c++ language and some bash scripts to automate the workflow. The source code can be found [here](https://github.com/pacca4/Project_LocpB_plots). For this report, the pyROOT extension is exploited."
   ]
  },
  {
   "cell_type": "markdown",
   "metadata": {},
   "source": [
    "Here, we import all the needed python and ROOT packages for the report."
   ]
  },
  {
   "cell_type": "code",
   "execution_count": 1,
   "metadata": {},
   "outputs": [
    {
     "name": "stdout",
     "output_type": "stream",
     "text": [
      "Welcome to JupyROOT 6.22/00\n"
     ]
    }
   ],
   "source": [
    "import ROOT\n",
    "\n",
    "from ROOT import TCanvas\n",
    "from ROOT import TH1F"
   ]
  },
  {
   "cell_type": "markdown",
   "metadata": {},
   "source": [
    "## 2. - The dataset <a class=\"anchor\" id=\"FP.2.\"></a>\n",
    "* [Index](#FP.i)"
   ]
  },
  {
   "cell_type": "markdown",
   "metadata": {},
   "source": [
    "The name of the dataset, that we use, is Charmonium. It is NanoAOD file and contain the run from 2016 to 2018 register by CMS. The NanoAOD is the last part of pre-selection events and it weight is 1Kb/ev, the RAW file (the first from the trigger) weight is 1 Mb/ev. To study the Higgs and Z decay in $J/\\psi\\gamma$ from the run we use a Signal Simulation, generate from Montecarlo. From this moment we use the notation \"Backround\" to refer a file from run and \"Signal\" to refer a Montecarlo simulation. "
   ]
  },
  {
   "cell_type": "markdown",
   "metadata": {},
   "source": [
    "### 2.1. - Background dataset <a class=\"anchor\" id=\"FP.2.1.\"></a>\n",
    "* [Index](#FP.i)\n"
   ]
  },
  {
   "cell_type": "markdown",
   "metadata": {},
   "source": [
    "### 2.2. - Signal dataset <a class=\"anchor\" id=\"FP.2.2.\"></a>\n",
    "* [Index](#FP.i)"
   ]
  },
  {
   "cell_type": "markdown",
   "metadata": {},
   "source": [
    "The signal dataset is a Montecarlo simulation of the decay $H \\longrightarrow J/\\psi \\gamma $ and $Z \\longrightarrow J/\\psi \\gamma $. Considering that we study two boson decay, we use two Montecarlo simulation, one from each Boson. "
   ]
  },
  {
   "cell_type": "markdown",
   "metadata": {},
   "source": [
    "## 3. - Skim and cuts operations <a class=\"anchor\" id=\"FP.3.\"></a>\n",
    "* [Index](#FP.i)"
   ]
  },
  {
   "cell_type": "markdown",
   "metadata": {},
   "source": [
    "In this part of the work we applied a first selection to the events using the PostProcessor framework from the nanoAOD-tool:\n",
    "https://github.com/cms-nanoAOD/nanoAOD-tools\n",
    "\n",
    "After this a trigger based selection is performed and a final selection is applied in order to reach the final dataset for the analysis\n",
    "\n"
   ]
  },
  {
   "cell_type": "code",
   "execution_count": 2,
   "metadata": {},
   "outputs": [
    {
     "name": "stdout",
     "output_type": "stream",
     "text": [
      "import ROOT\n",
      "ROOT.PyConfig.IgnoreCommandLineOptions = True\n",
      "\n",
      "from PhysicsTools.NanoAODTools.postprocessing.framework.datamodel import Collection \n",
      "from PhysicsTools.NanoAODTools.postprocessing.framework.eventloop import Module\n",
      "\n",
      "class MuMuGProducer(Module):\n",
      "    def __init__(self):#, jetSelection):\n",
      "        #self.jetSel = jetSelection\n",
      "        pass\n",
      "    def beginJob(self):\n",
      "        pass\n",
      "    def endJob(self):\n",
      "        pass\n",
      "    def beginFile(self, inputFile, outputFile, inputTree, wrappedOutputTree):\n",
      "        self.out = wrappedOutputTree\n",
      "        #self.out.branch(\"EventMass\",  \"F\");\n",
      "        self.out.branch(\"MuMu_invMass\", \"F\");\n",
      "        self.out.branch(\"MuMuG_invMass\", \"F\")\n",
      "    def endFile(self, inputFile, outputFile, inputTree, wrappedOutputTree):\n",
      "        pass\n",
      "    def analyze(self, event):\n",
      "        \"\"\"process event, return True (go to next module) or False (fail, go to next event)\"\"\"\n",
      "        #electrons = Collection(event, \"Electron\")\n",
      "        if event.nMuon <2:\n",
      "            return False\n",
      "        if event.nPhoton <1:\n",
      "            return False\n",
      "        #muons = Collection(event, \"Muon\")\n",
      "        #jets = Collection(event, \"Jet\")\n",
      "        #eventSum = ROOT.TLorentzVector()\n",
      "        #for lep in muons :\n",
      "        #    eventSum += lep.p4()\n",
      "        #for lep in electrons :\n",
      "        #    eventSum += lep.p4()\n",
      "        \n",
      "        #self.out.fillBranch(\"EventMass\",eventSum.M())\n",
      "        Mu = Collection(event, \"Muon\")\n",
      "        Ph = Collection(event, \"Photon\")\n",
      "        mumu  = ROOT.TLorentzVector()\n",
      "        mumu  = Mu[0].p4() + Mu[1].p4()\n",
      "        mumuG = ROOT.TLorentzVector()\n",
      "        mumuG = Mu[0].p4() + Mu[1].p4() + Ph[0].p4()\n",
      "\n",
      "        #introduce some light cuts to reduce size of skimmed files\n",
      "        #we have already done this this of cuts in the previous dataset \n",
      "        #these will be lighter but will eliminate lot's of not interesting events\n",
      "\n",
      "        if ( mumuG.M() < 70  or mumuG.M() > 150 ): return False\n",
      "        if (  mumu.M() < 2.8 or  mumu.M() > 3.3 ): return False\n",
      "\n",
      "        if event.Muon_pt[0]   < 10 : return False\n",
      "        if event.Photon_pt[0] < 20 : return False\n",
      "        \n",
      "        self.out.fillBranch( \"MuMu_invMass\",  mumu.M())\n",
      "        self.out.fillBranch(\"MuMuG_invMass\", mumuG.M())        \n",
      "\n",
      "        return True\n",
      "\n",
      "\n",
      "# define modules using the syntax 'name = lambda : constructor' to avoid having them loaded when not needed\n",
      "\n",
      "MuMuGModuleConstr = lambda : MuMuGProducer()#jetSelection= lambda j : j.pt >= 0) \n",
      " \n"
     ]
    }
   ],
   "source": [
    "! cat ../postprocessor/mumuG_module.py"
   ]
  },
  {
   "cell_type": "markdown",
   "metadata": {},
   "source": [
    "### 3.1. - Post Processor  <a class=\"anchor\" id=\"FP.3.1.\"></a>\n",
    "* [Index](#FP.i)\n",
    "\n",
    "In the first part the selection is  done by defining an apposite python module for the analysis, in this step the following operation are done:\n",
    "- event selection based on luminosity (non saprei come dirlo)\n",
    "- event selection based on the presence of at least 2 muons and a photon\n",
    "- invariant mass computation of the Dimuon and the Dimuon and Photon \n",
    "- event selection based on kinematich variables\n",
    "- TTree Branches not interesting for the analysis are dropped\n",
    "\n",
    "The events are required to satisfy the following properties:\n",
    "- $\\mu\\mu\\gamma$ invariant mass $M_{\\mu\\mu\\gamma}\\in[70, 150]$ Gev\n",
    "- $\\mu\\mu $ invariant mass $M_{\\mu\\mu}\\in [2.8, 3.3]$\n",
    "- leadin muon transverse momementa $p_{T\\mu}>10$\n",
    "- photon transverse momementa $p_{T\\gamma}>20$\n",
    "\n",
    "After this step we analysed the main kinematic features \n",
    "# plot dei momenti\n",
    "\n",
    "\n",
    "Based on this plot we defined a second postprocessor module in order to perfom the following operation:\n",
    "- events selection based on kinematich variables\n",
    "- angular variables computation\n",
    "\n",
    "In particular the events are now required to satisfy:\n",
    "- leading and subleading muon posses diffrent electric charge\n",
    "- leadin muon transverse momementa $p_{T\\mu}>15$\n",
    "- subleadin muon transverse momementa $p_{T\\mu}>2$\n",
    "- photon transverse momementa $p_{T\\gamma}>25$\n",
    "- photon eta $\\eta_{\\gamma}<2.9$\n",
    "\n",
    "\n",
    "The angular variables are computed by boosting the particles momenta to the Center of mass frame of the reconstruced particle, in the reference frame the $\\Delta R$, $\\Delta \\phi$ and $\\Delta \\eta$ variable are computed alongside with the angle between the tracks.\n",
    "\n"
   ]
  },
  {
   "cell_type": "code",
   "execution_count": 3,
   "metadata": {},
   "outputs": [
    {
     "name": "stdout",
     "output_type": "stream",
     "text": [
      "import ROOT\n",
      "from ROOT.Math import VectorUtil as vUtil\n",
      "ROOT.PyConfig.IgnoreCommandLineOptions = True\n",
      "\n",
      "from PhysicsTools.NanoAODTools.postprocessing.framework.datamodel import Collection \n",
      "from PhysicsTools.NanoAODTools.postprocessing.framework.eventloop import Module\n",
      "\n",
      "class MuMuGProducer(Module):\n",
      "    def __init__(self):#, jetSelection):\n",
      "        #self.jetSel = jetSelection\n",
      "        pass\n",
      "    def beginJob(self):\n",
      "        pass\n",
      "    def endJob(self):\n",
      "        pass\n",
      "    def beginFile(self, inputFile, outputFile, inputTree, wrappedOutputTree):\n",
      "        self.out = wrappedOutputTree\n",
      "        #self.out.branch(\"EventMass\",  \"F\");\n",
      "        #self.out.branch(\"MuMu_invMass\", \"F\");\n",
      "        #self.out.branch(\"MuMuG_invMass\", \"F\")\n",
      "\n",
      "        self.out.branch(\"JPsi_mass\", \"F\")\n",
      "        self.out.branch(\"JPsi_pt\"  , \"F\")\n",
      "        self.out.branch(\"JPsi_eta\" , \"F\")\n",
      "        self.out.branch(\"JPsi_phi\" , \"F\")\n",
      "        self.out.branch(\"Reco_mass\", \"F\")\n",
      "        self.out.branch(\"Reco_pt\"  , \"F\")\n",
      "        self.out.branch(\"Reco_eta\" , \"F\")\n",
      "        self.out.branch(\"Reco_phi\" , \"F\")\n",
      "\n",
      "        self.out.branch(\"DeltaR_Mu0Mu1\", \"F\")\n",
      "        self.out.branch(\"DeltaR_Mu0Pht\", \"F\")\n",
      "        self.out.branch(\"DeltaR_Mu1Pht\", \"F\")\n",
      "        self.out.branch(\"DeltaR_JpsiPht\", \"F\")\n",
      "        self.out.branch(\"DeltaR_RecoMu0\", \"F\")\n",
      "        self.out.branch(\"DeltaR_RecoMu1\", \"F\")\n",
      "        self.out.branch(\"DeltaR_RecoPht\", \"F\")\n",
      "        self.out.branch(\"DeltaR_RecoJPsi\", \"F\") \n",
      "        \n",
      "        self.out.branch(\"AngleCM_Mu0Mu1\", \"F\")\n",
      "        self.out.branch(\"AngleCM_Mu0Pht\", \"F\")\n",
      "        self.out.branch(\"AngleCM_Mu1Pht\", \"F\")\n",
      "        self.out.branch(\"AngleCM_JpsiPht\", \"F\")\n",
      "        self.out.branch(\"AngleCM_RecoMu0\", \"F\")\n",
      "        self.out.branch(\"AngleCM_RecoMu1\", \"F\")\n",
      "        self.out.branch(\"AngleCM_RecoPht\", \"F\")\n",
      "        self.out.branch(\"AngleCM_RecoJPsi\", \"F\")\n",
      "\n",
      "        self.out.branch(\"DeltaPhiCM_Mu0Mu1\", \"F\")\n",
      "        self.out.branch(\"DeltaPhiCM_Mu0Pht\", \"F\")\n",
      "        self.out.branch(\"DeltaPhiCM_Mu1Pht\", \"F\")\n",
      "        self.out.branch(\"DeltaPhiCM_JpsiPht\", \"F\")\n",
      "        self.out.branch(\"DeltaPhiCM_RecoMu0\", \"F\")\n",
      "        self.out.branch(\"DeltaPhiCM_RecoMu1\", \"F\")\n",
      "        self.out.branch(\"DeltaPhiCM_RecoPht\", \"F\")\n",
      "        self.out.branch(\"DeltaPhiCM_RecoJPsi\", \"F\")\n",
      "                        \n",
      "        self.out.branch(\"DeltaRCM_Mu0Mu1\", \"F\")\n",
      "        self.out.branch(\"DeltaRCM_Mu0Pht\", \"F\")\n",
      "        self.out.branch(\"DeltaRCM_Mu1Pht\", \"F\")\n",
      "        self.out.branch(\"DeltaRCM_JpsiPht\", \"F\")\n",
      "        self.out.branch(\"DeltaRCM_RecoMu0\", \"F\")\n",
      "        self.out.branch(\"DeltaRCM_RecoMu1\", \"F\")\n",
      "        self.out.branch(\"DeltaRCM_RecoPht\", \"F\")\n",
      "        self.out.branch(\"DeltaRCM_RecoJPsi\", \"F\") \n",
      "\n",
      "               \n",
      "    def endFile(self, inputFile, outputFile, inputTree, wrappedOutputTree):\n",
      "        pass\n",
      "    def analyze(self, event):\n",
      "        \"\"\"process event, return True (go to next module) or False (fail, go to next event)\"\"\"\n",
      "        #electrons = Collection(event, \"Electron\")\n",
      "        if event.nMuon <2:\n",
      "            return False\n",
      "        if event.nPhoton <1:\n",
      "            return False\n",
      "        if event.Muon_charge[0] == event.Muon_charge[1] :\n",
      "            return False\n",
      "        \n",
      "\n",
      "        #introduce some light cuts to reduce size of skimmed files\n",
      "        #we have already done this this of cuts in the previous dataset \n",
      "        #these will be lighter but will eliminate lot's of not interesting events\n",
      "\n",
      "\n",
      "        #if ( mumuG.M() < 70  or mumuG.M() > 150 ): return False\n",
      "        #if (  mumu.M() < 2.8 or  mumu.M() > 3.3 ): return False\n",
      "        if event.Muon_pt[0]         <  15 : return False\n",
      "        if event.Muon_pt[1]         <   2 : return False\n",
      "        if event.Photon_pt[0]       <  25 : return False\n",
      "        if abs(event.Photon_eta[0]) > 2.9 : return False\n",
      "\n",
      "\n",
      "        \n",
      "        \n",
      "       # Mu = Collection(event, \"Muon\")\n",
      "       # Ph = Collection(event, \"Photon\")\n",
      "       # mumu  = ROOT.TLorentzVector()\n",
      "       # mumu  = Mu[0].p4() + Mu[1].p4()\n",
      "       # mumuG = ROOT.TLorentzVector()\n",
      "       # mumuG = Mu[0].p4() + Mu[1].p4() + Ph[0].p4()\n",
      "\n",
      "\n",
      "        Muons = Collection(event, \"Muon\")\n",
      "        Ph =Collection(event, \"Photon\")\n",
      "\n",
      "        mu0=ROOT.Math.PtEtaPhiMVector( event.Muon_pt[0]   , event.Muon_eta[0]    , \n",
      "                                       event.Muon_phi[0]  , event.Muon_mass[0]   )\n",
      "        mu1=ROOT.Math.PtEtaPhiMVector( event.Muon_pt[1]   , event.Muon_eta[1]    , \n",
      "                                       event.Muon_phi[1]  , event.Muon_mass[1]   )\n",
      "        pht=ROOT.Math.PtEtaPhiMVector( event.Photon_pt[0] , event.Photon_eta[0]  , \n",
      "                                       event.Photon_phi[0], event.Photon_mass[0] )\n",
      "\n",
      "        jpsi=mu0+mu1\n",
      "        reco=mu0+mu1+pht \n",
      "\n",
      "        mu0_cart = ROOT.Math.PxPyPzEVector(mu0.Px(), mu0.Py(), mu0.Pz(), mu0.E())\n",
      "        mu1_cart = ROOT.Math.PxPyPzEVector(mu1.Px(), mu1.Py(), mu1.Pz(), mu1.E())\n",
      "        pht_cart = ROOT.Math.PxPyPzEVector(pht.Px(), pht.Py(), pht.Pz(), pht.E())\n",
      "        jpsi_cart = mu0_cart+mu1_cart\n",
      "        reco_cart = mu0_cart+mu1_cart+pht_cart\n",
      "\n",
      "        betaCM  = reco_cart.BoostToCM()\n",
      "        boostCM = ROOT.Math.Boost(betaCM.X(), betaCM.Y(), betaCM.Z())\n",
      "\n",
      "        mu0_cartCM  = boostCM(mu0_cart)\n",
      "        mu1_cartCM  = boostCM(mu1_cart)\n",
      "        pht_cartCM  = boostCM(pht_cart)\n",
      "        jpsi_cartCM = boostCM(jpsi_cart)\n",
      "        reco_cartCM = boostCM(reco_cart)\n",
      "\n",
      "        \n",
      "                    \n",
      "        self.out.fillBranch(\"JPsi_mass\", jpsi.M())\n",
      "        self.out.fillBranch(\"JPsi_pt\"  , jpsi.Pt())\n",
      "        self.out.fillBranch(\"JPsi_eta\" , jpsi.Eta())\n",
      "        self.out.fillBranch(\"JPsi_phi\" , jpsi.Phi())\n",
      "        self.out.fillBranch(\"Reco_mass\", reco.M())\n",
      "        self.out.fillBranch(\"Reco_pt\"  , reco.Pt())\n",
      "        self.out.fillBranch(\"Reco_eta\" , reco.Eta())\n",
      "        self.out.fillBranch(\"Reco_phi\" , reco.Phi()) \n",
      "\n",
      "\n",
      "#we can use vUtil.Angle or vUtil.cosTheta, it the sama\n",
      "        self.out.fillBranch(\"AngleCM_Mu0Mu1\",   vUtil.CosTheta( mu0_cartCM.Vect() , mu1_cartCM.Vect()))\n",
      "        self.out.fillBranch(\"AngleCM_Mu0Pht\",   vUtil.CosTheta( mu0_cartCM.Vect() , pht_cartCM.Vect()))\n",
      "        self.out.fillBranch(\"AngleCM_Mu1Pht\",   vUtil.CosTheta( mu1_cartCM.Vect() , pht_cartCM.Vect()))\n",
      "        self.out.fillBranch(\"AngleCM_JpsiPht\",  vUtil.CosTheta(jpsi_cartCM.Vect() , pht_cartCM.Vect()))\n",
      "        self.out.fillBranch(\"AngleCM_RecoMu0\",  vUtil.CosTheta(reco_cartCM.Vect() , mu0_cartCM.Vect()))\n",
      "        self.out.fillBranch(\"AngleCM_RecoMu1\",  vUtil.CosTheta(reco_cartCM.Vect() , mu1_cartCM.Vect()))\n",
      "        self.out.fillBranch(\"AngleCM_RecoPht\",  vUtil.CosTheta(reco_cartCM.Vect() , pht_cartCM.Vect()))\n",
      "        self.out.fillBranch(\"AngleCM_RecoJPsi\", vUtil.CosTheta(reco_cartCM.Vect() ,jpsi_cartCM.Vect()))\n",
      "\n",
      "        \n",
      "        self.out.fillBranch(\"DeltaR_Mu0Mu1\",   vUtil.DeltaR( mu0,  mu1 ))\n",
      "        self.out.fillBranch(\"DeltaR_Mu0Pht\",   vUtil.DeltaR( mu0,  pht ))\n",
      "        self.out.fillBranch(\"DeltaR_Mu1Pht\",   vUtil.DeltaR( mu1,  pht ))\n",
      "        self.out.fillBranch(\"DeltaR_JpsiPht\",  vUtil.DeltaR(jpsi,  pht ))\n",
      "        self.out.fillBranch(\"DeltaR_RecoMu0\",  vUtil.DeltaR(reco,  mu0 ))\n",
      "        self.out.fillBranch(\"DeltaR_RecoMu1\",  vUtil.DeltaR(reco,  mu1 ))\n",
      "        self.out.fillBranch(\"DeltaR_RecoPht\",  vUtil.DeltaR(reco,  pht ))\n",
      "        self.out.fillBranch(\"DeltaR_RecoJPsi\", vUtil.DeltaR(reco, jpsi )) \n",
      "\n",
      "        #self.out.fillBranch(\"DeltaPhiCM_Mu0Mu1\",  vUtil.DeltaPhi( mu0_cartCM,  mu1_cartCM ))\n",
      "        #self.out.fillBranch(\"DeltaPhiCM_Mu0Pht\",  vUtil.DeltaPhi( mu0_cartCM,  pht_cartCM ))\n",
      "        #self.out.fillBranch(\"DeltaPhiCM_Mu1Pht\",  vUtil.DeltaPhi( mu1_cartCM,  pht_cartCM ))\n",
      "        #self.out.fillBranch(\"DeltaPhiCM_JpsiPht\", vUtil.DeltaPhi(jpsi_cartCM,  pht_cartCM ))\n",
      "        #self.out.fillBranch(\"DeltaPhiCM_RecoMu0\", vUtil.DeltaPhi(reco_cartCM,  mu0_cartCM ))\n",
      "        #self.out.fillBranch(\"DeltaPhiCM_RecoMu1\", vUtil.DeltaPhi(reco_cartCM,  mu1_cartCM ))\n",
      "        #self.out.fillBranch(\"DeltaPhiCM_RecoPht\", vUtil.DeltaPhi(reco_cartCM,  pht_cartCM ))\n",
      "        #self.out.fillBranch(\"DeltaPhiCM_RecoJPsi\",vUtil.DeltaPhi(reco_cartCM, jpsi_cartCM ))\n",
      "\n",
      "        self.out.fillBranch(\"DeltaPhiCM_Mu0Mu1\",   mu0_cartCM.Phi() -  mu1_cartCM.Phi())\n",
      "        self.out.fillBranch(\"DeltaPhiCM_Mu0Pht\",   mu0_cartCM.Phi() -  pht_cartCM.Phi())\n",
      "        self.out.fillBranch(\"DeltaPhiCM_Mu1Pht\",   mu1_cartCM.Phi() -  pht_cartCM.Phi())\n",
      "        self.out.fillBranch(\"DeltaPhiCM_JpsiPht\", jpsi_cartCM.Phi() -  pht_cartCM.Phi())\n",
      "        self.out.fillBranch(\"DeltaPhiCM_RecoMu0\", reco_cartCM.Phi() -  mu0_cartCM.Phi())\n",
      "        self.out.fillBranch(\"DeltaPhiCM_RecoMu1\", reco_cartCM.Phi() -  mu1_cartCM.Phi())\n",
      "        self.out.fillBranch(\"DeltaPhiCM_RecoPht\", reco_cartCM.Phi() -  pht_cartCM.Phi())\n",
      "        self.out.fillBranch(\"DeltaPhiCM_RecoJPsi\",reco_cartCM.Phi() - jpsi_cartCM.Phi())\n",
      "\n",
      "\n",
      "\n",
      "        self.out.fillBranch(\"DeltaRCM_Mu0Mu1\",  vUtil.DeltaR( mu0_cartCM,  mu1_cartCM ))\n",
      "        self.out.fillBranch(\"DeltaRCM_Mu0Pht\",  vUtil.DeltaR( mu0_cartCM,  pht_cartCM ))\n",
      "        self.out.fillBranch(\"DeltaRCM_Mu1Pht\",  vUtil.DeltaR( mu1_cartCM,  pht_cartCM ))\n",
      "        self.out.fillBranch(\"DeltaRCM_JpsiPht\", vUtil.DeltaR(jpsi_cartCM,  pht_cartCM ))\n",
      "        self.out.fillBranch(\"DeltaRCM_RecoMu0\", vUtil.DeltaR(reco_cartCM,  mu0_cartCM ))\n",
      "        self.out.fillBranch(\"DeltaRCM_RecoMu1\", vUtil.DeltaR(reco_cartCM,  mu1_cartCM ))\n",
      "        self.out.fillBranch(\"DeltaRCM_RecoPht\", vUtil.DeltaR(reco_cartCM,  pht_cartCM ))\n",
      "        self.out.fillBranch(\"DeltaRCM_RecoJPsi\",vUtil.DeltaR(reco_cartCM, jpsi_cartCM ))\n",
      "\n",
      "                \n",
      "\n",
      "        \n",
      "        #self.out.fillBranch( \"MuMu_invMass\",  mumu.M())\n",
      "        #self.out.fillBranch(\"MuMuG_invMass\", mumuG.M())        \n",
      "\n",
      "        return True\n",
      "\n",
      "\n",
      "# define modules using the syntax 'name = lambda : constructor' to avoid having them loaded when not needed\n",
      "\n",
      "MuMuGModuleConstr = lambda : MuMuGProducer()#jetSelection= lambda j : j.pt >= 0) \n",
      " \n"
     ]
    }
   ],
   "source": [
    "! cat ../postprocessor/mumuG_SelModule.py\n"
   ]
  },
  {
   "cell_type": "markdown",
   "metadata": {},
   "source": [
    "### 3.2. - Trigger  <a class=\"anchor\" id=\"FP.3.2.\"></a>\n",
    "* [Index](#FP.i)\n",
    "\n",
    "\n",
    "After the selection of the events we analyzed the trigger effect on the Signal and Background dataset, in particular we observed which triggers are present in most of the Background dataset while having an high efficiency on the Signal one, from this analysis"
   ]
  },
  {
   "cell_type": "code",
   "execution_count": 9,
   "metadata": {},
   "outputs": [
    {
     "name": "stdout",
     "output_type": "stream",
     "text": [
      "HLT_L1SingleMuOpen acc % 99.7098\n",
      "HLT_Mu8 acc % 96.8805\n",
      "HLT_L1SingleMu18 acc % 92.8989\n",
      "HLT_Mu3_PFJet40 acc % 92.6365\n",
      "HLT_TkMu17 acc % 92.6293\n",
      "HLT_Mu17 acc % 91.8064\n",
      "HLT_TkMu20 acc % 90.5703\n",
      "HLT_L2Mu10 acc % 89.5062\n",
      "HLT_Mu12_Photon25_CaloIdL_L1OR acc % 88.9799\n",
      "HLT_Mu12_Photon25_CaloIdL acc % 88.9799\n",
      "HLT_Mu7p5_Track2_Jpsi acc % 88.8761\n",
      "HLT_Mu7p5_Track3p5_Jpsi acc % 88.0069\n",
      "HLT_Mu20 acc % 86.0105\n",
      "HLT_Mu12_Photon25_CaloIdL_L1ISO acc % 85.7331\n",
      "HLT_Mu17_Photon22_CaloIdL_L1ISO acc % 83.9251\n",
      "HLT_Mu17_Photon30_CaloIdL_L1ISO acc % 83.7352\n",
      "HLT_Mu8_TrkIsoVVL acc % 81.4521\n",
      "HLT_TkMu24_eta2p1 acc % 81.3461\n",
      "HLT_Mu17_Photon35_CaloIdL_L1ISO acc % 81.0097\n",
      "HLT_Mu16_TkMu0_dEta18_Onia acc % 80.0708\n",
      "HLT_Mu17_TrkIsoVVL acc % 79.7814\n",
      "HLT_TkMu27 acc % 79.7451\n",
      "HLT_Mu23NoFiltersNoVtx_Photon23_CaloIdL acc % 78.4904\n",
      "HLT_Mu7p5_Track7_Jpsi acc % 76.5587\n",
      "HLT_Mu24_eta2p1 acc % 76.2735\n",
      "HLT_IsoTkMu18 acc % 73.9363\n",
      "HLT_Mu27 acc % 73.7301\n",
      "HLT_IsoTkMu20 acc % 73.2813\n",
      "HLT_IsoTkMu22 acc % 71.3573\n",
      "HLT_Mu16_eta2p1_MET30 acc % 71.3339\n",
      "HLT_Mu25_TkMu0_dEta18_Onia acc % 71.1539\n",
      "HLT_IsoTkMu24 acc % 69.0458\n",
      "HLT_Mu7p5_L2Mu2_Jpsi acc % 69.0365\n",
      "HLT_IsoTkMu22_eta2p1 acc % 68.1482\n",
      "HLT_IsoMu18 acc % 67.4554\n",
      "HLT_IsoMu20 acc % 66.8267\n",
      "HLT_L1SingleMuOpen_DT acc % 66.5927\n",
      "HLT_Dimuon6_Jpsi_NoVertexing acc % 66.0315\n",
      "HLT_IsoTkMu27 acc % 65.54\n",
      "HLT_TkMu17_TrkIsoVVL_TkMu8_TrkIsoVVL acc % 65.1588\n",
      "HLT_IsoMu17_eta2p1 acc % 64.9241\n",
      "HLT_IsoMu22 acc % 64.8238\n",
      "HLT_TkMu17_TrkIsoVVL_TkMu8_TrkIsoVVL_DZ acc % 64.2961\n",
      "HLT_IsoMu24 acc % 62.486\n",
      "HLT_IsoMu22_eta2p1 acc % 62.2961\n",
      "HLT_Dimuon16_Jpsi acc % 60.9774\n",
      "HLT_Dimuon20_Jpsi acc % 60.9753\n",
      "HLT_DoubleMu0 acc % 59.3401\n",
      "HLT_IsoMu27 acc % 58.8188\n",
      "HLT_Mu17_Mu8 acc % 56.7739\n",
      "HLT_Dimuon0er16_Jpsi_NoOS_NoVertexing acc % 55.2469\n",
      "HLT_Mu17_Mu8_DZ acc % 55.2163\n",
      "HLT_IsoMu16_eta2p1_MET30 acc % 55.1395\n",
      "HLT_Mu27_TkMu8 acc % 54.5228\n",
      "HLT_Mu17_TrkIsoVVL_Mu8_TrkIsoVVL acc % 54.0029\n",
      "HLT_Dimuon0er16_Jpsi_NoVertexing acc % 53.936\n",
      "HLT_Mu17_TrkIsoVVL_Mu8_TrkIsoVVL_DZ acc % 51.9744\n",
      "HLT_Mu20_Mu10 acc % 50.1479\n",
      "HLT_Mu20_Mu10_DZ acc % 48.719\n",
      "HLT_Mu38NoFiltersNoVtx_Photon38_CaloIdL acc % 44.8171\n"
     ]
    }
   ],
   "source": [
    "! head -n 60 ../Triggers/TrigAcce.txt"
   ]
  },
  {
   "cell_type": "markdown",
   "metadata": {},
   "source": [
    "From this analysis we decided to use the follwing triggers:\n",
    "- HLT_IsoMu27\n",
    "- HLT_Mu17_TrkIsoVVL_Mu8_TrkIsoVVL_DZ\n",
    "\n",
    "The Signal and Background dataset are then filtered using those triggers obtaining the foloowing distributions.\n",
    "\n",
    "# qualche plot"
   ]
  },
  {
   "cell_type": "markdown",
   "metadata": {},
   "source": [
    "### 3.3. - Cutted  <a class=\"anchor\" id=\"FP.3.3.\"></a>\n",
    "* [Index](#FP.i)\n",
    "\n",
    "The last selection is done by obserbing the distribution of the transverse momenta over the invariant mass for the photon, in particular from this plot\n",
    "\n",
    "# plot\n",
    "\n",
    "we decided to appply a selection for it to be bigger than 0.35.\n",
    "\n",
    "On the other hand we dedided not to apply any restriction over the angular variables since from this plots\n",
    "# plot angolari\n",
    "is visible that the Signal and Background distribution are similar, in particular this is probably due to the previous selections\n",
    "\n",
    "After this selection we arrived at our final dataset, composed of **numero eventi** events ....."
   ]
  },
  {
   "cell_type": "markdown",
   "metadata": {},
   "source": [
    "## 4. - Fit of background and signal distributions <a class=\"anchor\" id=\"FP.4.\"></a>\n",
    "* [Index](#FP.i)\n",
    "\n",
    "Once the quality cuts and trigger selection have been applied we are left with four different datasets: the Signal one and the Background one for the two selected triggers.\n",
    "\n",
    "In order to estimate the signal strength of this decay channel, which is the purpose of this work, it is important to obtain a PDF able to correctly describe the our data.\n",
    "\n",
    "## 4.1. - Background distributions <a class=\"anchor\" id=\"FP.4.1.\"></a>\n",
    "* [Index](#FP.i)\n",
    "\n",
    "The distribution of the reconstructed mass obtained from the above described selections are shown in the following"
   ]
  },
  {
   "cell_type": "markdown",
   "metadata": {},
   "source": [
    "<table>\n",
    "    <tr>\n",
    "        <td valign=\"top\"><img src=\"images/IsoMuMassBkg.png\"></td>\n",
    "        <td valign=\"top\"><img src=\"images/IsoTrkMassBkg.png\"></td>\n",
    "    </tr>\n",
    "</table>"
   ]
  },
  {
   "cell_type": "markdown",
   "metadata": {},
   "source": [
    "Given the form of these graphs we decided to fit the distributions using either an exponential PDF or polynomial function, in the first case the best case the best results have been obtained using a $2^{nd}$ degree polynomial while for the IsoTrk trigger the best results where given by an exponential PDF. The fit was performed using the Maximum Likelihood Estimation method over the binned dataset; it is important to notice that in order to avoid bias in future prediction the fit was performed while being \"blind\" in the signal region.\n",
    "\n",
    "These results of this procedure are shown below:"
   ]
  },
  {
   "cell_type": "markdown",
   "metadata": {},
   "source": [
    "<table>\n",
    "    <tr>\n",
    "        <td valign=\"top\"><img src=\"images/BkgFitEvents_IsoMu.png\"></td>\n",
    "        <td valign=\"top\"><img src=\"images/BkgFitEvents_IsoTrk.png\"></td>\n",
    "    </tr>\n",
    "</table>"
   ]
  },
  {
   "cell_type": "markdown",
   "metadata": {},
   "source": [
    "## 4.2. - Signal distributions <a class=\"anchor\" id=\"FP.4.2.\"></a>\n",
    "* [Index](#FP.i)\n",
    "\n",
    "As we did for the background we can also show the distribution of the simulated Signal events after the selections, since the trigger acceptance is similar and the other selection are equal for the datasets we expected these distribution to be very similar:"
   ]
  },
  {
   "cell_type": "markdown",
   "metadata": {},
   "source": [
    "<table>\n",
    "    <tr>\n",
    "        <td valign=\"top\"><img src=\"images/IsoMuMassSig.png\"></td>\n",
    "        <td valign=\"top\"><img src=\"images/IsoTrkMassSig.png\"></td>\n",
    "    </tr>\n",
    "</table>"
   ]
  },
  {
   "cell_type": "markdown",
   "metadata": {},
   "source": [
    "As expected the distributions are very similar so we also expect being able to fit them with the same distribution. Differently from the background distribution it is not possible to perform a fit of these distributions using a simple PDF, mainly due to the tails which are asymmetric.\n",
    "\n",
    "The model used for the fit was then defined by summing many PDFs but applying some constrains, in order to take care of the tail asymmetry we used a Cristall Ball function:\n",
    "\n",
    "$$f(x ; \\alpha, n, \\bar{x}, \\sigma)=N \\cdot\\left\\{\\begin{array}{ll}\n",
    "\\exp \\left(-\\frac{(x-\\bar{x})^{2}}{2 \\sigma^{2}}\\right), & \\text { for } \\frac{x-\\bar{x}}{\\sigma}>-\\alpha \\\\\n",
    "A \\cdot\\left(B-\\frac{x-\\bar{x}}{\\sigma}\\right)^{-n}, & \\text { for } \\frac{x-\\bar{x}}{\\sigma} \\leqslant-\\alpha\n",
    "\\end{array}\\right.$$\n",
    "\n",
    "To this PDF where then added three other gaussian distributions which allowed us to reproduce fairly well the form of the distribution. Since we expect the mass resonance to have a precise value we then imposed the center of the gaussians to be at the same position of the cristall ball function peak.\n",
    "\n",
    "The final PDF is then \n",
    "\n",
    "$$\\mathcal{S}(m) = f_c \\mathcal{CB}(m) + (1-f_c)\\mathcal{G_S} $$\n",
    "\n",
    "where $f_c$ is the fraction between the Cristall ball and the sum of the three gaussians $\\mathcal{G_3}$ which has the following form:\n",
    "\n",
    "$$\\mathcal{G_S}(m)= f_1\\mathcal{G_1}(m)+(1-f_1)\\left[ f_2\\mathcal{G_2}(m) + (1-f_2)\\mathcal{G_3}(m)\\right] $$\n",
    "\n",
    "where $f_{1,2}$ are the fraction between the PDFs and $\\mathcal{G_i}$ are gaussian distributions.\n",
    "\n",
    "The results are then:"
   ]
  },
  {
   "cell_type": "markdown",
   "metadata": {},
   "source": [
    "<table>\n",
    "    <tr>\n",
    "        <td valign=\"top\"><img src=\"images/SigFitEvents_IsoMu.png\"></td>\n",
    "        <td valign=\"top\"><img src=\"images/SigFitEvents_IsoTrk.png\"></td>\n",
    "    </tr>\n",
    "</table>"
   ]
  },
  {
   "cell_type": "markdown",
   "metadata": {},
   "source": [
    "## 5. - Statistical tests <a class=\"anchor\" id=\"FP.5.\"></a>\n",
    "* [Index](#FP.i)"
   ]
  },
  {
   "cell_type": "markdown",
   "metadata": {},
   "source": [
    "# JupyROOT test (to remove)"
   ]
  },
  {
   "cell_type": "markdown",
   "metadata": {},
   "source": [
    "### Non interactive (standard) cell"
   ]
  },
  {
   "cell_type": "code",
   "execution_count": 4,
   "metadata": {},
   "outputs": [
    {
     "name": "stderr",
     "output_type": "stream",
     "text": [
      "Warning in <TCanvas::Constructor>: Deleting canvas with same name: c1\n",
      "Warning in <TROOT::Append>: Replacing existing TH1: h1 (Potential memory leak).\n"
     ]
    },
    {
     "data": {
      "text/html": [
       "\n",
       "<div id=\"root_plot_2\"\n",
       "     style=\"width: 696px; height: 472px\">\n",
       "</div>\n",
       "\n",
       "<script>\n",
       " requirejs.config({\n",
       "     paths: {\n",
       "       'JSRootCore' : 'https://root.cern.ch/js/notebook//scripts/JSRootCore',\n",
       "     }\n",
       "   });\n",
       " require(['JSRootCore'],\n",
       "     function(Core) {\n",
       "       var obj = Core.JSONR_unref({\"_typename\":\"TCanvas\",\"fUniqueID\":0,\"fBits\":53673992,\"fLineColor\":1,\"fLineStyle\":1,\"fLineWidth\":1,\"fFillColor\":0,\"fFillStyle\":1001,\"fLeftMargin\":0.1,\"fRightMargin\":0.1,\"fBottomMargin\":0.1,\"fTopMargin\":0.1,\"fXfile\":2,\"fYfile\":2,\"fAfile\":1,\"fXstat\":0.99,\"fYstat\":0.99,\"fAstat\":2,\"fFrameFillColor\":0,\"fFrameLineColor\":1,\"fFrameFillStyle\":1001,\"fFrameLineStyle\":1,\"fFrameLineWidth\":1,\"fFrameBorderSize\":1,\"fFrameBorderMode\":0,\"fX1\":-3.75000005587936,\"fY1\":-3161.55023555385,\"fX2\":3.75000005587936,\"fY2\":28453.9502355538,\"fXtoAbsPixelk\":348.00005,\"fXtoPixelk\":348.00005,\"fXtoPixel\":92.7999986171722,\"fYtoAbsPixelk\":424.800047186661,\"fYtoPixelk\":424.800047186661,\"fYtoPixel\":-0.0149293856800193,\"fUtoAbsPixelk\":5e-5,\"fUtoPixelk\":5e-5,\"fUtoPixel\":696,\"fVtoAbsPixelk\":472.00005,\"fVtoPixelk\":472,\"fVtoPixel\":-472,\"fAbsPixeltoXk\":-3.75000005587936,\"fPixeltoXk\":-3.75000005587936,\"fPixeltoX\":0.0107758622295384,\"fAbsPixeltoYk\":28453.9502355538,\"fPixeltoYk\":-3161.55023555385,\"fPixeltoY\":-66.9819925235332,\"fXlowNDC\":0,\"fYlowNDC\":0,\"fXUpNDC\":0,\"fYUpNDC\":0,\"fWNDC\":1,\"fHNDC\":1,\"fAbsXlowNDC\":0,\"fAbsYlowNDC\":0,\"fAbsWNDC\":1,\"fAbsHNDC\":1,\"fUxmin\":-3,\"fUymin\":0,\"fUxmax\":3,\"fUymax\":25292.4,\"fTheta\":30,\"fPhi\":30,\"fAspectRatio\":0,\"fNumber\":0,\"fTickx\":0,\"fTicky\":0,\"fLogx\":0,\"fLogy\":0,\"fLogz\":0,\"fPadPaint\":0,\"fCrosshair\":0,\"fCrosshairPos\":0,\"fBorderSize\":2,\"fBorderMode\":0,\"fModified\":false,\"fGridx\":false,\"fGridy\":false,\"fAbsCoord\":false,\"fEditable\":true,\"fFixedAspectRatio\":false,\"fPrimitives\":{\"_typename\":\"TList\",\"name\":\"TList\",\"arr\":[{\"_typename\":\"TFrame\",\"fUniqueID\":0,\"fBits\":50331656,\"fLineColor\":1,\"fLineStyle\":1,\"fLineWidth\":1,\"fFillColor\":0,\"fFillStyle\":1001,\"fX1\":-3,\"fY1\":0,\"fX2\":3,\"fY2\":25292.4,\"fBorderSize\":1,\"fBorderMode\":0},{\"_typename\":\"TH1F\",\"fUniqueID\":0,\"fBits\":50331656,\"fName\":\"h1\",\"fTitle\":\"Histo from a Gaussian\",\"fLineColor\":602,\"fLineStyle\":1,\"fLineWidth\":1,\"fFillColor\":0,\"fFillStyle\":1001,\"fMarkerColor\":1,\"fMarkerStyle\":1,\"fMarkerSize\":1,\"fNcells\":102,\"fXaxis\":{\"_typename\":\"TAxis\",\"fUniqueID\":0,\"fBits\":50331648,\"fName\":\"xaxis\",\"fTitle\":\"\",\"fNdivisions\":510,\"fAxisColor\":1,\"fLabelColor\":1,\"fLabelFont\":42,\"fLabelOffset\":0.005,\"fLabelSize\":0.035,\"fTickLength\":0.03,\"fTitleOffset\":1,\"fTitleSize\":0.035,\"fTitleColor\":1,\"fTitleFont\":42,\"fNbins\":100,\"fXmin\":-3,\"fXmax\":3,\"fXbins\":[],\"fFirst\":0,\"fLast\":0,\"fBits2\":0,\"fTimeDisplay\":false,\"fTimeFormat\":\"\",\"fLabels\":null,\"fModLabs\":null},\"fYaxis\":{\"_typename\":\"TAxis\",\"fUniqueID\":0,\"fBits\":50331648,\"fName\":\"yaxis\",\"fTitle\":\"\",\"fNdivisions\":510,\"fAxisColor\":1,\"fLabelColor\":1,\"fLabelFont\":42,\"fLabelOffset\":0.005,\"fLabelSize\":0.035,\"fTickLength\":0.03,\"fTitleOffset\":0,\"fTitleSize\":0.035,\"fTitleColor\":1,\"fTitleFont\":42,\"fNbins\":1,\"fXmin\":0,\"fXmax\":1,\"fXbins\":[],\"fFirst\":0,\"fLast\":0,\"fBits2\":0,\"fTimeDisplay\":false,\"fTimeFormat\":\"\",\"fLabels\":null,\"fModLabs\":null},\"fZaxis\":{\"_typename\":\"TAxis\",\"fUniqueID\":0,\"fBits\":50331648,\"fName\":\"zaxis\",\"fTitle\":\"\",\"fNdivisions\":510,\"fAxisColor\":1,\"fLabelColor\":1,\"fLabelFont\":42,\"fLabelOffset\":0.005,\"fLabelSize\":0.035,\"fTickLength\":0.03,\"fTitleOffset\":1,\"fTitleSize\":0.035,\"fTitleColor\":1,\"fTitleFont\":42,\"fNbins\":1,\"fXmin\":0,\"fXmax\":1,\"fXbins\":[],\"fFirst\":0,\"fLast\":0,\"fBits2\":0,\"fTimeDisplay\":false,\"fTimeFormat\":\"\",\"fLabels\":null,\"fModLabs\":null},\"fBarOffset\":0,\"fBarWidth\":1000,\"fEntries\":1000000,\"fTsumw\":1000000,\"fTsumw2\":1000000,\"fTsumwx\":1504.59167586732,\"fTsumwx2\":974211.073783788,\"fMaximum\":-1111,\"fMinimum\":-1111,\"fNormFactor\":0,\"fContour\":[],\"fSumw2\":[],\"fOption\":\"\",\"fFunctions\":{\"_typename\":\"TList\",\"name\":\"TList\",\"arr\":[{\"_typename\":\"TPaveStats\",\"fUniqueID\":0,\"fBits\":50331657,\"fLineColor\":1,\"fLineStyle\":1,\"fLineWidth\":1,\"fFillColor\":0,\"fFillStyle\":1001,\"fX1\":2.10000015199185,\"fY1\":21340.4628179977,\"fX2\":3.60000019669533,\"fY2\":26398.9427803091,\"fX1NDC\":0.780000016093254,\"fY1NDC\":0.775000005960464,\"fX2NDC\":0.980000019073486,\"fY2NDC\":0.935000002384186,\"fBorderSize\":1,\"fInit\":1,\"fShadowColor\":1,\"fCornerRadius\":0,\"fOption\":\"brNDC\",\"fName\":\"stats\",\"fTextAngle\":0,\"fTextSize\":0,\"fTextAlign\":12,\"fTextColor\":1,\"fTextFont\":42,\"fLabel\":\"\",\"fLongest\":18,\"fMargin\":0.05,\"fLines\":{\"_typename\":\"TList\",\"name\":\"TList\",\"arr\":[{\"_typename\":\"TLatex\",\"fUniqueID\":0,\"fBits\":50331648,\"fName\":\"\",\"fTitle\":\"h1\",\"fTextAngle\":0,\"fTextSize\":0.0368,\"fTextAlign\":0,\"fTextColor\":0,\"fTextFont\":0,\"fX\":0,\"fY\":0,\"fLineColor\":1,\"fLineStyle\":1,\"fLineWidth\":2,\"fLimitFactorSize\":3,\"fOriginSize\":0.0368000008165836},{\"_typename\":\"TLatex\",\"fUniqueID\":0,\"fBits\":50331648,\"fName\":\"\",\"fTitle\":\"Entries = 1000000\",\"fTextAngle\":0,\"fTextSize\":0,\"fTextAlign\":0,\"fTextColor\":0,\"fTextFont\":0,\"fX\":0,\"fY\":0,\"fLineColor\":1,\"fLineStyle\":1,\"fLineWidth\":2,\"fLimitFactorSize\":3,\"fOriginSize\":0.04},{\"_typename\":\"TLatex\",\"fUniqueID\":0,\"fBits\":50331648,\"fName\":\"\",\"fTitle\":\"Mean  = 0.001505\",\"fTextAngle\":0,\"fTextSize\":0,\"fTextAlign\":0,\"fTextColor\":0,\"fTextFont\":0,\"fX\":0,\"fY\":0,\"fLineColor\":1,\"fLineStyle\":1,\"fLineWidth\":2,\"fLimitFactorSize\":3,\"fOriginSize\":0.04},{\"_typename\":\"TLatex\",\"fUniqueID\":0,\"fBits\":50331648,\"fName\":\"\",\"fTitle\":\"Std Dev   =  0.987\",\"fTextAngle\":0,\"fTextSize\":0,\"fTextAlign\":0,\"fTextColor\":0,\"fTextFont\":0,\"fX\":0,\"fY\":0,\"fLineColor\":1,\"fLineStyle\":1,\"fLineWidth\":2,\"fLimitFactorSize\":3,\"fOriginSize\":0.04}],\"opt\":[\"\",\"\",\"\",\"\"]},\"fOptFit\":0,\"fOptStat\":1111,\"fFitFormat\":\"5.4g\",\"fStatFormat\":\"6.4g\",\"fParent\":{\"$ref\":3}}],\"opt\":[\"brNDC\"]},\"fBufferSize\":0,\"fBuffer\":[],\"fBinStatErrOpt\":0,\"fStatOverflows\":2,\"fArray\":[0,280,385,370,520,555,662,804,961,1077,1254,1346,1688,1852,2159,2642,2742,3222,3688,3971,4497,5096,5714,6120,6775,7220,8171,8814,9554,10442,11185,12059,12699,13766,14558,15440,16305,17348,18330,19233,19833,20316,21053,21572,22150,22611,23159,23594,23857,23747,24088,24057,23756,23659,23563,23072,22597,22236,21932,21327,20409,19634,19010,18106,17179,16576,15585,14653,13661,12875,12078,11364,10443,9649,8968,8167,7401,6888,6258,5635,5044,4539,3991,3612,3151,2744,2473,2230,1895,1707,1425,1350,1072,993,759,716,560,499,398,358,262,0]},{\"_typename\":\"TPaveText\",\"fUniqueID\":0,\"fBits\":50331657,\"fLineColor\":1,\"fLineStyle\":1,\"fLineWidth\":1,\"fFillColor\":0,\"fFillStyle\":0,\"fX1\":-1.44353450426896,\"fY1\":26557.0203321309,\"fX2\":1.44353450426896,\"fY2\":28295.8728839528,\"fX1NDC\":0.307528735632184,\"fY1NDC\":0.940000003948808,\"fX2NDC\":0.692471264367816,\"fY2NDC\":0.995000004768372,\"fBorderSize\":0,\"fInit\":1,\"fShadowColor\":1,\"fCornerRadius\":0,\"fOption\":\"blNDC\",\"fName\":\"title\",\"fTextAngle\":0,\"fTextSize\":0,\"fTextAlign\":22,\"fTextColor\":1,\"fTextFont\":42,\"fLabel\":\"\",\"fLongest\":21,\"fMargin\":0.05,\"fLines\":{\"_typename\":\"TList\",\"name\":\"TList\",\"arr\":[{\"_typename\":\"TLatex\",\"fUniqueID\":0,\"fBits\":50331648,\"fName\":\"\",\"fTitle\":\"Histo from a Gaussian\",\"fTextAngle\":0,\"fTextSize\":0,\"fTextAlign\":0,\"fTextColor\":0,\"fTextFont\":0,\"fX\":0,\"fY\":0,\"fLineColor\":1,\"fLineStyle\":1,\"fLineWidth\":2,\"fLimitFactorSize\":3,\"fOriginSize\":0.0467500016093254}],\"opt\":[\"\"]}}],\"opt\":[\"\",\"\",\"blNDC\"]},\"fExecs\":null,\"fName\":\"c1\",\"fTitle\":\"\",\"fNumPaletteColor\":0,\"fNextPaletteColor\":0,\"fDISPLAY\":\"$DISPLAY\",\"fDoubleBuffer\":0,\"fRetained\":true,\"fXsizeUser\":0,\"fYsizeUser\":0,\"fXsizeReal\":20,\"fYsizeReal\":14.28571,\"fWindowTopX\":0,\"fWindowTopY\":0,\"fWindowWidth\":0,\"fWindowHeight\":0,\"fCw\":696,\"fCh\":472,\"fCatt\":{\"_typename\":\"TAttCanvas\",\"fXBetween\":2,\"fYBetween\":2,\"fTitleFromTop\":1.2,\"fXdate\":0.2,\"fYdate\":0.3,\"fAdate\":1},\"kMoveOpaque\":true,\"kResizeOpaque\":true,\"fHighLightColor\":2,\"fBatch\":true,\"kShowEventStatus\":false,\"kAutoExec\":true,\"kMenuBar\":true});\n",
       "       Core.draw(\"root_plot_2\", obj, \"\");\n",
       "     }\n",
       " );\n",
       "</script>\n"
      ],
      "text/plain": [
       "<IPython.core.display.HTML object>"
      ]
     },
     "metadata": {},
     "output_type": "display_data"
    }
   ],
   "source": [
    "c1 = TCanvas(\"c1\")\n",
    "h1 = TH1F(\"h1\",\"Histo from a Gaussian\",100,-3,3);\n",
    "h1.FillRandom(\"gaus\",1000000);\n",
    "h1.Draw()\n",
    "c1.Draw()"
   ]
  },
  {
   "cell_type": "markdown",
   "metadata": {},
   "source": [
    "### Interactive cell\n",
    "Just add ```%jsroot on```"
   ]
  },
  {
   "cell_type": "code",
   "execution_count": 3,
   "metadata": {},
   "outputs": [
    {
     "name": "stderr",
     "output_type": "stream",
     "text": [
      "Warning in <TCanvas::Constructor>: Deleting canvas with same name: c1\n",
      "Warning in <TROOT::Append>: Replacing existing TH1: h1 (Potential memory leak).\n"
     ]
    },
    {
     "data": {
      "text/html": [
       "\n",
       "<div id=\"root_plot_1\"\n",
       "     style=\"width: 696px; height: 472px\">\n",
       "</div>\n",
       "\n",
       "<script>\n",
       " requirejs.config({\n",
       "     paths: {\n",
       "       'JSRootCore' : 'https://root.cern.ch/js/notebook//scripts/JSRootCore',\n",
       "     }\n",
       "   });\n",
       " require(['JSRootCore'],\n",
       "     function(Core) {\n",
       "       var obj = Core.JSONR_unref({\"_typename\":\"TCanvas\",\"fUniqueID\":0,\"fBits\":53673992,\"fLineColor\":1,\"fLineStyle\":1,\"fLineWidth\":1,\"fFillColor\":0,\"fFillStyle\":1001,\"fLeftMargin\":0.1,\"fRightMargin\":0.1,\"fBottomMargin\":0.1,\"fTopMargin\":0.1,\"fXfile\":2,\"fYfile\":2,\"fAfile\":1,\"fXstat\":0.99,\"fYstat\":0.99,\"fAstat\":2,\"fFrameFillColor\":0,\"fFrameLineColor\":1,\"fFrameFillStyle\":1001,\"fFrameLineStyle\":1,\"fFrameLineWidth\":1,\"fFrameBorderSize\":1,\"fFrameBorderMode\":0,\"fX1\":-3.75000005587936,\"fY1\":-3156.69398519203,\"fX2\":3.75000005587936,\"fY2\":28410.243985192,\"fXtoAbsPixelk\":348.00005,\"fXtoPixelk\":348.00005,\"fXtoPixel\":92.7999986171722,\"fYtoAbsPixelk\":424.800047186661,\"fYtoPixelk\":424.800047186661,\"fYtoPixel\":-0.0149523530106984,\"fUtoAbsPixelk\":5e-5,\"fUtoPixelk\":5e-5,\"fUtoPixel\":696,\"fVtoAbsPixelk\":472.00005,\"fVtoPixelk\":472,\"fVtoPixel\":-472,\"fAbsPixeltoXk\":-3.75000005587936,\"fPixeltoXk\":-3.75000005587936,\"fPixeltoX\":0.0107758622295384,\"fAbsPixeltoYk\":28410.243985192,\"fPixeltoYk\":-3156.69398519203,\"fPixeltoY\":-66.8791058694577,\"fXlowNDC\":0,\"fYlowNDC\":0,\"fXUpNDC\":0,\"fYUpNDC\":0,\"fWNDC\":1,\"fHNDC\":1,\"fAbsXlowNDC\":0,\"fAbsYlowNDC\":0,\"fAbsWNDC\":1,\"fAbsHNDC\":1,\"fUxmin\":-3,\"fUymin\":0,\"fUxmax\":3,\"fUymax\":25253.55,\"fTheta\":30,\"fPhi\":30,\"fAspectRatio\":0,\"fNumber\":0,\"fTickx\":0,\"fTicky\":0,\"fLogx\":0,\"fLogy\":0,\"fLogz\":0,\"fPadPaint\":0,\"fCrosshair\":0,\"fCrosshairPos\":0,\"fBorderSize\":2,\"fBorderMode\":0,\"fModified\":false,\"fGridx\":false,\"fGridy\":false,\"fAbsCoord\":false,\"fEditable\":true,\"fFixedAspectRatio\":false,\"fPrimitives\":{\"_typename\":\"TList\",\"name\":\"TList\",\"arr\":[{\"_typename\":\"TFrame\",\"fUniqueID\":0,\"fBits\":50331656,\"fLineColor\":1,\"fLineStyle\":1,\"fLineWidth\":1,\"fFillColor\":0,\"fFillStyle\":1001,\"fX1\":-3,\"fY1\":0,\"fX2\":3,\"fY2\":25253.55,\"fBorderSize\":1,\"fBorderMode\":0},{\"_typename\":\"TH1F\",\"fUniqueID\":0,\"fBits\":50331656,\"fName\":\"h1\",\"fTitle\":\"Histo from a Gaussian\",\"fLineColor\":602,\"fLineStyle\":1,\"fLineWidth\":1,\"fFillColor\":0,\"fFillStyle\":1001,\"fMarkerColor\":1,\"fMarkerStyle\":1,\"fMarkerSize\":1,\"fNcells\":102,\"fXaxis\":{\"_typename\":\"TAxis\",\"fUniqueID\":0,\"fBits\":50331648,\"fName\":\"xaxis\",\"fTitle\":\"\",\"fNdivisions\":510,\"fAxisColor\":1,\"fLabelColor\":1,\"fLabelFont\":42,\"fLabelOffset\":0.005,\"fLabelSize\":0.035,\"fTickLength\":0.03,\"fTitleOffset\":1,\"fTitleSize\":0.035,\"fTitleColor\":1,\"fTitleFont\":42,\"fNbins\":100,\"fXmin\":-3,\"fXmax\":3,\"fXbins\":[],\"fFirst\":0,\"fLast\":0,\"fBits2\":0,\"fTimeDisplay\":false,\"fTimeFormat\":\"\",\"fLabels\":null,\"fModLabs\":null},\"fYaxis\":{\"_typename\":\"TAxis\",\"fUniqueID\":0,\"fBits\":50331648,\"fName\":\"yaxis\",\"fTitle\":\"\",\"fNdivisions\":510,\"fAxisColor\":1,\"fLabelColor\":1,\"fLabelFont\":42,\"fLabelOffset\":0.005,\"fLabelSize\":0.035,\"fTickLength\":0.03,\"fTitleOffset\":0,\"fTitleSize\":0.035,\"fTitleColor\":1,\"fTitleFont\":42,\"fNbins\":1,\"fXmin\":0,\"fXmax\":1,\"fXbins\":[],\"fFirst\":0,\"fLast\":0,\"fBits2\":0,\"fTimeDisplay\":false,\"fTimeFormat\":\"\",\"fLabels\":null,\"fModLabs\":null},\"fZaxis\":{\"_typename\":\"TAxis\",\"fUniqueID\":0,\"fBits\":50331648,\"fName\":\"zaxis\",\"fTitle\":\"\",\"fNdivisions\":510,\"fAxisColor\":1,\"fLabelColor\":1,\"fLabelFont\":42,\"fLabelOffset\":0.005,\"fLabelSize\":0.035,\"fTickLength\":0.03,\"fTitleOffset\":1,\"fTitleSize\":0.035,\"fTitleColor\":1,\"fTitleFont\":42,\"fNbins\":1,\"fXmin\":0,\"fXmax\":1,\"fXbins\":[],\"fFirst\":0,\"fLast\":0,\"fBits2\":0,\"fTimeDisplay\":false,\"fTimeFormat\":\"\",\"fLabels\":null,\"fModLabs\":null},\"fBarOffset\":0,\"fBarWidth\":1000,\"fEntries\":1000000,\"fTsumw\":1000000,\"fTsumw2\":1000000,\"fTsumwx\":689.634783147804,\"fTsumwx2\":973452.561551711,\"fMaximum\":-1111,\"fMinimum\":-1111,\"fNormFactor\":0,\"fContour\":[],\"fSumw2\":[],\"fOption\":\"\",\"fFunctions\":{\"_typename\":\"TList\",\"name\":\"TList\",\"arr\":[{\"_typename\":\"TPaveStats\",\"fUniqueID\":0,\"fBits\":50331657,\"fLineColor\":1,\"fLineStyle\":1,\"fLineWidth\":1,\"fFillColor\":0,\"fFillStyle\":1001,\"fX1\":2.10000015199185,\"fY1\":21307.6831300092,\"fX2\":3.60000019669533,\"fY2\":26358.3930923785,\"fX1NDC\":0.780000016093254,\"fY1NDC\":0.775000005960464,\"fX2NDC\":0.980000019073486,\"fY2NDC\":0.935000002384186,\"fBorderSize\":1,\"fInit\":1,\"fShadowColor\":1,\"fCornerRadius\":0,\"fOption\":\"brNDC\",\"fName\":\"stats\",\"fTextAngle\":0,\"fTextSize\":0,\"fTextAlign\":12,\"fTextColor\":1,\"fTextFont\":42,\"fLabel\":\"\",\"fLongest\":18,\"fMargin\":0.05,\"fLines\":{\"_typename\":\"TList\",\"name\":\"TList\",\"arr\":[{\"_typename\":\"TLatex\",\"fUniqueID\":0,\"fBits\":50331648,\"fName\":\"\",\"fTitle\":\"h1\",\"fTextAngle\":0,\"fTextSize\":0.0368,\"fTextAlign\":0,\"fTextColor\":0,\"fTextFont\":0,\"fX\":0,\"fY\":0,\"fLineColor\":1,\"fLineStyle\":1,\"fLineWidth\":2,\"fLimitFactorSize\":3,\"fOriginSize\":0.0368000008165836},{\"_typename\":\"TLatex\",\"fUniqueID\":0,\"fBits\":50331648,\"fName\":\"\",\"fTitle\":\"Entries = 1000000\",\"fTextAngle\":0,\"fTextSize\":0,\"fTextAlign\":0,\"fTextColor\":0,\"fTextFont\":0,\"fX\":0,\"fY\":0,\"fLineColor\":1,\"fLineStyle\":1,\"fLineWidth\":2,\"fLimitFactorSize\":3,\"fOriginSize\":0.04},{\"_typename\":\"TLatex\",\"fUniqueID\":0,\"fBits\":50331648,\"fName\":\"\",\"fTitle\":\"Mean  = 0.0006896\",\"fTextAngle\":0,\"fTextSize\":0,\"fTextAlign\":0,\"fTextColor\":0,\"fTextFont\":0,\"fX\":0,\"fY\":0,\"fLineColor\":1,\"fLineStyle\":1,\"fLineWidth\":2,\"fLimitFactorSize\":3,\"fOriginSize\":0.04},{\"_typename\":\"TLatex\",\"fUniqueID\":0,\"fBits\":50331648,\"fName\":\"\",\"fTitle\":\"Std Dev   = 0.9866\",\"fTextAngle\":0,\"fTextSize\":0,\"fTextAlign\":0,\"fTextColor\":0,\"fTextFont\":0,\"fX\":0,\"fY\":0,\"fLineColor\":1,\"fLineStyle\":1,\"fLineWidth\":2,\"fLimitFactorSize\":3,\"fOriginSize\":0.04}],\"opt\":[\"\",\"\",\"\",\"\"]},\"fOptFit\":0,\"fOptStat\":1111,\"fFitFormat\":\"5.4g\",\"fStatFormat\":\"6.4g\",\"fParent\":{\"$ref\":3}}],\"opt\":[\"brNDC\"]},\"fBufferSize\":0,\"fBuffer\":[],\"fBinStatErrOpt\":0,\"fStatOverflows\":2,\"fArray\":[0,300,364,420,480,551,697,776,922,1118,1186,1418,1651,1914,2204,2449,2832,3165,3522,4054,4423,5024,5523,6293,6930,7437,8123,8905,9733,10249,11271,12126,12845,13813,14700,15372,16511,17073,18191,18973,19593,20658,21156,21735,22336,22513,23258,23512,23836,23881,23881,23919,24051,23665,23632,22981,22559,22093,21772,21148,20503,19513,18900,17981,17335,16435,15508,14752,13881,13100,12133,11272,10447,9566,8936,8123,7577,6831,6128,5671,5128,4559,3970,3557,3136,2809,2519,2224,1909,1654,1424,1308,1064,929,776,666,568,493,381,329,288,0]},{\"_typename\":\"TPaveText\",\"fUniqueID\":0,\"fBits\":50331657,\"fLineColor\":1,\"fLineStyle\":1,\"fLineWidth\":1,\"fFillColor\":0,\"fFillStyle\":0,\"fX1\":-1.44353450426896,\"fY1\":26516.2278316207,\"fX2\":1.44353450426896,\"fY2\":28252.409445863,\"fX1NDC\":0.307528735632184,\"fY1NDC\":0.940000003948808,\"fX2NDC\":0.692471264367816,\"fY2NDC\":0.995000004768372,\"fBorderSize\":0,\"fInit\":1,\"fShadowColor\":1,\"fCornerRadius\":0,\"fOption\":\"blNDC\",\"fName\":\"title\",\"fTextAngle\":0,\"fTextSize\":0,\"fTextAlign\":22,\"fTextColor\":1,\"fTextFont\":42,\"fLabel\":\"\",\"fLongest\":21,\"fMargin\":0.05,\"fLines\":{\"_typename\":\"TList\",\"name\":\"TList\",\"arr\":[{\"_typename\":\"TLatex\",\"fUniqueID\":0,\"fBits\":50331648,\"fName\":\"\",\"fTitle\":\"Histo from a Gaussian\",\"fTextAngle\":0,\"fTextSize\":0,\"fTextAlign\":0,\"fTextColor\":0,\"fTextFont\":0,\"fX\":0,\"fY\":0,\"fLineColor\":1,\"fLineStyle\":1,\"fLineWidth\":2,\"fLimitFactorSize\":3,\"fOriginSize\":0.0467500016093254}],\"opt\":[\"\"]}}],\"opt\":[\"\",\"\",\"blNDC\"]},\"fExecs\":null,\"fName\":\"c1\",\"fTitle\":\"\",\"fNumPaletteColor\":0,\"fNextPaletteColor\":0,\"fDISPLAY\":\"$DISPLAY\",\"fDoubleBuffer\":0,\"fRetained\":true,\"fXsizeUser\":0,\"fYsizeUser\":0,\"fXsizeReal\":20,\"fYsizeReal\":14.28571,\"fWindowTopX\":0,\"fWindowTopY\":0,\"fWindowWidth\":0,\"fWindowHeight\":0,\"fCw\":696,\"fCh\":472,\"fCatt\":{\"_typename\":\"TAttCanvas\",\"fXBetween\":2,\"fYBetween\":2,\"fTitleFromTop\":1.2,\"fXdate\":0.2,\"fYdate\":0.3,\"fAdate\":1},\"kMoveOpaque\":true,\"kResizeOpaque\":true,\"fHighLightColor\":2,\"fBatch\":true,\"kShowEventStatus\":false,\"kAutoExec\":true,\"kMenuBar\":true});\n",
       "       Core.draw(\"root_plot_1\", obj, \"\");\n",
       "     }\n",
       " );\n",
       "</script>\n"
      ],
      "text/plain": [
       "<IPython.core.display.HTML object>"
      ]
     },
     "metadata": {},
     "output_type": "display_data"
    }
   ],
   "source": [
    "%jsroot on\n",
    "c1 = ROOT.TCanvas(\"c1\")\n",
    "h1 = ROOT.TH1F(\"h1\",\"Histo from a Gaussian\",100,-3,3);\n",
    "h1.FillRandom(\"gaus\",1000000);\n",
    "h1.Draw()\n",
    "c1.Draw()"
   ]
  }
 ],
 "metadata": {
  "kernelspec": {
   "display_name": "Python 3",
   "language": "python",
   "name": "python3"
  },
  "language_info": {
   "codemirror_mode": {
    "name": "ipython",
    "version": 3
   },
   "file_extension": ".py",
   "mimetype": "text/x-python",
   "name": "python",
   "nbconvert_exporter": "python",
   "pygments_lexer": "ipython3",
   "version": "3.7.3"
  }
 },
 "nbformat": 4,
 "nbformat_minor": 4
}
